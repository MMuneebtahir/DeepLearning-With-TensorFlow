{
 "cells": [
  {
   "cell_type": "markdown",
   "metadata": {
    "id": "kLECl_pK3b0o"
   },
   "source": [
    "# Transfer Learning with TensorFlow Part 2: Fine-tuning\n",
    "\n",
    "In the previous notebook, we covered transfer learning feature extraction, now it's time to learn about a new kind of transfer learning: finetuning."
   ]
  },
  {
   "cell_type": "code",
   "execution_count": 1,
   "metadata": {
    "colab": {
     "base_uri": "https://localhost:8080/"
    },
    "id": "tAHA-4CC7h3A",
    "outputId": "c62f23d1-9511-4ea8-8de0-92694b2fc5c3"
   },
   "outputs": [
    {
     "name": "stdout",
     "output_type": "stream",
     "text": [
      "/bin/bash: nvidia-smi: command not found\r\n"
     ]
    }
   ],
   "source": [
    "# Check if we're using a GPU\n",
    "!nvidia-smi"
   ]
  },
  {
   "cell_type": "markdown",
   "metadata": {
    "id": "qIT9NHgb7Flt"
   },
   "source": [
    "## Creating helper functions\n",
    "\n",
    "In previous notebooks, we've created a bunch of helper functions, now we could rewrite them all, however, this is tedious.\n",
    "\n",
    "So,its a good idea to put functions you'l want to use again in a script you can download and import into your notebooks (or elsewhere).\n",
    "\n",
    "Weve done this for some of the functions we've used previously here: https://raw.githubusercontent.com/mrdbourke/tensorflow-deep-learning/main/extras/helper_functions.py\n",
    "\n"
   ]
  },
  {
   "cell_type": "code",
   "execution_count": 2,
   "metadata": {
    "colab": {
     "base_uri": "https://localhost:8080/"
    },
    "id": "vfq2u9gR76hN",
    "outputId": "944d6950-9364-43c7-932e-0fe7e58e8dfa"
   },
   "outputs": [
    {
     "name": "stdout",
     "output_type": "stream",
     "text": [
      "--2024-02-27 14:44:30--  https://raw.githubusercontent.com/mrdbourke/tensorflow-deep-learning/main/extras/helper_functions.py\n",
      "Resolving raw.githubusercontent.com (raw.githubusercontent.com)... 185.199.110.133, 185.199.109.133, 185.199.108.133, ...\n",
      "Connecting to raw.githubusercontent.com (raw.githubusercontent.com)|185.199.110.133|:443... connected.\n",
      "HTTP request sent, awaiting response... 200 OK\n",
      "Length: 10246 (10K) [text/plain]\n",
      "Saving to: ‘helper_functions.py’\n",
      "\n",
      "helper_functions.py 100%[===================>]  10.01K  --.-KB/s    in 0.001s  \n",
      "\n",
      "2024-02-27 14:44:30 (15.8 MB/s) - ‘helper_functions.py’ saved [10246/10246]\n",
      "\n"
     ]
    }
   ],
   "source": [
    "!wget https://raw.githubusercontent.com/mrdbourke/tensorflow-deep-learning/main/extras/helper_functions.py"
   ]
  },
  {
   "cell_type": "code",
   "execution_count": 2,
   "metadata": {
    "id": "qFHD1ReJLTTq"
   },
   "outputs": [],
   "source": [
    "# import helper function we are going to use in this notebook\n",
    "from helper_functions import create_tensorboard_callback, plot_loss_curves, unzip_data, walk_through_dir"
   ]
  },
  {
   "cell_type": "markdown",
   "metadata": {
    "id": "KO7g5b61MGWh"
   },
   "source": [
    "> **Note:** If you are running this notebook in Google Colab, when it times out Colab will delete `helper_tunctions.py`, s0 you will have to redownload it if you want access to your helper functions."
   ]
  },
  {
   "cell_type": "markdown",
   "metadata": {
    "id": "1dfLVcpqMpUi"
   },
   "source": [
    "## Lets get some data\n",
    "\n",
    "“This time we'e going to see how we can use the pretrained models within `tf.keras.applications` and apply them to our own problem (recognizing images of food).\n",
    "\n",
    "link: https://www.tensorflow.org/api_docs/python/tf/keras/applications\n"
   ]
  },
  {
   "cell_type": "code",
   "execution_count": 4,
   "metadata": {
    "colab": {
     "base_uri": "https://localhost:8080/"
    },
    "id": "LN_2BQWlMv1_",
    "outputId": "a36cd706-da30-4dc8-e908-059791093bc2"
   },
   "outputs": [
    {
     "name": "stdout",
     "output_type": "stream",
     "text": [
      "--2024-02-27 14:44:36--  https://storage.googleapis.com/ztm_tf_course/food_vision/10_food_classes_10_percent.zip\n",
      "Resolving storage.googleapis.com (storage.googleapis.com)... 142.250.201.155, 172.217.169.251, 192.178.24.155, ...\n",
      "Connecting to storage.googleapis.com (storage.googleapis.com)|142.250.201.155|:443... connected.\n",
      "HTTP request sent, awaiting response... 200 OK\n",
      "Length: 168546183 (161M) [application/zip]\n",
      "Saving to: ‘10_food_classes_10_percent.zip’\n",
      "\n",
      "10_food_classes_10_ 100%[===================>] 160.74M  4.70MB/s    in 36s     \n",
      "\n",
      "2024-02-27 14:45:13 (4.44 MB/s) - ‘10_food_classes_10_percent.zip’ saved [168546183/168546183]\n",
      "\n"
     ]
    }
   ],
   "source": [
    "#  Get 10% of training data of 10 classes of Food101\n",
    "!wget https://storage.googleapis.com/ztm_tf_course/food_vision/10_food_classes_10_percent.zip\n",
    "\n",
    "unzip_data(\"10_food_classes_10_percent.zip\")"
   ]
  },
  {
   "cell_type": "code",
   "execution_count": 3,
   "metadata": {
    "colab": {
     "base_uri": "https://localhost:8080/"
    },
    "id": "vZOlt6TxN64p",
    "outputId": "0332bb75-3a8f-4f95-818e-8d6af4da14db"
   },
   "outputs": [
    {
     "name": "stdout",
     "output_type": "stream",
     "text": [
      "There are 2 directories and 0 images in '10_food_classes_10_percent'.\n",
      "There are 10 directories and 0 images in '10_food_classes_10_percent/train'.\n",
      "There are 0 directories and 75 images in '10_food_classes_10_percent/train/ice_cream'.\n",
      "There are 0 directories and 75 images in '10_food_classes_10_percent/train/chicken_wings'.\n",
      "There are 0 directories and 75 images in '10_food_classes_10_percent/train/steak'.\n",
      "There are 0 directories and 75 images in '10_food_classes_10_percent/train/sushi'.\n",
      "There are 0 directories and 75 images in '10_food_classes_10_percent/train/pizza'.\n",
      "There are 0 directories and 75 images in '10_food_classes_10_percent/train/grilled_salmon'.\n",
      "There are 0 directories and 75 images in '10_food_classes_10_percent/train/chicken_curry'.\n",
      "There are 0 directories and 75 images in '10_food_classes_10_percent/train/ramen'.\n",
      "There are 0 directories and 75 images in '10_food_classes_10_percent/train/fried_rice'.\n",
      "There are 0 directories and 75 images in '10_food_classes_10_percent/train/hamburger'.\n",
      "There are 10 directories and 0 images in '10_food_classes_10_percent/test'.\n",
      "There are 0 directories and 250 images in '10_food_classes_10_percent/test/ice_cream'.\n",
      "There are 0 directories and 250 images in '10_food_classes_10_percent/test/chicken_wings'.\n",
      "There are 0 directories and 250 images in '10_food_classes_10_percent/test/steak'.\n",
      "There are 0 directories and 250 images in '10_food_classes_10_percent/test/sushi'.\n",
      "There are 0 directories and 250 images in '10_food_classes_10_percent/test/pizza'.\n",
      "There are 0 directories and 250 images in '10_food_classes_10_percent/test/grilled_salmon'.\n",
      "There are 0 directories and 250 images in '10_food_classes_10_percent/test/chicken_curry'.\n",
      "There are 0 directories and 250 images in '10_food_classes_10_percent/test/ramen'.\n",
      "There are 0 directories and 250 images in '10_food_classes_10_percent/test/fried_rice'.\n",
      "There are 0 directories and 250 images in '10_food_classes_10_percent/test/hamburger'.\n"
     ]
    }
   ],
   "source": [
    "# check out how many images and subdirectories are in our dataset\n",
    "walk_through_dir(\"10_food_classes_10_percent\")"
   ]
  },
  {
   "cell_type": "code",
   "execution_count": 4,
   "metadata": {
    "id": "Q0jz25-dOOxI"
   },
   "outputs": [],
   "source": [
    "# Create training and test directory paths\n",
    "train_dir = \"10_food_classes_10_percent/train\"\n",
    "test_dir = \"10_food_classes_10_percent/test\""
   ]
  },
  {
   "cell_type": "code",
   "execution_count": 5,
   "metadata": {
    "colab": {
     "base_uri": "https://localhost:8080/"
    },
    "id": "0zBDpYbfPX8O",
    "outputId": "76c88563-4908-4790-f5b2-99f1f86a8a99"
   },
   "outputs": [
    {
     "name": "stdout",
     "output_type": "stream",
     "text": [
      "Found 750 files belonging to 10 classes.\n",
      "Found 2500 files belonging to 10 classes.\n"
     ]
    }
   ],
   "source": [
    "import tensorflow as tf\n",
    "IMG_SIZE = (224,224)\n",
    "BATCH_SIZE = 32\n",
    "tarin_data_10_percent = tf.keras.preprocessing.image_dataset_from_directory(directory = train_dir,\n",
    "                                                                            image_size = IMG_SIZE,\n",
    "                                                                            label_mode = \"categorical\",\n",
    "                                                                            batch_size = BATCH_SIZE)\n",
    "\n",
    "test_data = tf.keras.preprocessing.image_dataset_from_directory(directory = test_dir,\n",
    "                                                                            image_size = IMG_SIZE,\n",
    "                                                                            label_mode = \"categorical\",\n",
    "                                                                            batch_size = BATCH_SIZE)"
   ]
  },
  {
   "cell_type": "code",
   "execution_count": 6,
   "metadata": {
    "colab": {
     "base_uri": "https://localhost:8080/"
    },
    "id": "kvJtaoOkQ3nc",
    "outputId": "1e0491b9-ad51-4a35-98ec-0bcfe7e8d543"
   },
   "outputs": [
    {
     "data": {
      "text/plain": [
       "<BatchDataset shapes: ((None, 224, 224, 3), (None, 10)), types: (tf.float32, tf.float32)>"
      ]
     },
     "execution_count": 6,
     "metadata": {},
     "output_type": "execute_result"
    }
   ],
   "source": [
    "tarin_data_10_percent"
   ]
  },
  {
   "cell_type": "code",
   "execution_count": 7,
   "metadata": {
    "colab": {
     "base_uri": "https://localhost:8080/"
    },
    "id": "Uplrm5q9TPa6",
    "outputId": "3b14e378-8358-437a-bda0-fef3d07b2ca6"
   },
   "outputs": [
    {
     "data": {
      "text/plain": [
       "['chicken_curry',\n",
       " 'chicken_wings',\n",
       " 'fried_rice',\n",
       " 'grilled_salmon',\n",
       " 'hamburger',\n",
       " 'ice_cream',\n",
       " 'pizza',\n",
       " 'ramen',\n",
       " 'steak',\n",
       " 'sushi']"
      ]
     },
     "execution_count": 7,
     "metadata": {},
     "output_type": "execute_result"
    }
   ],
   "source": [
    "#  Check out the clas name =s of our data set\n",
    "tarin_data_10_percent.class_names"
   ]
  },
  {
   "cell_type": "code",
   "execution_count": 8,
   "metadata": {
    "colab": {
     "base_uri": "https://localhost:8080/"
    },
    "id": "pfBVNo12T5Op",
    "outputId": "7b53b4b4-bb22-4ca4-86e7-2309b943a3e7"
   },
   "outputs": [
    {
     "name": "stdout",
     "output_type": "stream",
     "text": [
      "tf.Tensor(\n",
      "[[[[1.77142849e+01 1.67142849e+01 1.17142859e+01]\n",
      "   [1.83112240e+01 1.73112240e+01 1.23112249e+01]\n",
      "   [2.27091846e+01 1.97091846e+01 1.47091837e+01]\n",
      "   ...\n",
      "   [5.55714722e+01 3.93572083e+01 2.70000000e+01]\n",
      "   [5.74285316e+01 3.94999733e+01 2.53570900e+01]\n",
      "   [5.55562401e+01 3.85562401e+01 2.13827248e+01]]\n",
      "\n",
      "  [[1.50255098e+01 1.40255098e+01 9.02550983e+00]\n",
      "   [1.61377544e+01 1.31377544e+01 8.13775444e+00]\n",
      "   [1.95714283e+01 1.65714283e+01 1.15714283e+01]\n",
      "   ...\n",
      "   [5.48418617e+01 3.78418617e+01 2.78418598e+01]\n",
      "   [5.60612106e+01 3.80663109e+01 2.57805729e+01]\n",
      "   [5.53112602e+01 3.77143555e+01 2.29081688e+01]]\n",
      "\n",
      "  [[1.57091837e+01 1.17091837e+01 9.13775539e+00]\n",
      "   [1.52551022e+01 1.12551022e+01 8.68367386e+00]\n",
      "   [1.61683674e+01 1.19081631e+01 9.38265324e+00]\n",
      "   ...\n",
      "   [5.33826141e+01 3.63826141e+01 2.71478863e+01]\n",
      "   [5.33724785e+01 3.53724785e+01 2.52602119e+01]\n",
      "   [5.51989212e+01 3.71989212e+01 2.56274929e+01]]\n",
      "\n",
      "  ...\n",
      "\n",
      "  [[1.50611744e+01 1.10611744e+01 1.16326466e+01]\n",
      "   [1.87703438e+01 1.47703438e+01 1.53418159e+01]\n",
      "   [1.86428146e+01 1.46428137e+01 1.53061132e+01]\n",
      "   ...\n",
      "   [1.30000000e+01 1.10000000e+01 1.40000000e+01]\n",
      "   [1.01581297e+01 8.15812969e+00 1.11581297e+01]\n",
      "   [9.70917511e+00 7.70917511e+00 1.07091751e+01]]\n",
      "\n",
      "  [[1.94795742e+01 1.44795752e+01 1.84795742e+01]\n",
      "   [2.09999866e+01 1.59999866e+01 1.99999866e+01]\n",
      "   [2.30867500e+01 1.90867500e+01 2.00867500e+01]\n",
      "   ...\n",
      "   [1.13878231e+01 9.38782310e+00 1.23878231e+01]\n",
      "   [1.19285583e+01 9.92855835e+00 1.29285583e+01]\n",
      "   [1.22602186e+01 1.02602186e+01 1.32602186e+01]]\n",
      "\n",
      "  [[2.04287453e+01 1.54287462e+01 1.94287453e+01]\n",
      "   [1.84796314e+01 1.34796314e+01 1.74796314e+01]\n",
      "   [1.97141800e+01 1.47141809e+01 1.87141800e+01]\n",
      "   ...\n",
      "   [1.17193527e+01 9.71935272e+00 1.27193527e+01]\n",
      "   [1.23826952e+01 1.03826952e+01 1.33826952e+01]\n",
      "   [1.12296019e+01 9.22960186e+00 1.22296019e+01]]]\n",
      "\n",
      "\n",
      " [[[3.60000000e+01 0.00000000e+00 0.00000000e+00]\n",
      "   [3.60000000e+01 0.00000000e+00 0.00000000e+00]\n",
      "   [3.60000000e+01 0.00000000e+00 0.00000000e+00]\n",
      "   ...\n",
      "   [3.60000000e+01 1.00000000e+00 0.00000000e+00]\n",
      "   [3.80000000e+01 0.00000000e+00 0.00000000e+00]\n",
      "   [3.90000000e+01 0.00000000e+00 0.00000000e+00]]\n",
      "\n",
      "  [[3.60000000e+01 0.00000000e+00 0.00000000e+00]\n",
      "   [3.60000000e+01 0.00000000e+00 0.00000000e+00]\n",
      "   [3.60000000e+01 0.00000000e+00 0.00000000e+00]\n",
      "   ...\n",
      "   [3.75714722e+01 2.14263916e-01 0.00000000e+00]\n",
      "   [3.80000000e+01 0.00000000e+00 0.00000000e+00]\n",
      "   [3.80000000e+01 0.00000000e+00 0.00000000e+00]]\n",
      "\n",
      "  [[3.60000000e+01 0.00000000e+00 0.00000000e+00]\n",
      "   [3.60000000e+01 0.00000000e+00 0.00000000e+00]\n",
      "   [3.60000000e+01 0.00000000e+00 0.00000000e+00]\n",
      "   ...\n",
      "   [3.80459137e+01 0.00000000e+00 0.00000000e+00]\n",
      "   [3.75714264e+01 2.14285851e-01 0.00000000e+00]\n",
      "   [3.60000000e+01 1.00000000e+00 0.00000000e+00]]\n",
      "\n",
      "  ...\n",
      "\n",
      "  [[3.80000000e+01 0.00000000e+00 0.00000000e+00]\n",
      "   [3.80000000e+01 0.00000000e+00 0.00000000e+00]\n",
      "   [3.80000000e+01 0.00000000e+00 0.00000000e+00]\n",
      "   ...\n",
      "   [3.80000000e+01 0.00000000e+00 0.00000000e+00]\n",
      "   [3.80000000e+01 0.00000000e+00 0.00000000e+00]\n",
      "   [3.80000000e+01 0.00000000e+00 0.00000000e+00]]\n",
      "\n",
      "  [[3.80000000e+01 0.00000000e+00 0.00000000e+00]\n",
      "   [3.80000000e+01 0.00000000e+00 0.00000000e+00]\n",
      "   [3.80000000e+01 0.00000000e+00 0.00000000e+00]\n",
      "   ...\n",
      "   [3.80000000e+01 0.00000000e+00 0.00000000e+00]\n",
      "   [3.80000000e+01 0.00000000e+00 0.00000000e+00]\n",
      "   [3.80000000e+01 0.00000000e+00 0.00000000e+00]]\n",
      "\n",
      "  [[3.80000000e+01 0.00000000e+00 0.00000000e+00]\n",
      "   [3.80000000e+01 0.00000000e+00 0.00000000e+00]\n",
      "   [3.80000000e+01 0.00000000e+00 0.00000000e+00]\n",
      "   ...\n",
      "   [3.80000000e+01 0.00000000e+00 0.00000000e+00]\n",
      "   [3.80000000e+01 0.00000000e+00 0.00000000e+00]\n",
      "   [3.80000000e+01 0.00000000e+00 0.00000000e+00]]]\n",
      "\n",
      "\n",
      " [[[7.76428604e+01 9.96428604e+01 1.49642853e+02]\n",
      "   [7.76801682e+01 9.96801682e+01 1.49680161e+02]\n",
      "   [7.85583572e+01 1.00558357e+02 1.50558350e+02]\n",
      "   ...\n",
      "   [6.54242630e+01 9.23566513e+01 1.03745407e+02]\n",
      "   [5.24299774e+01 8.03553848e+01 9.23926849e+01]\n",
      "   [4.86176682e+01 7.81642456e+01 8.93909531e+01]]\n",
      "\n",
      "  [[8.00000000e+01 1.02000000e+02 1.52000000e+02]\n",
      "   [8.09285736e+01 1.02928574e+02 1.52928574e+02]\n",
      "   [8.09285736e+01 1.02928574e+02 1.52928574e+02]\n",
      "   ...\n",
      "   [5.71635780e+01 8.11412277e+01 9.35430679e+01]\n",
      "   [5.31647720e+01 7.91377335e+01 9.21243134e+01]\n",
      "   [5.03737106e+01 7.77187653e+01 9.00462418e+01]]\n",
      "\n",
      "  [[7.93526764e+01 1.01352676e+02 1.51352676e+02]\n",
      "   [8.02598877e+01 1.02259888e+02 1.52259888e+02]\n",
      "   [8.10000000e+01 1.03000000e+02 1.53000000e+02]\n",
      "   ...\n",
      "   [6.66951904e+01 8.86951904e+01 1.01931824e+02]\n",
      "   [6.72474365e+01 9.01894226e+01 1.04189423e+02]\n",
      "   [5.64058228e+01 8.24058228e+01 9.54058228e+01]]\n",
      "\n",
      "  ...\n",
      "\n",
      "  [[1.04352676e+02 1.34352676e+02 1.84352676e+02]\n",
      "   [1.05156227e+02 1.35156235e+02 1.87156235e+02]\n",
      "   [1.03287308e+02 1.33287308e+02 1.85287308e+02]\n",
      "   ...\n",
      "   [1.39814072e+02 1.57814072e+02 1.60614456e+02]\n",
      "   [1.39214264e+02 1.57214264e+02 1.61214264e+02]\n",
      "   [1.37781189e+02 1.55781189e+02 1.59781189e+02]]\n",
      "\n",
      "  [[1.03974808e+02 1.33974808e+02 1.83974808e+02]\n",
      "   [1.03928558e+02 1.33928558e+02 1.85928558e+02]\n",
      "   [1.03983093e+02 1.33983093e+02 1.85983093e+02]\n",
      "   ...\n",
      "   [1.40874023e+02 1.55874023e+02 1.58874023e+02]\n",
      "   [1.40928558e+02 1.55928558e+02 1.58928558e+02]\n",
      "   [1.41000000e+02 1.56000000e+02 1.61000000e+02]]\n",
      "\n",
      "  [[1.03647324e+02 1.33647324e+02 1.83647324e+02]\n",
      "   [1.02058037e+02 1.32058029e+02 1.84058029e+02]\n",
      "   [1.04036057e+02 1.34036057e+02 1.86036057e+02]\n",
      "   ...\n",
      "   [1.37370163e+02 1.52370163e+02 1.55370163e+02]\n",
      "   [1.38248352e+02 1.53248352e+02 1.56248352e+02]\n",
      "   [1.38932983e+02 1.53932983e+02 1.56932983e+02]]]\n",
      "\n",
      "\n",
      " ...\n",
      "\n",
      "\n",
      " [[[2.19652115e+02 1.74883286e+02 1.77420914e+02]\n",
      "   [2.35761475e+02 1.90761475e+02 1.97669006e+02]\n",
      "   [2.27246170e+02 1.86027740e+02 1.85821747e+02]\n",
      "   ...\n",
      "   [2.19810425e+02 1.90100540e+02 1.86408783e+02]\n",
      "   [2.34971100e+02 1.97471405e+02 2.14208099e+02]\n",
      "   [2.52126694e+02 2.08806824e+02 2.39699753e+02]]\n",
      "\n",
      "  [[2.24403061e+02 1.79365753e+02 1.84593750e+02]\n",
      "   [2.33808670e+02 1.87808670e+02 1.97866699e+02]\n",
      "   [2.35792084e+02 1.94376923e+02 1.96622452e+02]\n",
      "   ...\n",
      "   [2.11934418e+02 1.76617355e+02 1.57934525e+02]\n",
      "   [2.24007492e+02 1.83453247e+02 1.83074509e+02]\n",
      "   [2.30775864e+02 1.84601761e+02 1.95366821e+02]]\n",
      "\n",
      "  [[2.28422516e+02 1.82507019e+02 1.94543686e+02]\n",
      "   [2.38299423e+02 1.91536041e+02 2.06352997e+02]\n",
      "   [2.39468430e+02 1.97111282e+02 2.03709503e+02]\n",
      "   ...\n",
      "   [2.27932220e+02 1.85481613e+02 1.42829651e+02]\n",
      "   [2.35427887e+02 1.86302872e+02 1.57973541e+02]\n",
      "   [2.27900696e+02 1.74811066e+02 1.56209106e+02]]\n",
      "\n",
      "  ...\n",
      "\n",
      "  [[1.23485931e+02 1.14758560e+02 9.43737030e+01]\n",
      "   [1.55504120e+02 1.43504120e+02 1.28885880e+02]\n",
      "   [1.94218323e+02 1.81624557e+02 1.75349243e+02]\n",
      "   ...\n",
      "   [2.54000000e+02 2.54000000e+02 2.54000000e+02]\n",
      "   [2.54000000e+02 2.54000000e+02 2.54000000e+02]\n",
      "   [2.54000000e+02 2.54000000e+02 2.54000000e+02]]\n",
      "\n",
      "  [[1.08832489e+02 9.60645447e+01 6.14126282e+01]\n",
      "   [9.56287460e+01 7.99280853e+01 5.38154335e+01]\n",
      "   [1.37448807e+02 1.25033646e+02 1.10597000e+02]\n",
      "   ...\n",
      "   [2.54000000e+02 2.54000000e+02 2.54000000e+02]\n",
      "   [2.54000000e+02 2.54000000e+02 2.54000000e+02]\n",
      "   [2.54000000e+02 2.54000000e+02 2.54000000e+02]]\n",
      "\n",
      "  [[9.68675919e+01 8.28041000e+01 3.96943817e+01]\n",
      "   [9.58720093e+01 7.76487579e+01 4.53244095e+01]\n",
      "   [1.07696075e+02 9.23216934e+01 7.40356369e+01]\n",
      "   ...\n",
      "   [2.54000000e+02 2.54000000e+02 2.54000000e+02]\n",
      "   [2.54000000e+02 2.54000000e+02 2.54000000e+02]\n",
      "   [2.54000000e+02 2.54000000e+02 2.54000000e+02]]]\n",
      "\n",
      "\n",
      " [[[2.39897964e+02 2.36255112e+02 2.23826538e+02]\n",
      "   [2.44790817e+02 2.37816330e+02 2.28959183e+02]\n",
      "   [2.44025513e+02 2.32811218e+02 2.31668365e+02]\n",
      "   ...\n",
      "   [2.26581680e+02 2.10581680e+02 2.22010208e+02]\n",
      "   [2.24994888e+02 2.08994888e+02 2.18994888e+02]\n",
      "   [2.20137650e+02 2.05137650e+02 2.12137650e+02]]\n",
      "\n",
      "  [[2.40209183e+02 2.36280624e+02 2.36852051e+02]\n",
      "   [2.39551025e+02 2.34352036e+02 2.31336731e+02]\n",
      "   [2.43755096e+02 2.34285706e+02 2.35770416e+02]\n",
      "   ...\n",
      "   [2.23989990e+02 2.07989990e+02 2.19418518e+02]\n",
      "   [2.18561295e+02 2.02561295e+02 2.12561295e+02]\n",
      "   [2.26168030e+02 2.11168030e+02 2.18168030e+02]]\n",
      "\n",
      "  [[2.45846939e+02 2.40489792e+02 2.50275513e+02]\n",
      "   [2.40459183e+02 2.34887741e+02 2.45943878e+02]\n",
      "   [2.35525513e+02 2.29051025e+02 2.44357147e+02]\n",
      "   ...\n",
      "   [2.23964432e+02 2.07964432e+02 2.19729706e+02]\n",
      "   [2.18071472e+02 2.02071472e+02 2.13015335e+02]\n",
      "   [2.26372330e+02 2.10372330e+02 2.20372330e+02]]\n",
      "\n",
      "  ...\n",
      "\n",
      "  [[2.27387726e+02 2.21387726e+02 2.23387726e+02]\n",
      "   [2.26724457e+02 2.20724457e+02 2.22724457e+02]\n",
      "   [2.30933685e+02 2.24290833e+02 2.26505112e+02]\n",
      "   ...\n",
      "   [2.33954086e+02 2.30596878e+02 2.28954086e+02]\n",
      "   [2.32127518e+02 2.28770309e+02 2.27127518e+02]\n",
      "   [2.34214447e+02 2.30857239e+02 2.29214447e+02]]\n",
      "\n",
      "  [[2.29862259e+02 2.23862259e+02 2.25862259e+02]\n",
      "   [2.28918396e+02 2.22918396e+02 2.24918396e+02]\n",
      "   [2.30612228e+02 2.23969376e+02 2.26183655e+02]\n",
      "   ...\n",
      "   [2.34612305e+02 2.28612305e+02 2.30612305e+02]\n",
      "   [2.34142883e+02 2.28142883e+02 2.30142883e+02]\n",
      "   [2.35045929e+02 2.29045929e+02 2.31045929e+02]]\n",
      "\n",
      "  [[2.29280563e+02 2.23280563e+02 2.25280563e+02]\n",
      "   [2.30295868e+02 2.24295868e+02 2.26295868e+02]\n",
      "   [2.31367355e+02 2.24724503e+02 2.26938797e+02]\n",
      "   ...\n",
      "   [2.39005173e+02 2.30005173e+02 2.35005173e+02]\n",
      "   [2.36785706e+02 2.27785706e+02 2.32785706e+02]\n",
      "   [2.38642822e+02 2.29642822e+02 2.34642822e+02]]]\n",
      "\n",
      "\n",
      " [[[1.00000000e+00 1.00000000e+00 1.00000000e+00]\n",
      "   [1.00000000e+00 1.00000000e+00 1.00000000e+00]\n",
      "   [2.00000000e+00 2.00000000e+00 2.00000000e+00]\n",
      "   ...\n",
      "   [1.03877735e+01 8.10205936e+00 1.38777375e+00]\n",
      "   [1.05714283e+01 8.28571415e+00 1.59184051e+00]\n",
      "   [9.35710812e+00 7.07139349e+00 9.48974550e-01]]\n",
      "\n",
      "  [[1.00000000e+00 1.00000000e+00 1.00000000e+00]\n",
      "   [1.00000000e+00 1.00000000e+00 1.00000000e+00]\n",
      "   [2.00000000e+00 2.00000000e+00 2.00000000e+00]\n",
      "   ...\n",
      "   [6.37754154e+00 1.01836548e+01 5.33674431e+00]\n",
      "   [6.28571415e+00 1.00000000e+01 6.42859745e+00]\n",
      "   [6.51018429e+00 1.02244701e+01 8.51018429e+00]]\n",
      "\n",
      "  [[1.00000000e+00 1.00000000e+00 1.00000000e+00]\n",
      "   [1.00000000e+00 1.00000000e+00 1.00000000e+00]\n",
      "   [2.00000000e+00 2.00000000e+00 2.00000000e+00]\n",
      "   ...\n",
      "   [9.92854881e+00 1.17040539e+01 1.80611372e+00]\n",
      "   [9.05102921e+00 1.07142859e+01 4.62248516e+00]\n",
      "   [1.07142849e+01 1.17142859e+01 8.39798450e+00]]\n",
      "\n",
      "  ...\n",
      "\n",
      "  [[3.79286156e+01 2.79286156e+01 1.59286156e+01]\n",
      "   [3.07449150e+01 2.20714626e+01 1.08367777e+01]\n",
      "   [2.66326160e+01 1.80612049e+01 6.77549982e+00]\n",
      "   ...\n",
      "   [5.92754211e+01 3.45306320e+01 2.13979130e+01]\n",
      "   [5.44796181e+01 3.64184418e+01 1.88266201e+01]\n",
      "   [5.28264809e+01 3.64591637e+01 2.18469181e+01]]\n",
      "\n",
      "  [[3.20714989e+01 2.20714989e+01 1.00714979e+01]\n",
      "   [2.96224365e+01 1.96224365e+01 7.62243652e+00]\n",
      "   [3.22550240e+01 2.22550220e+01 1.02550220e+01]\n",
      "   ...\n",
      "   [6.19998779e+01 3.55713501e+01 2.29998779e+01]\n",
      "   [5.42244682e+01 3.22449455e+01 1.59286194e+01]\n",
      "   [5.42243729e+01 3.61632195e+01 2.27244930e+01]]\n",
      "\n",
      "  [[2.91938725e+01 1.98061199e+01 7.49999571e+00]\n",
      "   [3.15204163e+01 2.15204163e+01 9.52041721e+00]\n",
      "   [3.59285812e+01 2.62347031e+01 1.18469372e+01]\n",
      "   ...\n",
      "   [6.46938782e+01 3.71020203e+01 2.52040386e+01]\n",
      "   [5.93673820e+01 3.64388237e+01 2.21735306e+01]\n",
      "   [5.60304527e+01 3.67753220e+01 2.37958336e+01]]]], shape=(32, 224, 224, 3), dtype=float32) tf.Tensor(\n",
      "[[1. 0. 0. 0. 0. 0. 0. 0. 0. 0.]\n",
      " [0. 0. 0. 0. 0. 0. 0. 0. 0. 1.]\n",
      " [0. 0. 0. 0. 0. 0. 1. 0. 0. 0.]\n",
      " [0. 0. 0. 0. 0. 0. 1. 0. 0. 0.]\n",
      " [0. 0. 1. 0. 0. 0. 0. 0. 0. 0.]\n",
      " [0. 1. 0. 0. 0. 0. 0. 0. 0. 0.]\n",
      " [0. 0. 0. 0. 0. 0. 1. 0. 0. 0.]\n",
      " [1. 0. 0. 0. 0. 0. 0. 0. 0. 0.]\n",
      " [0. 0. 0. 0. 0. 0. 0. 1. 0. 0.]\n",
      " [0. 0. 1. 0. 0. 0. 0. 0. 0. 0.]\n",
      " [0. 0. 0. 0. 0. 1. 0. 0. 0. 0.]\n",
      " [0. 1. 0. 0. 0. 0. 0. 0. 0. 0.]\n",
      " [0. 0. 0. 0. 0. 0. 0. 0. 0. 1.]\n",
      " [1. 0. 0. 0. 0. 0. 0. 0. 0. 0.]\n",
      " [0. 1. 0. 0. 0. 0. 0. 0. 0. 0.]\n",
      " [0. 0. 0. 0. 0. 0. 1. 0. 0. 0.]\n",
      " [0. 0. 0. 1. 0. 0. 0. 0. 0. 0.]\n",
      " [1. 0. 0. 0. 0. 0. 0. 0. 0. 0.]\n",
      " [0. 0. 0. 0. 1. 0. 0. 0. 0. 0.]\n",
      " [0. 0. 0. 0. 0. 0. 1. 0. 0. 0.]\n",
      " [0. 0. 1. 0. 0. 0. 0. 0. 0. 0.]\n",
      " [0. 0. 0. 1. 0. 0. 0. 0. 0. 0.]\n",
      " [0. 0. 0. 0. 0. 0. 0. 1. 0. 0.]\n",
      " [0. 0. 0. 0. 0. 0. 0. 0. 1. 0.]\n",
      " [0. 0. 0. 0. 0. 0. 0. 0. 0. 1.]\n",
      " [0. 0. 0. 0. 0. 0. 0. 0. 1. 0.]\n",
      " [0. 0. 0. 0. 0. 0. 0. 0. 1. 0.]\n",
      " [0. 0. 0. 0. 1. 0. 0. 0. 0. 0.]\n",
      " [0. 1. 0. 0. 0. 0. 0. 0. 0. 0.]\n",
      " [0. 0. 0. 0. 0. 0. 0. 0. 1. 0.]\n",
      " [0. 0. 0. 1. 0. 0. 0. 0. 0. 0.]\n",
      " [0. 0. 0. 0. 0. 0. 0. 0. 0. 1.]], shape=(32, 10), dtype=float32)\n"
     ]
    }
   ],
   "source": [
    "#  See the example of a batch of data\n",
    "for images , labels  in tarin_data_10_percent.take(1):\n",
    "  print(images , labels)"
   ]
  },
  {
   "cell_type": "markdown",
   "metadata": {
    "id": "k8NeETCCUrTK"
   },
   "source": [
    "## Model 0 : Building a transfer learning Feature Extraction model using the keras Functional API\n",
    "\n",
    "The sequential API is straight-forward, it runs our layers in sequential order.\n",
    "\n",
    "But the functional API gives us more Flexibility with our models - https://www.tensorflow.org/guide/keras/functional"
   ]
  },
  {
   "cell_type": "code",
   "execution_count": 10,
   "metadata": {
    "colab": {
     "base_uri": "https://localhost:8080/"
    },
    "id": "47xdn44BYFlT",
    "outputId": "014966ff-3b64-43c3-e8d6-fccabb9a7362"
   },
   "outputs": [
    {
     "name": "stdout",
     "output_type": "stream",
     "text": [
      "Shape after passing inputs through base model: (None, 7, 7, 1280)\n",
      "Shape after GlobalAveragePooling2D: (None, 1280)\n",
      "Saving TensorBoard log files to: transfer_learning/10_percent_feature_extraction/20240227-170508\n",
      "Epoch 1/5\n",
      "24/24 [==============================] - 15s 629ms/step - loss: 1.8864 - accuracy: 0.4160 - val_loss: 1.4812 - val_accuracy: 0.6562\n",
      "Epoch 2/5\n",
      "24/24 [==============================] - 13s 551ms/step - loss: 1.1402 - accuracy: 0.7453 - val_loss: 0.8596 - val_accuracy: 0.7500\n",
      "Epoch 3/5\n",
      "24/24 [==============================] - 13s 551ms/step - loss: 0.8381 - accuracy: 0.7947 - val_loss: 0.8612 - val_accuracy: 0.8438\n",
      "Epoch 4/5\n",
      "24/24 [==============================] - 13s 559ms/step - loss: 0.6826 - accuracy: 0.8427 - val_loss: 0.7569 - val_accuracy: 0.6875\n",
      "Epoch 5/5\n",
      "24/24 [==============================] - 14s 568ms/step - loss: 0.5975 - accuracy: 0.8680 - val_loss: 0.6580 - val_accuracy: 0.8438\n"
     ]
    }
   ],
   "source": [
    "# 1. Create base model with tf.keras.applications\n",
    "base_model = tf.keras.applications.EfficientNetB0(include_top= False)\n",
    "\n",
    "# 2. Freeze the base model (so underlying pre-trained patterns arenot updated during training)\n",
    "base_model.trainable = False\n",
    "\n",
    "# 3. Create input into our model\n",
    "inputs = tf.keras.layers.Input(shape = (224,224,3), name = \"input_layer\")\n",
    "\n",
    "# 4. If using a model like  ResNet50V2 yu will need to normalize inputs (you donot have to for EfficientNet(s))\n",
    "# x = tf.keras.layers.experimental.preprocessing.Rescaling(1/255.)(inputs)\n",
    "\n",
    "# 5.  Pass the inputs to the base_model\n",
    "x = base_model (inputs)\n",
    "print(f\"Shape after passing inputs through base model: {x.shape}\")\n",
    "\n",
    "# 6. Average pool the outputs of the base model (aggregate all the most inmportant information, reduce number of computation)\n",
    "x = tf.keras.layers.GlobalAveragePooling2D(name =  \"global_average_pooling_layer\")(x)\n",
    "print(f\"Shape after GlobalAveragePooling2D: {x.shape}\")\n",
    "\n",
    "# 7. Create the activation output layers\n",
    "outputs = tf.keras.layers.Dense(10 , activation = tf.keras.activations.softmax, name = \"output_layers\" )(x)\n",
    "\n",
    "# 8. Combine the inputs with the outputs into a model\n",
    "model_0 = tf.keras.Model(inputs, outputs)\n",
    "\n",
    "# 9. Compile the model\n",
    "model_0.compile(loss = tf.keras.losses.CategoricalCrossentropy(),\n",
    "                optimizer = tf.keras.optimizers.Adam(),\n",
    "                metrics = [\"accuracy\"])\n",
    "\n",
    "# 10. Fit the model\n",
    "history_10_percent  = model_0.fit(tarin_data_10_percent,\n",
    "                                  epochs = 5,\n",
    "                                  steps_per_epoch =len(tarin_data_10_percent),\n",
    "                                  validation_data = test_data,\n",
    "                                  validation_steps = int (0.25 * len(test_data)),\n",
    "                                  callbacks = [create_tensorboard_callback(dir_name=\"transfer_learning\",\n",
    "                                                                           experiment_name = \"10_percent_feature_extraction\")])"
   ]
  },
  {
   "cell_type": "code",
   "execution_count": null,
   "metadata": {
    "colab": {
     "base_uri": "https://localhost:8080/"
    },
    "id": "XKbJCEGa_9GE",
    "outputId": "12ee474b-c8cb-4175-ccbc-d2b40329b03c"
   },
   "outputs": [],
   "source": [
    "# Evaluate on the full test dataset\n",
    "model_0.evaluate(test_data)"
   ]
  },
  {
   "cell_type": "code",
   "execution_count": 11,
   "metadata": {
    "colab": {
     "base_uri": "https://localhost:8080/"
    },
    "id": "YD2a0Fu1BZ8r",
    "outputId": "edb6853e-653c-4ac8-8e44-d57a89a41f84"
   },
   "outputs": [
    {
     "name": "stdout",
     "output_type": "stream",
     "text": [
      "0 input_2\n",
      "1 rescaling_1\n",
      "2 normalization_1\n",
      "3 stem_conv_pad\n",
      "4 stem_conv\n",
      "5 stem_bn\n",
      "6 stem_activation\n",
      "7 block1a_dwconv\n",
      "8 block1a_bn\n",
      "9 block1a_activation\n",
      "10 block1a_se_squeeze\n",
      "11 block1a_se_reshape\n",
      "12 block1a_se_reduce\n",
      "13 block1a_se_expand\n",
      "14 block1a_se_excite\n",
      "15 block1a_project_conv\n",
      "16 block1a_project_bn\n",
      "17 block2a_expand_conv\n",
      "18 block2a_expand_bn\n",
      "19 block2a_expand_activation\n",
      "20 block2a_dwconv_pad\n",
      "21 block2a_dwconv\n",
      "22 block2a_bn\n",
      "23 block2a_activation\n",
      "24 block2a_se_squeeze\n",
      "25 block2a_se_reshape\n",
      "26 block2a_se_reduce\n",
      "27 block2a_se_expand\n",
      "28 block2a_se_excite\n",
      "29 block2a_project_conv\n",
      "30 block2a_project_bn\n",
      "31 block2b_expand_conv\n",
      "32 block2b_expand_bn\n",
      "33 block2b_expand_activation\n",
      "34 block2b_dwconv\n",
      "35 block2b_bn\n",
      "36 block2b_activation\n",
      "37 block2b_se_squeeze\n",
      "38 block2b_se_reshape\n",
      "39 block2b_se_reduce\n",
      "40 block2b_se_expand\n",
      "41 block2b_se_excite\n",
      "42 block2b_project_conv\n",
      "43 block2b_project_bn\n",
      "44 block2b_drop\n",
      "45 block2b_add\n",
      "46 block3a_expand_conv\n",
      "47 block3a_expand_bn\n",
      "48 block3a_expand_activation\n",
      "49 block3a_dwconv_pad\n",
      "50 block3a_dwconv\n",
      "51 block3a_bn\n",
      "52 block3a_activation\n",
      "53 block3a_se_squeeze\n",
      "54 block3a_se_reshape\n",
      "55 block3a_se_reduce\n",
      "56 block3a_se_expand\n",
      "57 block3a_se_excite\n",
      "58 block3a_project_conv\n",
      "59 block3a_project_bn\n",
      "60 block3b_expand_conv\n",
      "61 block3b_expand_bn\n",
      "62 block3b_expand_activation\n",
      "63 block3b_dwconv\n",
      "64 block3b_bn\n",
      "65 block3b_activation\n",
      "66 block3b_se_squeeze\n",
      "67 block3b_se_reshape\n",
      "68 block3b_se_reduce\n",
      "69 block3b_se_expand\n",
      "70 block3b_se_excite\n",
      "71 block3b_project_conv\n",
      "72 block3b_project_bn\n",
      "73 block3b_drop\n",
      "74 block3b_add\n",
      "75 block4a_expand_conv\n",
      "76 block4a_expand_bn\n",
      "77 block4a_expand_activation\n",
      "78 block4a_dwconv_pad\n",
      "79 block4a_dwconv\n",
      "80 block4a_bn\n",
      "81 block4a_activation\n",
      "82 block4a_se_squeeze\n",
      "83 block4a_se_reshape\n",
      "84 block4a_se_reduce\n",
      "85 block4a_se_expand\n",
      "86 block4a_se_excite\n",
      "87 block4a_project_conv\n",
      "88 block4a_project_bn\n",
      "89 block4b_expand_conv\n",
      "90 block4b_expand_bn\n",
      "91 block4b_expand_activation\n",
      "92 block4b_dwconv\n",
      "93 block4b_bn\n",
      "94 block4b_activation\n",
      "95 block4b_se_squeeze\n",
      "96 block4b_se_reshape\n",
      "97 block4b_se_reduce\n",
      "98 block4b_se_expand\n",
      "99 block4b_se_excite\n",
      "100 block4b_project_conv\n",
      "101 block4b_project_bn\n",
      "102 block4b_drop\n",
      "103 block4b_add\n",
      "104 block4c_expand_conv\n",
      "105 block4c_expand_bn\n",
      "106 block4c_expand_activation\n",
      "107 block4c_dwconv\n",
      "108 block4c_bn\n",
      "109 block4c_activation\n",
      "110 block4c_se_squeeze\n",
      "111 block4c_se_reshape\n",
      "112 block4c_se_reduce\n",
      "113 block4c_se_expand\n",
      "114 block4c_se_excite\n",
      "115 block4c_project_conv\n",
      "116 block4c_project_bn\n",
      "117 block4c_drop\n",
      "118 block4c_add\n",
      "119 block5a_expand_conv\n",
      "120 block5a_expand_bn\n",
      "121 block5a_expand_activation\n",
      "122 block5a_dwconv\n",
      "123 block5a_bn\n",
      "124 block5a_activation\n",
      "125 block5a_se_squeeze\n",
      "126 block5a_se_reshape\n",
      "127 block5a_se_reduce\n",
      "128 block5a_se_expand\n",
      "129 block5a_se_excite\n",
      "130 block5a_project_conv\n",
      "131 block5a_project_bn\n",
      "132 block5b_expand_conv\n",
      "133 block5b_expand_bn\n",
      "134 block5b_expand_activation\n",
      "135 block5b_dwconv\n",
      "136 block5b_bn\n",
      "137 block5b_activation\n",
      "138 block5b_se_squeeze\n",
      "139 block5b_se_reshape\n",
      "140 block5b_se_reduce\n",
      "141 block5b_se_expand\n",
      "142 block5b_se_excite\n",
      "143 block5b_project_conv\n",
      "144 block5b_project_bn\n",
      "145 block5b_drop\n",
      "146 block5b_add\n",
      "147 block5c_expand_conv\n",
      "148 block5c_expand_bn\n",
      "149 block5c_expand_activation\n",
      "150 block5c_dwconv\n",
      "151 block5c_bn\n",
      "152 block5c_activation\n",
      "153 block5c_se_squeeze\n",
      "154 block5c_se_reshape\n",
      "155 block5c_se_reduce\n",
      "156 block5c_se_expand\n",
      "157 block5c_se_excite\n",
      "158 block5c_project_conv\n",
      "159 block5c_project_bn\n",
      "160 block5c_drop\n",
      "161 block5c_add\n",
      "162 block6a_expand_conv\n",
      "163 block6a_expand_bn\n",
      "164 block6a_expand_activation\n",
      "165 block6a_dwconv_pad\n",
      "166 block6a_dwconv\n",
      "167 block6a_bn\n",
      "168 block6a_activation\n",
      "169 block6a_se_squeeze\n",
      "170 block6a_se_reshape\n",
      "171 block6a_se_reduce\n",
      "172 block6a_se_expand\n",
      "173 block6a_se_excite\n",
      "174 block6a_project_conv\n",
      "175 block6a_project_bn\n",
      "176 block6b_expand_conv\n",
      "177 block6b_expand_bn\n",
      "178 block6b_expand_activation\n",
      "179 block6b_dwconv\n",
      "180 block6b_bn\n",
      "181 block6b_activation\n",
      "182 block6b_se_squeeze\n",
      "183 block6b_se_reshape\n",
      "184 block6b_se_reduce\n",
      "185 block6b_se_expand\n",
      "186 block6b_se_excite\n",
      "187 block6b_project_conv\n",
      "188 block6b_project_bn\n",
      "189 block6b_drop\n",
      "190 block6b_add\n",
      "191 block6c_expand_conv\n",
      "192 block6c_expand_bn\n",
      "193 block6c_expand_activation\n",
      "194 block6c_dwconv\n",
      "195 block6c_bn\n",
      "196 block6c_activation\n",
      "197 block6c_se_squeeze\n",
      "198 block6c_se_reshape\n",
      "199 block6c_se_reduce\n",
      "200 block6c_se_expand\n",
      "201 block6c_se_excite\n",
      "202 block6c_project_conv\n",
      "203 block6c_project_bn\n",
      "204 block6c_drop\n",
      "205 block6c_add\n",
      "206 block6d_expand_conv\n",
      "207 block6d_expand_bn\n",
      "208 block6d_expand_activation\n",
      "209 block6d_dwconv\n",
      "210 block6d_bn\n",
      "211 block6d_activation\n",
      "212 block6d_se_squeeze\n",
      "213 block6d_se_reshape\n",
      "214 block6d_se_reduce\n",
      "215 block6d_se_expand\n",
      "216 block6d_se_excite\n",
      "217 block6d_project_conv\n",
      "218 block6d_project_bn\n",
      "219 block6d_drop\n",
      "220 block6d_add\n",
      "221 block7a_expand_conv\n",
      "222 block7a_expand_bn\n",
      "223 block7a_expand_activation\n",
      "224 block7a_dwconv\n",
      "225 block7a_bn\n",
      "226 block7a_activation\n",
      "227 block7a_se_squeeze\n",
      "228 block7a_se_reshape\n",
      "229 block7a_se_reduce\n",
      "230 block7a_se_expand\n",
      "231 block7a_se_excite\n",
      "232 block7a_project_conv\n",
      "233 block7a_project_bn\n",
      "234 top_conv\n",
      "235 top_bn\n",
      "236 top_activation\n"
     ]
    }
   ],
   "source": [
    "#  Check the layers in our base model\n",
    "for layer_number, layer in enumerate (base_model.layers):\n",
    "  print(layer_number, layer.name)"
   ]
  },
  {
   "cell_type": "code",
   "execution_count": 12,
   "metadata": {
    "colab": {
     "base_uri": "https://localhost:8080/"
    },
    "id": "th1Xvfe_B1ur",
    "outputId": "c97e8627-1b68-4c7f-dd8b-436231592ff1"
   },
   "outputs": [
    {
     "name": "stdout",
     "output_type": "stream",
     "text": [
      "Model: \"efficientnetb0\"\n",
      "__________________________________________________________________________________________________\n",
      "Layer (type)                    Output Shape         Param #     Connected to                     \n",
      "==================================================================================================\n",
      "input_2 (InputLayer)            [(None, None, None,  0                                            \n",
      "__________________________________________________________________________________________________\n",
      "rescaling_1 (Rescaling)         multiple             0           input_2[0][0]                    \n",
      "__________________________________________________________________________________________________\n",
      "normalization_1 (Normalization) multiple             7           rescaling_1[0][0]                \n",
      "__________________________________________________________________________________________________\n",
      "stem_conv_pad (ZeroPadding2D)   multiple             0           normalization_1[0][0]            \n",
      "__________________________________________________________________________________________________\n",
      "stem_conv (Conv2D)              multiple             864         stem_conv_pad[0][0]              \n",
      "__________________________________________________________________________________________________\n",
      "stem_bn (BatchNormalization)    multiple             128         stem_conv[0][0]                  \n",
      "__________________________________________________________________________________________________\n",
      "stem_activation (Activation)    multiple             0           stem_bn[0][0]                    \n",
      "__________________________________________________________________________________________________\n",
      "block1a_dwconv (DepthwiseConv2D multiple             288         stem_activation[0][0]            \n",
      "__________________________________________________________________________________________________\n",
      "block1a_bn (BatchNormalization) multiple             128         block1a_dwconv[0][0]             \n",
      "__________________________________________________________________________________________________\n",
      "block1a_activation (Activation) multiple             0           block1a_bn[0][0]                 \n",
      "__________________________________________________________________________________________________\n",
      "block1a_se_squeeze (GlobalAvera (None, 32)           0           block1a_activation[0][0]         \n",
      "__________________________________________________________________________________________________\n",
      "block1a_se_reshape (Reshape)    (None, 1, 1, 32)     0           block1a_se_squeeze[0][0]         \n",
      "__________________________________________________________________________________________________\n",
      "block1a_se_reduce (Conv2D)      (None, 1, 1, 8)      264         block1a_se_reshape[0][0]         \n",
      "__________________________________________________________________________________________________\n",
      "block1a_se_expand (Conv2D)      (None, 1, 1, 32)     288         block1a_se_reduce[0][0]          \n",
      "__________________________________________________________________________________________________\n",
      "block1a_se_excite (Multiply)    multiple             0           block1a_activation[0][0]         \n",
      "                                                                 block1a_se_expand[0][0]          \n",
      "__________________________________________________________________________________________________\n",
      "block1a_project_conv (Conv2D)   multiple             512         block1a_se_excite[0][0]          \n",
      "__________________________________________________________________________________________________\n",
      "block1a_project_bn (BatchNormal multiple             64          block1a_project_conv[0][0]       \n",
      "__________________________________________________________________________________________________\n",
      "block2a_expand_conv (Conv2D)    multiple             1536        block1a_project_bn[0][0]         \n",
      "__________________________________________________________________________________________________\n",
      "block2a_expand_bn (BatchNormali multiple             384         block2a_expand_conv[0][0]        \n",
      "__________________________________________________________________________________________________\n",
      "block2a_expand_activation (Acti multiple             0           block2a_expand_bn[0][0]          \n",
      "__________________________________________________________________________________________________\n",
      "block2a_dwconv_pad (ZeroPadding multiple             0           block2a_expand_activation[0][0]  \n",
      "__________________________________________________________________________________________________\n",
      "block2a_dwconv (DepthwiseConv2D multiple             864         block2a_dwconv_pad[0][0]         \n",
      "__________________________________________________________________________________________________\n",
      "block2a_bn (BatchNormalization) multiple             384         block2a_dwconv[0][0]             \n",
      "__________________________________________________________________________________________________\n",
      "block2a_activation (Activation) multiple             0           block2a_bn[0][0]                 \n",
      "__________________________________________________________________________________________________\n",
      "block2a_se_squeeze (GlobalAvera (None, 96)           0           block2a_activation[0][0]         \n",
      "__________________________________________________________________________________________________\n",
      "block2a_se_reshape (Reshape)    (None, 1, 1, 96)     0           block2a_se_squeeze[0][0]         \n",
      "__________________________________________________________________________________________________\n",
      "block2a_se_reduce (Conv2D)      (None, 1, 1, 4)      388         block2a_se_reshape[0][0]         \n",
      "__________________________________________________________________________________________________\n",
      "block2a_se_expand (Conv2D)      (None, 1, 1, 96)     480         block2a_se_reduce[0][0]          \n",
      "__________________________________________________________________________________________________\n",
      "block2a_se_excite (Multiply)    multiple             0           block2a_activation[0][0]         \n",
      "                                                                 block2a_se_expand[0][0]          \n",
      "__________________________________________________________________________________________________\n",
      "block2a_project_conv (Conv2D)   multiple             2304        block2a_se_excite[0][0]          \n",
      "__________________________________________________________________________________________________\n",
      "block2a_project_bn (BatchNormal multiple             96          block2a_project_conv[0][0]       \n",
      "__________________________________________________________________________________________________\n",
      "block2b_expand_conv (Conv2D)    multiple             3456        block2a_project_bn[0][0]         \n",
      "__________________________________________________________________________________________________\n",
      "block2b_expand_bn (BatchNormali multiple             576         block2b_expand_conv[0][0]        \n",
      "__________________________________________________________________________________________________\n",
      "block2b_expand_activation (Acti multiple             0           block2b_expand_bn[0][0]          \n",
      "__________________________________________________________________________________________________\n",
      "block2b_dwconv (DepthwiseConv2D multiple             1296        block2b_expand_activation[0][0]  \n",
      "__________________________________________________________________________________________________\n",
      "block2b_bn (BatchNormalization) multiple             576         block2b_dwconv[0][0]             \n",
      "__________________________________________________________________________________________________\n",
      "block2b_activation (Activation) multiple             0           block2b_bn[0][0]                 \n",
      "__________________________________________________________________________________________________\n",
      "block2b_se_squeeze (GlobalAvera (None, 144)          0           block2b_activation[0][0]         \n",
      "__________________________________________________________________________________________________\n",
      "block2b_se_reshape (Reshape)    (None, 1, 1, 144)    0           block2b_se_squeeze[0][0]         \n",
      "__________________________________________________________________________________________________\n",
      "block2b_se_reduce (Conv2D)      (None, 1, 1, 6)      870         block2b_se_reshape[0][0]         \n",
      "__________________________________________________________________________________________________\n",
      "block2b_se_expand (Conv2D)      (None, 1, 1, 144)    1008        block2b_se_reduce[0][0]          \n",
      "__________________________________________________________________________________________________\n",
      "block2b_se_excite (Multiply)    multiple             0           block2b_activation[0][0]         \n",
      "                                                                 block2b_se_expand[0][0]          \n",
      "__________________________________________________________________________________________________\n",
      "block2b_project_conv (Conv2D)   multiple             3456        block2b_se_excite[0][0]          \n",
      "__________________________________________________________________________________________________\n",
      "block2b_project_bn (BatchNormal multiple             96          block2b_project_conv[0][0]       \n",
      "__________________________________________________________________________________________________\n",
      "block2b_drop (Dropout)          multiple             0           block2b_project_bn[0][0]         \n",
      "__________________________________________________________________________________________________\n",
      "block2b_add (Add)               multiple             0           block2b_drop[0][0]               \n",
      "                                                                 block2a_project_bn[0][0]         \n",
      "__________________________________________________________________________________________________\n",
      "block3a_expand_conv (Conv2D)    multiple             3456        block2b_add[0][0]                \n",
      "__________________________________________________________________________________________________\n",
      "block3a_expand_bn (BatchNormali multiple             576         block3a_expand_conv[0][0]        \n",
      "__________________________________________________________________________________________________\n",
      "block3a_expand_activation (Acti multiple             0           block3a_expand_bn[0][0]          \n",
      "__________________________________________________________________________________________________\n",
      "block3a_dwconv_pad (ZeroPadding multiple             0           block3a_expand_activation[0][0]  \n",
      "__________________________________________________________________________________________________\n",
      "block3a_dwconv (DepthwiseConv2D multiple             3600        block3a_dwconv_pad[0][0]         \n",
      "__________________________________________________________________________________________________\n",
      "block3a_bn (BatchNormalization) multiple             576         block3a_dwconv[0][0]             \n",
      "__________________________________________________________________________________________________\n",
      "block3a_activation (Activation) multiple             0           block3a_bn[0][0]                 \n",
      "__________________________________________________________________________________________________\n",
      "block3a_se_squeeze (GlobalAvera (None, 144)          0           block3a_activation[0][0]         \n",
      "__________________________________________________________________________________________________\n",
      "block3a_se_reshape (Reshape)    (None, 1, 1, 144)    0           block3a_se_squeeze[0][0]         \n",
      "__________________________________________________________________________________________________\n",
      "block3a_se_reduce (Conv2D)      (None, 1, 1, 6)      870         block3a_se_reshape[0][0]         \n",
      "__________________________________________________________________________________________________\n",
      "block3a_se_expand (Conv2D)      (None, 1, 1, 144)    1008        block3a_se_reduce[0][0]          \n",
      "__________________________________________________________________________________________________\n",
      "block3a_se_excite (Multiply)    multiple             0           block3a_activation[0][0]         \n",
      "                                                                 block3a_se_expand[0][0]          \n",
      "__________________________________________________________________________________________________\n",
      "block3a_project_conv (Conv2D)   multiple             5760        block3a_se_excite[0][0]          \n",
      "__________________________________________________________________________________________________\n",
      "block3a_project_bn (BatchNormal multiple             160         block3a_project_conv[0][0]       \n",
      "__________________________________________________________________________________________________\n",
      "block3b_expand_conv (Conv2D)    multiple             9600        block3a_project_bn[0][0]         \n",
      "__________________________________________________________________________________________________\n",
      "block3b_expand_bn (BatchNormali multiple             960         block3b_expand_conv[0][0]        \n",
      "__________________________________________________________________________________________________\n",
      "block3b_expand_activation (Acti multiple             0           block3b_expand_bn[0][0]          \n",
      "__________________________________________________________________________________________________\n",
      "block3b_dwconv (DepthwiseConv2D multiple             6000        block3b_expand_activation[0][0]  \n",
      "__________________________________________________________________________________________________\n",
      "block3b_bn (BatchNormalization) multiple             960         block3b_dwconv[0][0]             \n",
      "__________________________________________________________________________________________________\n",
      "block3b_activation (Activation) multiple             0           block3b_bn[0][0]                 \n",
      "__________________________________________________________________________________________________\n",
      "block3b_se_squeeze (GlobalAvera (None, 240)          0           block3b_activation[0][0]         \n",
      "__________________________________________________________________________________________________\n",
      "block3b_se_reshape (Reshape)    (None, 1, 1, 240)    0           block3b_se_squeeze[0][0]         \n",
      "__________________________________________________________________________________________________\n",
      "block3b_se_reduce (Conv2D)      (None, 1, 1, 10)     2410        block3b_se_reshape[0][0]         \n",
      "__________________________________________________________________________________________________\n",
      "block3b_se_expand (Conv2D)      (None, 1, 1, 240)    2640        block3b_se_reduce[0][0]          \n",
      "__________________________________________________________________________________________________\n",
      "block3b_se_excite (Multiply)    multiple             0           block3b_activation[0][0]         \n",
      "                                                                 block3b_se_expand[0][0]          \n",
      "__________________________________________________________________________________________________\n",
      "block3b_project_conv (Conv2D)   multiple             9600        block3b_se_excite[0][0]          \n",
      "__________________________________________________________________________________________________\n",
      "block3b_project_bn (BatchNormal multiple             160         block3b_project_conv[0][0]       \n",
      "__________________________________________________________________________________________________\n",
      "block3b_drop (Dropout)          multiple             0           block3b_project_bn[0][0]         \n",
      "__________________________________________________________________________________________________\n",
      "block3b_add (Add)               multiple             0           block3b_drop[0][0]               \n",
      "                                                                 block3a_project_bn[0][0]         \n",
      "__________________________________________________________________________________________________\n",
      "block4a_expand_conv (Conv2D)    multiple             9600        block3b_add[0][0]                \n",
      "__________________________________________________________________________________________________\n",
      "block4a_expand_bn (BatchNormali multiple             960         block4a_expand_conv[0][0]        \n",
      "__________________________________________________________________________________________________\n",
      "block4a_expand_activation (Acti multiple             0           block4a_expand_bn[0][0]          \n",
      "__________________________________________________________________________________________________\n",
      "block4a_dwconv_pad (ZeroPadding multiple             0           block4a_expand_activation[0][0]  \n",
      "__________________________________________________________________________________________________\n",
      "block4a_dwconv (DepthwiseConv2D multiple             2160        block4a_dwconv_pad[0][0]         \n",
      "__________________________________________________________________________________________________\n",
      "block4a_bn (BatchNormalization) multiple             960         block4a_dwconv[0][0]             \n",
      "__________________________________________________________________________________________________\n",
      "block4a_activation (Activation) multiple             0           block4a_bn[0][0]                 \n",
      "__________________________________________________________________________________________________\n",
      "block4a_se_squeeze (GlobalAvera (None, 240)          0           block4a_activation[0][0]         \n",
      "__________________________________________________________________________________________________\n",
      "block4a_se_reshape (Reshape)    (None, 1, 1, 240)    0           block4a_se_squeeze[0][0]         \n",
      "__________________________________________________________________________________________________\n",
      "block4a_se_reduce (Conv2D)      (None, 1, 1, 10)     2410        block4a_se_reshape[0][0]         \n",
      "__________________________________________________________________________________________________\n",
      "block4a_se_expand (Conv2D)      (None, 1, 1, 240)    2640        block4a_se_reduce[0][0]          \n",
      "__________________________________________________________________________________________________\n",
      "block4a_se_excite (Multiply)    multiple             0           block4a_activation[0][0]         \n",
      "                                                                 block4a_se_expand[0][0]          \n",
      "__________________________________________________________________________________________________\n",
      "block4a_project_conv (Conv2D)   multiple             19200       block4a_se_excite[0][0]          \n",
      "__________________________________________________________________________________________________\n",
      "block4a_project_bn (BatchNormal multiple             320         block4a_project_conv[0][0]       \n",
      "__________________________________________________________________________________________________\n",
      "block4b_expand_conv (Conv2D)    multiple             38400       block4a_project_bn[0][0]         \n",
      "__________________________________________________________________________________________________\n",
      "block4b_expand_bn (BatchNormali multiple             1920        block4b_expand_conv[0][0]        \n",
      "__________________________________________________________________________________________________\n",
      "block4b_expand_activation (Acti multiple             0           block4b_expand_bn[0][0]          \n",
      "__________________________________________________________________________________________________\n",
      "block4b_dwconv (DepthwiseConv2D multiple             4320        block4b_expand_activation[0][0]  \n",
      "__________________________________________________________________________________________________\n",
      "block4b_bn (BatchNormalization) multiple             1920        block4b_dwconv[0][0]             \n",
      "__________________________________________________________________________________________________\n",
      "block4b_activation (Activation) multiple             0           block4b_bn[0][0]                 \n",
      "__________________________________________________________________________________________________\n",
      "block4b_se_squeeze (GlobalAvera (None, 480)          0           block4b_activation[0][0]         \n",
      "__________________________________________________________________________________________________\n",
      "block4b_se_reshape (Reshape)    (None, 1, 1, 480)    0           block4b_se_squeeze[0][0]         \n",
      "__________________________________________________________________________________________________\n",
      "block4b_se_reduce (Conv2D)      (None, 1, 1, 20)     9620        block4b_se_reshape[0][0]         \n",
      "__________________________________________________________________________________________________\n",
      "block4b_se_expand (Conv2D)      (None, 1, 1, 480)    10080       block4b_se_reduce[0][0]          \n",
      "__________________________________________________________________________________________________\n",
      "block4b_se_excite (Multiply)    multiple             0           block4b_activation[0][0]         \n",
      "                                                                 block4b_se_expand[0][0]          \n",
      "__________________________________________________________________________________________________\n",
      "block4b_project_conv (Conv2D)   multiple             38400       block4b_se_excite[0][0]          \n",
      "__________________________________________________________________________________________________\n",
      "block4b_project_bn (BatchNormal multiple             320         block4b_project_conv[0][0]       \n",
      "__________________________________________________________________________________________________\n",
      "block4b_drop (Dropout)          multiple             0           block4b_project_bn[0][0]         \n",
      "__________________________________________________________________________________________________\n",
      "block4b_add (Add)               multiple             0           block4b_drop[0][0]               \n",
      "                                                                 block4a_project_bn[0][0]         \n",
      "__________________________________________________________________________________________________\n",
      "block4c_expand_conv (Conv2D)    multiple             38400       block4b_add[0][0]                \n",
      "__________________________________________________________________________________________________\n",
      "block4c_expand_bn (BatchNormali multiple             1920        block4c_expand_conv[0][0]        \n",
      "__________________________________________________________________________________________________\n",
      "block4c_expand_activation (Acti multiple             0           block4c_expand_bn[0][0]          \n",
      "__________________________________________________________________________________________________\n",
      "block4c_dwconv (DepthwiseConv2D multiple             4320        block4c_expand_activation[0][0]  \n",
      "__________________________________________________________________________________________________\n",
      "block4c_bn (BatchNormalization) multiple             1920        block4c_dwconv[0][0]             \n",
      "__________________________________________________________________________________________________\n",
      "block4c_activation (Activation) multiple             0           block4c_bn[0][0]                 \n",
      "__________________________________________________________________________________________________\n",
      "block4c_se_squeeze (GlobalAvera (None, 480)          0           block4c_activation[0][0]         \n",
      "__________________________________________________________________________________________________\n",
      "block4c_se_reshape (Reshape)    (None, 1, 1, 480)    0           block4c_se_squeeze[0][0]         \n",
      "__________________________________________________________________________________________________\n",
      "block4c_se_reduce (Conv2D)      (None, 1, 1, 20)     9620        block4c_se_reshape[0][0]         \n",
      "__________________________________________________________________________________________________\n",
      "block4c_se_expand (Conv2D)      (None, 1, 1, 480)    10080       block4c_se_reduce[0][0]          \n",
      "__________________________________________________________________________________________________\n",
      "block4c_se_excite (Multiply)    multiple             0           block4c_activation[0][0]         \n",
      "                                                                 block4c_se_expand[0][0]          \n",
      "__________________________________________________________________________________________________\n",
      "block4c_project_conv (Conv2D)   multiple             38400       block4c_se_excite[0][0]          \n",
      "__________________________________________________________________________________________________\n",
      "block4c_project_bn (BatchNormal multiple             320         block4c_project_conv[0][0]       \n",
      "__________________________________________________________________________________________________\n",
      "block4c_drop (Dropout)          multiple             0           block4c_project_bn[0][0]         \n",
      "__________________________________________________________________________________________________\n",
      "block4c_add (Add)               multiple             0           block4c_drop[0][0]               \n",
      "                                                                 block4b_add[0][0]                \n",
      "__________________________________________________________________________________________________\n",
      "block5a_expand_conv (Conv2D)    multiple             38400       block4c_add[0][0]                \n",
      "__________________________________________________________________________________________________\n",
      "block5a_expand_bn (BatchNormali multiple             1920        block5a_expand_conv[0][0]        \n",
      "__________________________________________________________________________________________________\n",
      "block5a_expand_activation (Acti multiple             0           block5a_expand_bn[0][0]          \n",
      "__________________________________________________________________________________________________\n",
      "block5a_dwconv (DepthwiseConv2D multiple             12000       block5a_expand_activation[0][0]  \n",
      "__________________________________________________________________________________________________\n",
      "block5a_bn (BatchNormalization) multiple             1920        block5a_dwconv[0][0]             \n",
      "__________________________________________________________________________________________________\n",
      "block5a_activation (Activation) multiple             0           block5a_bn[0][0]                 \n",
      "__________________________________________________________________________________________________\n",
      "block5a_se_squeeze (GlobalAvera (None, 480)          0           block5a_activation[0][0]         \n",
      "__________________________________________________________________________________________________\n",
      "block5a_se_reshape (Reshape)    (None, 1, 1, 480)    0           block5a_se_squeeze[0][0]         \n",
      "__________________________________________________________________________________________________\n",
      "block5a_se_reduce (Conv2D)      (None, 1, 1, 20)     9620        block5a_se_reshape[0][0]         \n",
      "__________________________________________________________________________________________________\n",
      "block5a_se_expand (Conv2D)      (None, 1, 1, 480)    10080       block5a_se_reduce[0][0]          \n",
      "__________________________________________________________________________________________________\n",
      "block5a_se_excite (Multiply)    multiple             0           block5a_activation[0][0]         \n",
      "                                                                 block5a_se_expand[0][0]          \n",
      "__________________________________________________________________________________________________\n",
      "block5a_project_conv (Conv2D)   multiple             53760       block5a_se_excite[0][0]          \n",
      "__________________________________________________________________________________________________\n",
      "block5a_project_bn (BatchNormal multiple             448         block5a_project_conv[0][0]       \n",
      "__________________________________________________________________________________________________\n",
      "block5b_expand_conv (Conv2D)    multiple             75264       block5a_project_bn[0][0]         \n",
      "__________________________________________________________________________________________________\n",
      "block5b_expand_bn (BatchNormali multiple             2688        block5b_expand_conv[0][0]        \n",
      "__________________________________________________________________________________________________\n",
      "block5b_expand_activation (Acti multiple             0           block5b_expand_bn[0][0]          \n",
      "__________________________________________________________________________________________________\n",
      "block5b_dwconv (DepthwiseConv2D multiple             16800       block5b_expand_activation[0][0]  \n",
      "__________________________________________________________________________________________________\n",
      "block5b_bn (BatchNormalization) multiple             2688        block5b_dwconv[0][0]             \n",
      "__________________________________________________________________________________________________\n",
      "block5b_activation (Activation) multiple             0           block5b_bn[0][0]                 \n",
      "__________________________________________________________________________________________________\n",
      "block5b_se_squeeze (GlobalAvera (None, 672)          0           block5b_activation[0][0]         \n",
      "__________________________________________________________________________________________________\n",
      "block5b_se_reshape (Reshape)    (None, 1, 1, 672)    0           block5b_se_squeeze[0][0]         \n",
      "__________________________________________________________________________________________________\n",
      "block5b_se_reduce (Conv2D)      (None, 1, 1, 28)     18844       block5b_se_reshape[0][0]         \n",
      "__________________________________________________________________________________________________\n",
      "block5b_se_expand (Conv2D)      (None, 1, 1, 672)    19488       block5b_se_reduce[0][0]          \n",
      "__________________________________________________________________________________________________\n",
      "block5b_se_excite (Multiply)    multiple             0           block5b_activation[0][0]         \n",
      "                                                                 block5b_se_expand[0][0]          \n",
      "__________________________________________________________________________________________________\n",
      "block5b_project_conv (Conv2D)   multiple             75264       block5b_se_excite[0][0]          \n",
      "__________________________________________________________________________________________________\n",
      "block5b_project_bn (BatchNormal multiple             448         block5b_project_conv[0][0]       \n",
      "__________________________________________________________________________________________________\n",
      "block5b_drop (Dropout)          multiple             0           block5b_project_bn[0][0]         \n",
      "__________________________________________________________________________________________________\n",
      "block5b_add (Add)               multiple             0           block5b_drop[0][0]               \n",
      "                                                                 block5a_project_bn[0][0]         \n",
      "__________________________________________________________________________________________________\n",
      "block5c_expand_conv (Conv2D)    multiple             75264       block5b_add[0][0]                \n",
      "__________________________________________________________________________________________________\n",
      "block5c_expand_bn (BatchNormali multiple             2688        block5c_expand_conv[0][0]        \n",
      "__________________________________________________________________________________________________\n",
      "block5c_expand_activation (Acti multiple             0           block5c_expand_bn[0][0]          \n",
      "__________________________________________________________________________________________________\n",
      "block5c_dwconv (DepthwiseConv2D multiple             16800       block5c_expand_activation[0][0]  \n",
      "__________________________________________________________________________________________________\n",
      "block5c_bn (BatchNormalization) multiple             2688        block5c_dwconv[0][0]             \n",
      "__________________________________________________________________________________________________\n",
      "block5c_activation (Activation) multiple             0           block5c_bn[0][0]                 \n",
      "__________________________________________________________________________________________________\n",
      "block5c_se_squeeze (GlobalAvera (None, 672)          0           block5c_activation[0][0]         \n",
      "__________________________________________________________________________________________________\n",
      "block5c_se_reshape (Reshape)    (None, 1, 1, 672)    0           block5c_se_squeeze[0][0]         \n",
      "__________________________________________________________________________________________________\n",
      "block5c_se_reduce (Conv2D)      (None, 1, 1, 28)     18844       block5c_se_reshape[0][0]         \n",
      "__________________________________________________________________________________________________\n",
      "block5c_se_expand (Conv2D)      (None, 1, 1, 672)    19488       block5c_se_reduce[0][0]          \n",
      "__________________________________________________________________________________________________\n",
      "block5c_se_excite (Multiply)    multiple             0           block5c_activation[0][0]         \n",
      "                                                                 block5c_se_expand[0][0]          \n",
      "__________________________________________________________________________________________________\n",
      "block5c_project_conv (Conv2D)   multiple             75264       block5c_se_excite[0][0]          \n",
      "__________________________________________________________________________________________________\n",
      "block5c_project_bn (BatchNormal multiple             448         block5c_project_conv[0][0]       \n",
      "__________________________________________________________________________________________________\n",
      "block5c_drop (Dropout)          multiple             0           block5c_project_bn[0][0]         \n",
      "__________________________________________________________________________________________________\n",
      "block5c_add (Add)               multiple             0           block5c_drop[0][0]               \n",
      "                                                                 block5b_add[0][0]                \n",
      "__________________________________________________________________________________________________\n",
      "block6a_expand_conv (Conv2D)    multiple             75264       block5c_add[0][0]                \n",
      "__________________________________________________________________________________________________\n",
      "block6a_expand_bn (BatchNormali multiple             2688        block6a_expand_conv[0][0]        \n",
      "__________________________________________________________________________________________________\n",
      "block6a_expand_activation (Acti multiple             0           block6a_expand_bn[0][0]          \n",
      "__________________________________________________________________________________________________\n",
      "block6a_dwconv_pad (ZeroPadding multiple             0           block6a_expand_activation[0][0]  \n",
      "__________________________________________________________________________________________________\n",
      "block6a_dwconv (DepthwiseConv2D multiple             16800       block6a_dwconv_pad[0][0]         \n",
      "__________________________________________________________________________________________________\n",
      "block6a_bn (BatchNormalization) multiple             2688        block6a_dwconv[0][0]             \n",
      "__________________________________________________________________________________________________\n",
      "block6a_activation (Activation) multiple             0           block6a_bn[0][0]                 \n",
      "__________________________________________________________________________________________________\n",
      "block6a_se_squeeze (GlobalAvera (None, 672)          0           block6a_activation[0][0]         \n",
      "__________________________________________________________________________________________________\n",
      "block6a_se_reshape (Reshape)    (None, 1, 1, 672)    0           block6a_se_squeeze[0][0]         \n",
      "__________________________________________________________________________________________________\n",
      "block6a_se_reduce (Conv2D)      (None, 1, 1, 28)     18844       block6a_se_reshape[0][0]         \n",
      "__________________________________________________________________________________________________\n",
      "block6a_se_expand (Conv2D)      (None, 1, 1, 672)    19488       block6a_se_reduce[0][0]          \n",
      "__________________________________________________________________________________________________\n",
      "block6a_se_excite (Multiply)    multiple             0           block6a_activation[0][0]         \n",
      "                                                                 block6a_se_expand[0][0]          \n",
      "__________________________________________________________________________________________________\n",
      "block6a_project_conv (Conv2D)   multiple             129024      block6a_se_excite[0][0]          \n",
      "__________________________________________________________________________________________________\n",
      "block6a_project_bn (BatchNormal multiple             768         block6a_project_conv[0][0]       \n",
      "__________________________________________________________________________________________________\n",
      "block6b_expand_conv (Conv2D)    multiple             221184      block6a_project_bn[0][0]         \n",
      "__________________________________________________________________________________________________\n",
      "block6b_expand_bn (BatchNormali multiple             4608        block6b_expand_conv[0][0]        \n",
      "__________________________________________________________________________________________________\n",
      "block6b_expand_activation (Acti multiple             0           block6b_expand_bn[0][0]          \n",
      "__________________________________________________________________________________________________\n",
      "block6b_dwconv (DepthwiseConv2D multiple             28800       block6b_expand_activation[0][0]  \n",
      "__________________________________________________________________________________________________\n",
      "block6b_bn (BatchNormalization) multiple             4608        block6b_dwconv[0][0]             \n",
      "__________________________________________________________________________________________________\n",
      "block6b_activation (Activation) multiple             0           block6b_bn[0][0]                 \n",
      "__________________________________________________________________________________________________\n",
      "block6b_se_squeeze (GlobalAvera (None, 1152)         0           block6b_activation[0][0]         \n",
      "__________________________________________________________________________________________________\n",
      "block6b_se_reshape (Reshape)    (None, 1, 1, 1152)   0           block6b_se_squeeze[0][0]         \n",
      "__________________________________________________________________________________________________\n",
      "block6b_se_reduce (Conv2D)      (None, 1, 1, 48)     55344       block6b_se_reshape[0][0]         \n",
      "__________________________________________________________________________________________________\n",
      "block6b_se_expand (Conv2D)      (None, 1, 1, 1152)   56448       block6b_se_reduce[0][0]          \n",
      "__________________________________________________________________________________________________\n",
      "block6b_se_excite (Multiply)    multiple             0           block6b_activation[0][0]         \n",
      "                                                                 block6b_se_expand[0][0]          \n",
      "__________________________________________________________________________________________________\n",
      "block6b_project_conv (Conv2D)   multiple             221184      block6b_se_excite[0][0]          \n",
      "__________________________________________________________________________________________________\n",
      "block6b_project_bn (BatchNormal multiple             768         block6b_project_conv[0][0]       \n",
      "__________________________________________________________________________________________________\n",
      "block6b_drop (Dropout)          multiple             0           block6b_project_bn[0][0]         \n",
      "__________________________________________________________________________________________________\n",
      "block6b_add (Add)               multiple             0           block6b_drop[0][0]               \n",
      "                                                                 block6a_project_bn[0][0]         \n",
      "__________________________________________________________________________________________________\n",
      "block6c_expand_conv (Conv2D)    multiple             221184      block6b_add[0][0]                \n",
      "__________________________________________________________________________________________________\n",
      "block6c_expand_bn (BatchNormali multiple             4608        block6c_expand_conv[0][0]        \n",
      "__________________________________________________________________________________________________\n",
      "block6c_expand_activation (Acti multiple             0           block6c_expand_bn[0][0]          \n",
      "__________________________________________________________________________________________________\n",
      "block6c_dwconv (DepthwiseConv2D multiple             28800       block6c_expand_activation[0][0]  \n",
      "__________________________________________________________________________________________________\n",
      "block6c_bn (BatchNormalization) multiple             4608        block6c_dwconv[0][0]             \n",
      "__________________________________________________________________________________________________\n",
      "block6c_activation (Activation) multiple             0           block6c_bn[0][0]                 \n",
      "__________________________________________________________________________________________________\n",
      "block6c_se_squeeze (GlobalAvera (None, 1152)         0           block6c_activation[0][0]         \n",
      "__________________________________________________________________________________________________\n",
      "block6c_se_reshape (Reshape)    (None, 1, 1, 1152)   0           block6c_se_squeeze[0][0]         \n",
      "__________________________________________________________________________________________________\n",
      "block6c_se_reduce (Conv2D)      (None, 1, 1, 48)     55344       block6c_se_reshape[0][0]         \n",
      "__________________________________________________________________________________________________\n",
      "block6c_se_expand (Conv2D)      (None, 1, 1, 1152)   56448       block6c_se_reduce[0][0]          \n",
      "__________________________________________________________________________________________________\n",
      "block6c_se_excite (Multiply)    multiple             0           block6c_activation[0][0]         \n",
      "                                                                 block6c_se_expand[0][0]          \n",
      "__________________________________________________________________________________________________\n",
      "block6c_project_conv (Conv2D)   multiple             221184      block6c_se_excite[0][0]          \n",
      "__________________________________________________________________________________________________\n",
      "block6c_project_bn (BatchNormal multiple             768         block6c_project_conv[0][0]       \n",
      "__________________________________________________________________________________________________\n",
      "block6c_drop (Dropout)          multiple             0           block6c_project_bn[0][0]         \n",
      "__________________________________________________________________________________________________\n",
      "block6c_add (Add)               multiple             0           block6c_drop[0][0]               \n",
      "                                                                 block6b_add[0][0]                \n",
      "__________________________________________________________________________________________________\n",
      "block6d_expand_conv (Conv2D)    multiple             221184      block6c_add[0][0]                \n",
      "__________________________________________________________________________________________________\n",
      "block6d_expand_bn (BatchNormali multiple             4608        block6d_expand_conv[0][0]        \n",
      "__________________________________________________________________________________________________\n",
      "block6d_expand_activation (Acti multiple             0           block6d_expand_bn[0][0]          \n",
      "__________________________________________________________________________________________________\n",
      "block6d_dwconv (DepthwiseConv2D multiple             28800       block6d_expand_activation[0][0]  \n",
      "__________________________________________________________________________________________________\n",
      "block6d_bn (BatchNormalization) multiple             4608        block6d_dwconv[0][0]             \n",
      "__________________________________________________________________________________________________\n",
      "block6d_activation (Activation) multiple             0           block6d_bn[0][0]                 \n",
      "__________________________________________________________________________________________________\n",
      "block6d_se_squeeze (GlobalAvera (None, 1152)         0           block6d_activation[0][0]         \n",
      "__________________________________________________________________________________________________\n",
      "block6d_se_reshape (Reshape)    (None, 1, 1, 1152)   0           block6d_se_squeeze[0][0]         \n",
      "__________________________________________________________________________________________________\n",
      "block6d_se_reduce (Conv2D)      (None, 1, 1, 48)     55344       block6d_se_reshape[0][0]         \n",
      "__________________________________________________________________________________________________\n",
      "block6d_se_expand (Conv2D)      (None, 1, 1, 1152)   56448       block6d_se_reduce[0][0]          \n",
      "__________________________________________________________________________________________________\n",
      "block6d_se_excite (Multiply)    multiple             0           block6d_activation[0][0]         \n",
      "                                                                 block6d_se_expand[0][0]          \n",
      "__________________________________________________________________________________________________\n",
      "block6d_project_conv (Conv2D)   multiple             221184      block6d_se_excite[0][0]          \n",
      "__________________________________________________________________________________________________\n",
      "block6d_project_bn (BatchNormal multiple             768         block6d_project_conv[0][0]       \n",
      "__________________________________________________________________________________________________\n",
      "block6d_drop (Dropout)          multiple             0           block6d_project_bn[0][0]         \n",
      "__________________________________________________________________________________________________\n",
      "block6d_add (Add)               multiple             0           block6d_drop[0][0]               \n",
      "                                                                 block6c_add[0][0]                \n",
      "__________________________________________________________________________________________________\n",
      "block7a_expand_conv (Conv2D)    multiple             221184      block6d_add[0][0]                \n",
      "__________________________________________________________________________________________________\n",
      "block7a_expand_bn (BatchNormali multiple             4608        block7a_expand_conv[0][0]        \n",
      "__________________________________________________________________________________________________\n",
      "block7a_expand_activation (Acti multiple             0           block7a_expand_bn[0][0]          \n",
      "__________________________________________________________________________________________________\n",
      "block7a_dwconv (DepthwiseConv2D multiple             10368       block7a_expand_activation[0][0]  \n",
      "__________________________________________________________________________________________________\n",
      "block7a_bn (BatchNormalization) multiple             4608        block7a_dwconv[0][0]             \n",
      "__________________________________________________________________________________________________\n",
      "block7a_activation (Activation) multiple             0           block7a_bn[0][0]                 \n",
      "__________________________________________________________________________________________________\n",
      "block7a_se_squeeze (GlobalAvera (None, 1152)         0           block7a_activation[0][0]         \n",
      "__________________________________________________________________________________________________\n",
      "block7a_se_reshape (Reshape)    (None, 1, 1, 1152)   0           block7a_se_squeeze[0][0]         \n",
      "__________________________________________________________________________________________________\n",
      "block7a_se_reduce (Conv2D)      (None, 1, 1, 48)     55344       block7a_se_reshape[0][0]         \n",
      "__________________________________________________________________________________________________\n",
      "block7a_se_expand (Conv2D)      (None, 1, 1, 1152)   56448       block7a_se_reduce[0][0]          \n",
      "__________________________________________________________________________________________________\n",
      "block7a_se_excite (Multiply)    multiple             0           block7a_activation[0][0]         \n",
      "                                                                 block7a_se_expand[0][0]          \n",
      "__________________________________________________________________________________________________\n",
      "block7a_project_conv (Conv2D)   multiple             368640      block7a_se_excite[0][0]          \n",
      "__________________________________________________________________________________________________\n",
      "block7a_project_bn (BatchNormal multiple             1280        block7a_project_conv[0][0]       \n",
      "__________________________________________________________________________________________________\n",
      "top_conv (Conv2D)               multiple             409600      block7a_project_bn[0][0]         \n",
      "__________________________________________________________________________________________________\n",
      "top_bn (BatchNormalization)     multiple             5120        top_conv[0][0]                   \n",
      "__________________________________________________________________________________________________\n",
      "top_activation (Activation)     multiple             0           top_bn[0][0]                     \n",
      "==================================================================================================\n",
      "Total params: 4,049,571\n",
      "Trainable params: 0\n",
      "Non-trainable params: 4,049,571\n",
      "__________________________________________________________________________________________________\n"
     ]
    }
   ],
   "source": [
    "# How about we get the summary of base model\n",
    "base_model.summary()"
   ]
  },
  {
   "cell_type": "code",
   "execution_count": 13,
   "metadata": {
    "colab": {
     "base_uri": "https://localhost:8080/"
    },
    "id": "x8_AXG3eCbyh",
    "outputId": "2927519d-1e9b-4b0c-c802-d0752e41757b"
   },
   "outputs": [
    {
     "name": "stdout",
     "output_type": "stream",
     "text": [
      "Model: \"functional_3\"\n",
      "_________________________________________________________________\n",
      "Layer (type)                 Output Shape              Param #   \n",
      "=================================================================\n",
      "input_layer (InputLayer)     [(None, 224, 224, 3)]     0         \n",
      "_________________________________________________________________\n",
      "efficientnetb0 (Functional)  (None, None, None, 1280)  4049571   \n",
      "_________________________________________________________________\n",
      "global_average_pooling_layer (None, 1280)              0         \n",
      "_________________________________________________________________\n",
      "output_layers (Dense)        (None, 10)                12810     \n",
      "=================================================================\n",
      "Total params: 4,062,381\n",
      "Trainable params: 12,810\n",
      "Non-trainable params: 4,049,571\n",
      "_________________________________________________________________\n"
     ]
    }
   ],
   "source": [
    "#  How about a summary of our whole model?\n",
    "model_0.summary()"
   ]
  },
  {
   "cell_type": "code",
   "execution_count": 14,
   "metadata": {
    "colab": {
     "base_uri": "https://localhost:8080/",
     "height": 927
    },
    "id": "kzqmzDT7Cx2j",
    "outputId": "84b9800c-63b4-47eb-fd22-521c6e2ad12a"
   },
   "outputs": [
    {
     "data": {
      "image/png": "[encoded data removed]",
      "text/plain": [
       "<Figure size 432x288 with 1 Axes>"
      ]
     },
     "metadata": {
      "needs_background": "light"
     },
     "output_type": "display_data"
    },
    {
     "data": {
      "image/png": "[encoded data removed]",
      "text/plain": [
       "<Figure size 432x288 with 1 Axes>"
      ]
     },
     "metadata": {
      "needs_background": "light"
     },
     "output_type": "display_data"
    }
   ],
   "source": [
    "#  Check out our models 's loss curves\n",
    "plot_loss_curves(history_10_percent)"
   ]
  },
  {
   "cell_type": "code",
   "execution_count": 15,
   "metadata": {
    "colab": {
     "base_uri": "https://localhost:8080/",
     "height": 422
    },
    "id": "n5929I0PsIWH",
    "outputId": "0188a8b2-9ab3-4acf-d794-9c729f7b775c"
   },
   "outputs": [
    {
     "data": {
      "image/png": "[encoded data removed]",
      "text/plain": [
       "<IPython.core.display.Image object>"
      ]
     },
     "execution_count": 15,
     "metadata": {},
     "output_type": "execute_result"
    }
   ],
   "source": [
    "from tensorflow.keras.utils import plot_model\n",
    "plot_model(model_0,  show_shapes=True, show_layer_names=True)"
   ]
  },
  {
   "cell_type": "markdown",
   "metadata": {
    "id": "C79m5AT3stN8"
   },
   "source": [
    "## Getting a featurs vector from a trained model\n",
    "\n",
    "Lets demostrate the Global Average pooling 2D layers ...\n",
    "\n",
    "We have a tensor after our model goes through `base_ model` of shape (None, 7, 7, 1280)...\n",
    "\n",
    "But then when it passes through GlobalAveragePooling2D, it turns into (None, 1280)\n",
    "\n",
    "Lets use a similar shaped tensor of (1,4,4,3) and pass it to GlobalAveragePooling2D"
   ]
  },
  {
   "cell_type": "code",
   "execution_count": 16,
   "metadata": {
    "colab": {
     "base_uri": "https://localhost:8080/"
    },
    "id": "Jc3u4hwZuLJ1",
    "outputId": "da095303-54a1-425c-adc0-d44732ed4495"
   },
   "outputs": [
    {
     "name": "stdout",
     "output_type": "stream",
     "text": [
      "Random input tensor :\n",
      " [[[[ 0.3274685  -0.8426258   0.3194337 ]\n",
      "   [-1.4075519  -2.3880599  -1.0392479 ]\n",
      "   [-0.5573232   0.539707    1.6994323 ]\n",
      "   [ 0.28893656 -1.5066116  -0.26454744]]\n",
      "\n",
      "  [[-0.59722406 -1.9171132  -0.62044144]\n",
      "   [ 0.8504023  -0.40604794 -3.0258412 ]\n",
      "   [ 0.9058464   0.29855987 -0.22561555]\n",
      "   [-0.7616443  -1.891714   -0.9384712 ]]\n",
      "\n",
      "  [[ 0.77852213 -0.47338897  0.97772694]\n",
      "   [ 0.24694404  0.20573747 -0.5256233 ]\n",
      "   [ 0.32410017  0.02545409 -0.10638497]\n",
      "   [-0.6369475   1.1603122   0.2507359 ]]\n",
      "\n",
      "  [[-0.41728497  0.40125778 -1.4145442 ]\n",
      "   [-0.59318566 -1.6617213   0.33567193]\n",
      "   [ 0.10815629  0.2347968  -0.56668764]\n",
      "   [-0.35819843  0.88698626  0.5274477 ]]]]\n",
      "\n",
      "2D global average pooled random tensor: \n",
      "[[-0.09368646 -0.45840445 -0.28855976]]\n",
      "\n",
      "shape of Random input tensor :\n",
      " (1, 4, 4, 3)\n",
      "\n",
      "shape of 2D global average pooled random tensor: \n",
      "(1, 3)\n",
      "\n"
     ]
    }
   ],
   "source": [
    "# Define the input shape\n",
    "input_shape = (1,4,4,3)\n",
    "\n",
    "# Create a random tensor\n",
    "tf.random.set_seed(42)\n",
    "input_tensor = tf.random.normal(input_shape)\n",
    "print (f\"Random input tensor :\\n {input_tensor}\\n\")\n",
    "\n",
    "# Pass the random tensor through a global average pooling 2D layers\n",
    "global_average_pooled_tensor = tf.keras.layers.GlobalAveragePooling2D()(input_tensor)\n",
    "print (f\"2D global average pooled random tensor: \\n{global_average_pooled_tensor}\\n\")\n",
    "\n",
    "# Check the shape of different tensor\n",
    "print (f\"shape of Random input tensor :\\n {input_tensor.shape}\\n\")\n",
    "print (f\"shape of 2D global average pooled random tensor: \\n{global_average_pooled_tensor.shape}\\n\")"
   ]
  },
  {
   "cell_type": "code",
   "execution_count": 17,
   "metadata": {
    "colab": {
     "base_uri": "https://localhost:8080/"
    },
    "id": "5QpiA8gvuzjJ",
    "outputId": "af27cf0b-8132-4f53-f578-33f1052de29f"
   },
   "outputs": [
    {
     "data": {
      "text/plain": [
       "<tf.Tensor: shape=(1, 3), dtype=float32, numpy=array([[-0.09368646, -0.45840445, -0.28855976]], dtype=float32)>"
      ]
     },
     "execution_count": 17,
     "metadata": {},
     "output_type": "execute_result"
    }
   ],
   "source": [
    "#  Lets replicate the GlobalAverage2D layers\n",
    "tf.reduce_mean(input_tensor, axis = [1,2])"
   ]
  },
  {
   "cell_type": "markdown",
   "metadata": {
    "id": "Go4ijA29wrXf"
   },
   "source": [
    "> Practice: Try to do the same with the above two cells but this time use GlobalMaxPoo12D.. and see what happens.\n",
    "\n",
    "> 🔑**Note:** One of the reasons feature extraction transfer learning is named how it is i because what often happens is pretrained\n",
    "model outputs a feature vector (a long tensor of numbers which represents the learned  representation of the model on a\n",
    "particular sample, in our case, this is the output of the `tf.keras.layers.GlobalAveragePooling2D()` layer) which can then be used to extract pattems out of for our own specifc problem."
   ]
  },
  {
   "cell_type": "markdown",
   "metadata": {
    "id": "q6Spxj5G7EzW"
   },
   "source": [
    "## Running a series of transfer learning experiments\n",
    "\n",
    "We have seen the icredible results transfer learning can get with only 10% of the training data , but how does it go with 1% of the training data how about we set up a bunch of experiments to find out:\n",
    "\n",
    "1. `model_1` - use feature extraction transfer learning with 1% of the training data with data augmentation\n",
    "\n",
    "2. `model_2` - use feature extraction transfer learning with 10% of the training data with data augmentation\n",
    "\n",
    "3. `model_3` - use fine tuning  transfer learning with 10% of the training data with data augmentation\n",
    "\n",
    "4. `model_3` - use fine tuning  transfer learning with 100% of the training data with data augmentation\n",
    "\n",
    "> **Note:** throughout all experiments the same test dataset will be used to evaluate our model... this ensures consistency across evaluation metrics."
   ]
  },
  {
   "cell_type": "markdown",
   "metadata": {
    "id": "xuDCfa4_9pdp"
   },
   "source": [
    "### Getting and Preprocessing data for model_1"
   ]
  },
  {
   "cell_type": "code",
   "execution_count": 20,
   "metadata": {
    "colab": {
     "base_uri": "https://localhost:8080/"
    },
    "id": "HJDJIZTW8FAO",
    "outputId": "ad9a592b-9a63-446e-dc21-1d5dbe379411"
   },
   "outputs": [
    {
     "name": "stdout",
     "output_type": "stream",
     "text": [
      "--2024-02-27 14:48:47--  https://storage.googleapis.com/ztm_tf_course/food_vision/10_food_classes_1_percent.zip\n",
      "Resolving storage.googleapis.com (storage.googleapis.com)... 142.250.180.59, 192.178.24.219, 192.178.24.187, ...\n",
      "Connecting to storage.googleapis.com (storage.googleapis.com)|142.250.180.59|:443... connected.\n",
      "HTTP request sent, awaiting response... 200 OK\n",
      "Length: 133612354 (127M) [application/zip]\n",
      "Saving to: ‘10_food_classes_1_percent.zip’\n",
      "\n",
      "10_food_classes_1_p 100%[===================>] 127.42M  3.89MB/s    in 35s     \n",
      "\n",
      "2024-02-27 14:49:23 (3.69 MB/s) - ‘10_food_classes_1_percent.zip’ saved [133612354/133612354]\n",
      "\n"
     ]
    }
   ],
   "source": [
    "# Download and unzip data\n",
    "!wget https://storage.googleapis.com/ztm_tf_course/food_vision/10_food_classes_1_percent.zip\n",
    "unzip_data(\"10_food_classes_1_percent.zip\")"
   ]
  },
  {
   "cell_type": "code",
   "execution_count": 18,
   "metadata": {
    "id": "Lrre0jSd9A3t"
   },
   "outputs": [],
   "source": [
    "# Create training and test dirs\n",
    "train_dir_1_percent = \"10_food_classes_1_percent/train\"\n",
    "test_dir = \"10_food_classes_1_percent/test\""
   ]
  },
  {
   "cell_type": "code",
   "execution_count": 19,
   "metadata": {
    "colab": {
     "base_uri": "https://localhost:8080/"
    },
    "id": "hsZmV2ID9Q9j",
    "outputId": "39396fb0-80a9-4ba0-fd66-f1482bb7dd93"
   },
   "outputs": [
    {
     "name": "stdout",
     "output_type": "stream",
     "text": [
      "There are 2 directories and 0 images in '10_food_classes_1_percent'.\n",
      "There are 10 directories and 0 images in '10_food_classes_1_percent/train'.\n",
      "There are 0 directories and 7 images in '10_food_classes_1_percent/train/ice_cream'.\n",
      "There are 0 directories and 7 images in '10_food_classes_1_percent/train/chicken_wings'.\n",
      "There are 0 directories and 7 images in '10_food_classes_1_percent/train/steak'.\n",
      "There are 0 directories and 7 images in '10_food_classes_1_percent/train/sushi'.\n",
      "There are 0 directories and 7 images in '10_food_classes_1_percent/train/pizza'.\n",
      "There are 0 directories and 7 images in '10_food_classes_1_percent/train/grilled_salmon'.\n",
      "There are 0 directories and 7 images in '10_food_classes_1_percent/train/chicken_curry'.\n",
      "There are 0 directories and 7 images in '10_food_classes_1_percent/train/ramen'.\n",
      "There are 0 directories and 7 images in '10_food_classes_1_percent/train/fried_rice'.\n",
      "There are 0 directories and 7 images in '10_food_classes_1_percent/train/hamburger'.\n",
      "There are 10 directories and 0 images in '10_food_classes_1_percent/test'.\n",
      "There are 0 directories and 250 images in '10_food_classes_1_percent/test/ice_cream'.\n",
      "There are 0 directories and 250 images in '10_food_classes_1_percent/test/chicken_wings'.\n",
      "There are 0 directories and 250 images in '10_food_classes_1_percent/test/steak'.\n",
      "There are 0 directories and 250 images in '10_food_classes_1_percent/test/sushi'.\n",
      "There are 0 directories and 250 images in '10_food_classes_1_percent/test/pizza'.\n",
      "There are 0 directories and 250 images in '10_food_classes_1_percent/test/grilled_salmon'.\n",
      "There are 0 directories and 250 images in '10_food_classes_1_percent/test/chicken_curry'.\n",
      "There are 0 directories and 250 images in '10_food_classes_1_percent/test/ramen'.\n",
      "There are 0 directories and 250 images in '10_food_classes_1_percent/test/fried_rice'.\n",
      "There are 0 directories and 250 images in '10_food_classes_1_percent/test/hamburger'.\n"
     ]
    }
   ],
   "source": [
    "#  How mant images we are working with?\n",
    "walk_through_dir(\"10_food_classes_1_percent\")"
   ]
  },
  {
   "cell_type": "code",
   "execution_count": 20,
   "metadata": {
    "colab": {
     "base_uri": "https://localhost:8080/"
    },
    "id": "j9ugAKBE9db8",
    "outputId": "b878c29c-9c9c-4468-ec5d-77bc5c611222"
   },
   "outputs": [
    {
     "name": "stdout",
     "output_type": "stream",
     "text": [
      "Found 70 files belonging to 10 classes.\n",
      "Found 2500 files belonging to 10 classes.\n"
     ]
    }
   ],
   "source": [
    "# Setup data loaders\n",
    "IMG_SIZE = (224,224)\n",
    "BATCH_SIZE = 32\n",
    "\n",
    "tarin_data_1_percent = tf.keras.preprocessing.image_dataset_from_directory(directory = train_dir_1_percent,\n",
    "                                                                            image_size = IMG_SIZE,\n",
    "                                                                            label_mode = \"categorical\",\n",
    "                                                                            batch_size = BATCH_SIZE)\n",
    "\n",
    "test_data = tf.keras.preprocessing.image_dataset_from_directory(directory = test_dir,\n",
    "                                                                            image_size = IMG_SIZE,\n",
    "                                                                            label_mode = \"categorical\",\n",
    "                                                                            batch_size = BATCH_SIZE)"
   ]
  },
  {
   "cell_type": "markdown",
   "metadata": {
    "id": "B7HiwkOl-qIG"
   },
   "source": [
    "### Adding data augmentation right into model\n",
    "\n",
    "To add data augmentation right into our models, we can use the layers inside:\n",
    "* `tf.keras.layers.experimental.preprocessing()`\n",
    "We can see the benefits of doing this within the TensorFlow\n",
    "Data augmentation documentation:\n",
    "https://www.tensorflow.org/tutorials/images/data_augmentation#use_keras_preprocessing_layers\n",
    "\n",
    "* Preprocessing of imges (augmenting them) happens on the GPU (much faster) rather than the CPU.\n",
    "* Image data augmentation only happens during training, so we can still export our whole model and use it elsewhere.\n",
    "\n",
    "----\n",
    "There are two important points to be aware of in this data_augmentation layer :\n",
    "* Data augmentation will run on-device, synchronously with the rest of your layers,and benefit from GPU acceleration.\n",
    "* When you export your model using `model. save` , the preprocessing layers will be saved along with the rest of your model. If you later deploy this model, it will automatically standardize images (according to the\n",
    "configuration of your layers). This can save you from the effort of having to reimplement that logic serverside.\n",
    "\n"
   ]
  },
  {
   "cell_type": "code",
   "execution_count": 21,
   "metadata": {
    "id": "4vknDai2_TsI"
   },
   "outputs": [],
   "source": [
    "import tensorflow as tf\n",
    "from tensorflow import keras\n",
    "from tensorflow.keras import layers\n",
    "from tensorflow.keras.layers.experimental import preprocessing\n",
    "\n",
    "# Create data augmentation with horizontal flipping , rotations , zoom etc\n",
    "data_augmentation = keras.Sequential([\n",
    "    preprocessing.RandomFlip(\"horizontal\"),\n",
    "    preprocessing.RandomRotation(0.2),\n",
    "    preprocessing.RandomZoom(0.2),\n",
    "    preprocessing.RandomHeight(0.2),\n",
    "    preprocessing.RandomWidth(0.2),\n",
    "    # preprocessing.Rescaling(1/255.)  # Keep for models like ResNet50V2 but EfficientNet's having resclaing built-in\n",
    "    ], name = \"data_augmentation\")"
   ]
  },
  {
   "cell_type": "markdown",
   "metadata": {
    "id": "W_1R7zZaAX0J"
   },
   "source": [
    "### Visulize our data augmentation layers (see what happened to our data)"
   ]
  },
  {
   "cell_type": "code",
   "execution_count": 22,
   "metadata": {
    "colab": {
     "base_uri": "https://localhost:8080/",
     "height": 839
    },
    "id": "XrByVNVLxgAG",
    "outputId": "6604c2bc-c059-44ee-9307-935ffbd923f4"
   },
   "outputs": [
    {
     "data": {
      "image/png": "[encoded data removed]",
      "text/plain": [
       "<Figure size 432x288 with 1 Axes>"
      ]
     },
     "metadata": {
      "needs_background": "light"
     },
     "output_type": "display_data"
    },
    {
     "data": {
      "image/png": "[encoded data removed]",
      "text/plain": [
       "<Figure size 432x288 with 1 Axes>"
      ]
     },
     "metadata": {
      "needs_background": "light"
     },
     "output_type": "display_data"
    }
   ],
   "source": [
    "import matplotlib.pylab as plt\n",
    "import matplotlib.image as mpimg\n",
    "import os\n",
    "import random\n",
    "target_class = random.choice(tarin_data_1_percent.class_names)\n",
    "target_dir = \"10_food_classes_1_percent/train/\"+target_class\n",
    "random_images = random.choice(os.listdir(target_dir))\n",
    "random_image_path = target_dir + \"/\" + random_images\n",
    "\n",
    "# Read in the random image\n",
    "img = mpimg.imread(random_image_path)\n",
    "plt.imshow(img)\n",
    "plt.title (f\"Orignal image from class {target_class} \")\n",
    "plt.axis(False);\n",
    "\n",
    "# Now let plot our augmented image\n",
    "augmented_img = data_augmentation(tf.expand_dims(img,axis =0))\n",
    "plt.figure()\n",
    "plt.imshow(tf.squeeze (augmented_img)/255. )\n",
    "plt.title (f\"Augmented random image from class {target_class} \")\n",
    "plt.axis(False);\n"
   ]
  },
  {
   "cell_type": "markdown",
   "metadata": {
    "id": "uk5QYNXqx-U7"
   },
   "source": [
    "## Model 1: Feature extraction transfer learning on 1% of the data with data augmentation"
   ]
  },
  {
   "cell_type": "code",
   "execution_count": 23,
   "metadata": {
    "colab": {
     "base_uri": "https://localhost:8080/"
    },
    "id": "hK0gutYa1fls",
    "outputId": "281b18e2-b69d-431f-b2a8-de22853809fd"
   },
   "outputs": [
    {
     "name": "stdout",
     "output_type": "stream",
     "text": [
      "Saving TensorBoard log files to: transfer_learning/1_percent_dat_aug/20240227-170713\n",
      "Epoch 1/5\n",
      "3/3 [==============================] - 2s 776ms/step - loss: 2.4088 - accuracy: 0.0571 - val_loss: 2.3085 - val_accuracy: 0.0625\n",
      "Epoch 2/5\n",
      "3/3 [==============================] - 1s 483ms/step - loss: 2.1534 - accuracy: 0.1286 - val_loss: 2.1066 - val_accuracy: 0.3750\n",
      "Epoch 3/5\n",
      "3/3 [==============================] - 2s 500ms/step - loss: 2.0244 - accuracy: 0.3143 - val_loss: 2.0412 - val_accuracy: 0.3125\n",
      "Epoch 4/5\n",
      "3/3 [==============================] - 2s 543ms/step - loss: 1.8585 - accuracy: 0.4571 - val_loss: 1.9381 - val_accuracy: 0.4062\n",
      "Epoch 5/5\n",
      "3/3 [==============================] - 1s 483ms/step - loss: 1.7056 - accuracy: 0.5286 - val_loss: 1.8231 - val_accuracy: 0.5000\n"
     ]
    }
   ],
   "source": [
    "# Setup input and base model , freezing the base model layers\n",
    "input_shape = (224,224,3)\n",
    "base_model = tf.keras.applications.EfficientNetB0(include_top = False)\n",
    "base_model.trainable = False\n",
    "\n",
    "# Create the input layer\n",
    "inputs = tf.keras.Input(shape = input_shape , name = \"Input_layers\")\n",
    "\n",
    "# Add in data_augmentation Sequential model as a layer\n",
    "x = data_augmentation(inputs)\n",
    "\n",
    "# Give base model the inputs (after augmentation ) and donot train it\n",
    "x = base_model (x, training = False)\n",
    "\n",
    "# Pool output feature of the base model\n",
    "x =  layers.GlobalAveragePooling2D(name = \"global_average_pooling_layer\")(x)\n",
    "\n",
    "#  Put a Dense layer on as output\n",
    "outputs = layers.Dense(10, activation = tf.keras.activations.softmax, name = \"output_layer\")(x)\n",
    "\n",
    "# Make model using inputs and output\n",
    "model_1 = keras.Model(inputs , outputs)\n",
    "\n",
    "# Compile the model\n",
    "model_1.compile(loss = tf.keras.losses.CategoricalCrossentropy(),\n",
    "                optimizer = tf.keras.optimizers.Adam(),\n",
    "                metrics = [\"accuracy\"])\n",
    "\n",
    "# Fit the model\n",
    "history_1_percent = model_1.fit(tarin_data_1_percent,\n",
    "                                epochs =5,\n",
    "                                steps_per_epoch=len(tarin_data_1_percent),\n",
    "                                validation_data = test_data,\n",
    "                                validation_steps = int(0.25*len(test_data)),\n",
    "                                # Track model training logs\n",
    "                                callbacks = [create_tensorboard_callback(dir_name=\"transfer_learning\",\n",
    "                                                                         experiment_name = \"1_percent_dat_aug\")])"
   ]
  },
  {
   "cell_type": "code",
   "execution_count": 24,
   "metadata": {
    "colab": {
     "base_uri": "https://localhost:8080/"
    },
    "id": "WG74jJkb2NXB",
    "outputId": "eb32e190-a4fb-4978-8b89-01851aa8de03"
   },
   "outputs": [
    {
     "name": "stdout",
     "output_type": "stream",
     "text": [
      "Model: \"functional_5\"\n",
      "_________________________________________________________________\n",
      "Layer (type)                 Output Shape              Param #   \n",
      "=================================================================\n",
      "Input_layers (InputLayer)    [(None, 224, 224, 3)]     0         \n",
      "_________________________________________________________________\n",
      "data_augmentation (Sequentia (None, None, None, 3)     0         \n",
      "_________________________________________________________________\n",
      "efficientnetb0 (Functional)  (None, None, None, 1280)  4049571   \n",
      "_________________________________________________________________\n",
      "global_average_pooling_layer (None, 1280)              0         \n",
      "_________________________________________________________________\n",
      "output_layer (Dense)         (None, 10)                12810     \n",
      "=================================================================\n",
      "Total params: 4,062,381\n",
      "Trainable params: 12,810\n",
      "Non-trainable params: 4,049,571\n",
      "_________________________________________________________________\n"
     ]
    }
   ],
   "source": [
    "model_1.summary()"
   ]
  },
  {
   "cell_type": "code",
   "execution_count": null,
   "metadata": {
    "colab": {
     "base_uri": "https://localhost:8080/"
    },
    "id": "qU84m0il6nMi",
    "outputId": "27cf3634-70fb-41f0-ae15-2d809d541977"
   },
   "outputs": [],
   "source": [
    "# Evaluate on the full test dataset\n",
    "result_1_percent_data_aug = model_1.evaluate(test_data)\n",
    "result_1_percent_data_aug"
   ]
  },
  {
   "cell_type": "code",
   "execution_count": 25,
   "metadata": {
    "colab": {
     "base_uri": "https://localhost:8080/",
     "height": 927
    },
    "id": "UzV7yAk464yc",
    "outputId": "0b24797c-600f-43fd-8462-2bd07b6ff3ef"
   },
   "outputs": [
    {
     "data": {
      "image/png": "[encoded data removed]",
      "text/plain": [
       "<Figure size 432x288 with 1 Axes>"
      ]
     },
     "metadata": {
      "needs_background": "light"
     },
     "output_type": "display_data"
    },
    {
     "data": {
      "image/png": "[encoded data removed]",
      "text/plain": [
       "<Figure size 432x288 with 1 Axes>"
      ]
     },
     "metadata": {
      "needs_background": "light"
     },
     "output_type": "display_data"
    }
   ],
   "source": [
    "#  How do the model with 1 percent of the data augmentation loss curves look ?\n",
    "plot_loss_curves(history_1_percent)"
   ]
  },
  {
   "cell_type": "markdown",
   "metadata": {
    "id": "vPrVoO7o7Lxp"
   },
   "source": [
    "## Model 2 : feature extraction trasfer learning model with 10% of the data and data augmentation"
   ]
  },
  {
   "cell_type": "code",
   "execution_count": 26,
   "metadata": {
    "id": "V2ujl8DP8xg_"
   },
   "outputs": [],
   "source": [
    "#  get the 10% of data\n",
    "#  already download at the start\n",
    "\n",
    "train_dir_10_percent =  \"10_food_classes_10_percent/train\"\n",
    "test_dir_10_percent =  \"10_food_classes_10_percent/test\""
   ]
  },
  {
   "cell_type": "code",
   "execution_count": 27,
   "metadata": {
    "colab": {
     "base_uri": "https://localhost:8080/"
    },
    "id": "vigz9ue6_4cF",
    "outputId": "40cac104-7888-41a5-a7db-f898660f2422"
   },
   "outputs": [
    {
     "name": "stdout",
     "output_type": "stream",
     "text": [
      "There are 2 directories and 0 images in '10_food_classes_10_percent'.\n",
      "There are 10 directories and 0 images in '10_food_classes_10_percent/train'.\n",
      "There are 0 directories and 75 images in '10_food_classes_10_percent/train/ice_cream'.\n",
      "There are 0 directories and 75 images in '10_food_classes_10_percent/train/chicken_wings'.\n",
      "There are 0 directories and 75 images in '10_food_classes_10_percent/train/steak'.\n",
      "There are 0 directories and 75 images in '10_food_classes_10_percent/train/sushi'.\n",
      "There are 0 directories and 75 images in '10_food_classes_10_percent/train/pizza'.\n",
      "There are 0 directories and 75 images in '10_food_classes_10_percent/train/grilled_salmon'.\n",
      "There are 0 directories and 75 images in '10_food_classes_10_percent/train/chicken_curry'.\n",
      "There are 0 directories and 75 images in '10_food_classes_10_percent/train/ramen'.\n",
      "There are 0 directories and 75 images in '10_food_classes_10_percent/train/fried_rice'.\n",
      "There are 0 directories and 75 images in '10_food_classes_10_percent/train/hamburger'.\n",
      "There are 10 directories and 0 images in '10_food_classes_10_percent/test'.\n",
      "There are 0 directories and 250 images in '10_food_classes_10_percent/test/ice_cream'.\n",
      "There are 0 directories and 250 images in '10_food_classes_10_percent/test/chicken_wings'.\n",
      "There are 0 directories and 250 images in '10_food_classes_10_percent/test/steak'.\n",
      "There are 0 directories and 250 images in '10_food_classes_10_percent/test/sushi'.\n",
      "There are 0 directories and 250 images in '10_food_classes_10_percent/test/pizza'.\n",
      "There are 0 directories and 250 images in '10_food_classes_10_percent/test/grilled_salmon'.\n",
      "There are 0 directories and 250 images in '10_food_classes_10_percent/test/chicken_curry'.\n",
      "There are 0 directories and 250 images in '10_food_classes_10_percent/test/ramen'.\n",
      "There are 0 directories and 250 images in '10_food_classes_10_percent/test/fried_rice'.\n",
      "There are 0 directories and 250 images in '10_food_classes_10_percent/test/hamburger'.\n"
     ]
    }
   ],
   "source": [
    "# How many images in our directories?\n",
    "walk_through_dir(\"10_food_classes_10_percent\")"
   ]
  },
  {
   "cell_type": "code",
   "execution_count": 28,
   "metadata": {
    "colab": {
     "base_uri": "https://localhost:8080/"
    },
    "id": "PFM1bEHX-J59",
    "outputId": "d75cea40-132d-4152-f930-334f58ca8736"
   },
   "outputs": [
    {
     "name": "stdout",
     "output_type": "stream",
     "text": [
      "Found 750 files belonging to 10 classes.\n",
      "Found 2500 files belonging to 10 classes.\n"
     ]
    }
   ],
   "source": [
    "# setup data inputs\n",
    "\n",
    "import tensorflow as tf\n",
    "IMG_SIZE = (224 , 224)\n",
    "tarin_data_10_percent = tf.keras.preprocessing.image_dataset_from_directory(train_dir_10_percent,\n",
    "                                                                            label_mode = \"categorical\",\n",
    "                                                                            image_size = IMG_SIZE)\n",
    "\n",
    "test_data = tf.keras.preprocessing.image_dataset_from_directory(test_dir,\n",
    "                                                                label_mode = \"categorical\",\n",
    "                                                                image_size = IMG_SIZE)\n"
   ]
  },
  {
   "cell_type": "code",
   "execution_count": 29,
   "metadata": {
    "id": "9jWF6KYrElrq"
   },
   "outputs": [],
   "source": [
    "# Create model 2 with data augmentation built in\n",
    "from tensorflow.keras import layers\n",
    "from tensorflow.keras.layers.experimental import preprocessing\n",
    "from tensorflow.keras.models import Sequential\n",
    "\n",
    "# Build data augmentation layer\n",
    "data_augmentation = Sequential([\n",
    "    preprocessing.RandomFlip(\"horizontal\"),\n",
    "    preprocessing.RandomHeight(0.2),\n",
    "    preprocessing.RandomWidth(0.2),\n",
    "    preprocessing.RandomZoom(0.2),\n",
    "    preprocessing.RandomRotation(0.2),\n",
    "    # preprocessing.Rescaling(1/255.)\n",
    "], name = \"data_augmentation\")\n",
    "\n",
    "\n",
    "# Setup input and base model , freezing the base model layers\n",
    "input_shape = (224,224,3)\n",
    "base_model = tf.keras.applications.EfficientNetB0(include_top = False)\n",
    "base_model.trainable = False\n",
    "\n",
    "# Create the input layer\n",
    "inputs = tf.keras.Input(shape = input_shape , name = \"Input_layers\")\n",
    "\n",
    "# Add in data_augmentation Sequential model as a layer\n",
    "x = data_augmentation(inputs)\n",
    "\n",
    "# Give base model the inputs (after augmentation ) and donot train it\n",
    "x = base_model (x, training = False)\n",
    "\n",
    "# Pool output feature of the base model\n",
    "x =  layers.GlobalAveragePooling2D(name = \"global_average_pooling_layer\")(x)\n",
    "\n",
    "#  Put a Dense layer on as output\n",
    "outputs = layers.Dense(10, activation = tf.keras.activations.softmax, name = \"output_layer\")(x)\n",
    "\n",
    "# Make model using inputs and output\n",
    "model_2 = keras.Model(inputs , outputs)\n",
    "\n",
    "# Compile the model\n",
    "model_2.compile(loss = tf.keras.losses.CategoricalCrossentropy(),\n",
    "                optimizer = tf.keras.optimizers.Adam(),\n",
    "                metrics = [\"accuracy\"])\n",
    "\n"
   ]
  },
  {
   "cell_type": "code",
   "execution_count": 30,
   "metadata": {
    "colab": {
     "base_uri": "https://localhost:8080/"
    },
    "id": "PD6uOvhMF4M8",
    "outputId": "e67ae071-331a-4fb9-eb20-e6a0bc53fdb2"
   },
   "outputs": [
    {
     "name": "stdout",
     "output_type": "stream",
     "text": [
      "Model: \"functional_7\"\n",
      "_________________________________________________________________\n",
      "Layer (type)                 Output Shape              Param #   \n",
      "=================================================================\n",
      "Input_layers (InputLayer)    [(None, 224, 224, 3)]     0         \n",
      "_________________________________________________________________\n",
      "data_augmentation (Sequentia (None, None, None, 3)     0         \n",
      "_________________________________________________________________\n",
      "efficientnetb0 (Functional)  (None, None, None, 1280)  4049571   \n",
      "_________________________________________________________________\n",
      "global_average_pooling_layer (None, 1280)              0         \n",
      "_________________________________________________________________\n",
      "output_layer (Dense)         (None, 10)                12810     \n",
      "=================================================================\n",
      "Total params: 4,062,381\n",
      "Trainable params: 12,810\n",
      "Non-trainable params: 4,049,571\n",
      "_________________________________________________________________\n"
     ]
    }
   ],
   "source": [
    "model_2.summary()"
   ]
  },
  {
   "cell_type": "markdown",
   "metadata": {
    "id": "3E26CJOXGuOm"
   },
   "source": [
    "### Creating ModelCheckpoint callback\n",
    "\n",
    "The ModelCheckpoint callback intermediately saves our model (the full model or just the weights) during training. This is useful so we can\n",
    "come and start where we left off."
   ]
  },
  {
   "cell_type": "code",
   "execution_count": 31,
   "metadata": {
    "id": "oQrkIXL6JIcR"
   },
   "outputs": [],
   "source": [
    "# Set checkpoint path |\n",
    "checkpoint_path = \"ten_percent_model_checkpoints_weights/checkpoint.ckpt\"\n",
    "\n",
    "# Create a ModelCheckpoint callback that saves the model's weights only\n",
    "checkpoint_callback = tf.keras.callbacks.ModelCheckpoint (filepath= checkpoint_path,\n",
    "                                                          save_weights_only=True,\n",
    "                                                          save_best_only=True,\n",
    "                                                          save_freq=\"epoch\", # save every epoch\n",
    "                                                          verbose=1)"
   ]
  },
  {
   "cell_type": "markdown",
   "metadata": {
    "id": "yRdjs31qLqZj"
   },
   "source": [
    "### Fit  model_2 passing in the ModelCheckpoint Calllback"
   ]
  },
  {
   "cell_type": "code",
   "execution_count": 32,
   "metadata": {
    "colab": {
     "base_uri": "https://localhost:8080/"
    },
    "id": "xofbwH-rF8JR",
    "outputId": "4c38b938-8deb-47dc-d645-de7ba1dfcf67"
   },
   "outputs": [
    {
     "name": "stdout",
     "output_type": "stream",
     "text": [
      "Saving TensorBoard log files to: transfer_learning/10_percent_dat_aug/20240227-170808\n",
      "Epoch 1/5\n",
      "24/24 [==============================] - ETA: 0s - loss: 2.0085 - accuracy: 0.3253\n",
      "Epoch 00001: val_loss improved from inf to 1.49067, saving model to ten_percent_model_checkpoints_weights/checkpoint.ckpt\n",
      "24/24 [==============================] - 14s 595ms/step - loss: 2.0085 - accuracy: 0.3253 - val_loss: 1.4907 - val_accuracy: 0.7188\n",
      "Epoch 2/5\n",
      "24/24 [==============================] - ETA: 0s - loss: 1.3772 - accuracy: 0.6547\n",
      "Epoch 00002: val_loss improved from 1.49067 to 1.17465, saving model to ten_percent_model_checkpoints_weights/checkpoint.ckpt\n",
      "24/24 [==============================] - 14s 590ms/step - loss: 1.3772 - accuracy: 0.6547 - val_loss: 1.1746 - val_accuracy: 0.7500\n",
      "Epoch 3/5\n",
      "24/24 [==============================] - ETA: 0s - loss: 1.0822 - accuracy: 0.7133\n",
      "Epoch 00003: val_loss improved from 1.17465 to 0.88621, saving model to ten_percent_model_checkpoints_weights/checkpoint.ckpt\n",
      "24/24 [==============================] - 15s 611ms/step - loss: 1.0822 - accuracy: 0.7133 - val_loss: 0.8862 - val_accuracy: 0.8438\n",
      "Epoch 4/5\n",
      "24/24 [==============================] - ETA: 0s - loss: 0.9430 - accuracy: 0.7427\n",
      "Epoch 00004: val_loss improved from 0.88621 to 0.79583, saving model to ten_percent_model_checkpoints_weights/checkpoint.ckpt\n",
      "24/24 [==============================] - 15s 614ms/step - loss: 0.9430 - accuracy: 0.7427 - val_loss: 0.7958 - val_accuracy: 0.8750\n",
      "Epoch 5/5\n",
      "24/24 [==============================] - ETA: 0s - loss: 0.8244 - accuracy: 0.7893\n",
      "Epoch 00005: val_loss improved from 0.79583 to 0.72903, saving model to ten_percent_model_checkpoints_weights/checkpoint.ckpt\n",
      "24/24 [==============================] - 15s 614ms/step - loss: 0.8244 - accuracy: 0.7893 - val_loss: 0.7290 - val_accuracy: 0.7500\n"
     ]
    }
   ],
   "source": [
    "# fit the model saving checkpoint every epoch\n",
    "initial_epochs = 5\n",
    "history_10_percent_data_aug = model_2.fit(tarin_data_10_percent,\n",
    "                                epochs = initial_epochs,\n",
    "                                steps_per_epoch=len(tarin_data_10_percent),\n",
    "                                validation_data = test_data,\n",
    "                                validation_steps = int(0.25*len(test_data)),\n",
    "                                # Track model training logs\n",
    "                                callbacks = [create_tensorboard_callback(dir_name=\"transfer_learning\",\n",
    "                                                                         experiment_name = \"10_percent_dat_aug\"),\n",
    "                                             checkpoint_callback])"
   ]
  },
  {
   "cell_type": "code",
   "execution_count": 37,
   "metadata": {
    "colab": {
     "base_uri": "https://localhost:8080/"
    },
    "id": "UYXJPBDIMnqM",
    "outputId": "73eac647-d816-4487-afc3-5141e716bce8"
   },
   "outputs": [
    {
     "name": "stdout",
     "output_type": "stream",
     "text": [
      "79/79 [==============================] - 43s 550ms/step - loss: 0.6028 - accuracy: 0.8380\n"
     ]
    },
    {
     "data": {
      "text/plain": [
       "[0.6027708053588867, 0.8379999995231628]"
      ]
     },
     "execution_count": 37,
     "metadata": {},
     "output_type": "execute_result"
    }
   ],
   "source": [
    "# What were model 0 results?\n",
    "model_0.evaluate(test_data)"
   ]
  },
  {
   "cell_type": "code",
   "execution_count": 38,
   "metadata": {
    "colab": {
     "base_uri": "https://localhost:8080/"
    },
    "id": "coQKVoxqNMa3",
    "outputId": "a4944680-671a-4565-f249-ba42cddd8b23"
   },
   "outputs": [
    {
     "name": "stdout",
     "output_type": "stream",
     "text": [
      "79/79 [==============================] - 43s 546ms/step - loss: 0.7442 - accuracy: 0.7988\n"
     ]
    },
    {
     "data": {
      "text/plain": [
       "[0.7442447543144226, 0.798799991607666]"
      ]
     },
     "execution_count": 38,
     "metadata": {},
     "output_type": "execute_result"
    }
   ],
   "source": [
    "# Check model 2 results on all test data\n",
    "results_10_percent_data_aug = model_2.evaluate(test_data)\n",
    "results_10_percent_data_aug"
   ]
  },
  {
   "cell_type": "code",
   "execution_count": 33,
   "metadata": {
    "colab": {
     "base_uri": "https://localhost:8080/",
     "height": 927
    },
    "id": "xS8JMrvWNOAh",
    "outputId": "f97355a0-9fed-4df5-8188-95df67213cf7"
   },
   "outputs": [
    {
     "data": {
      "image/png": "[encoded data removed]",
      "text/plain": [
       "<Figure size 432x288 with 1 Axes>"
      ]
     },
     "metadata": {
      "needs_background": "light"
     },
     "output_type": "display_data"
    },
    {
     "data": {
      "image/png": "[encoded data removed]",
      "text/plain": [
       "<Figure size 432x288 with 1 Axes>"
      ]
     },
     "metadata": {
      "needs_background": "light"
     },
     "output_type": "display_data"
    }
   ],
   "source": [
    "# Plot model loss curves i\n",
    "plot_loss_curves (history_10_percent_data_aug)"
   ]
  },
  {
   "cell_type": "markdown",
   "metadata": {
    "id": "kFs8EzcPN5Br"
   },
   "source": [
    "### Loading in checkpointed weights\n",
    "Loading in checkpointed weights returns a model to a specific checkpoint."
   ]
  },
  {
   "cell_type": "code",
   "execution_count": 34,
   "metadata": {},
   "outputs": [
    {
     "data": {
      "text/plain": [
       "'ten_percent_model_checkpoints_weights/checkpoint.ckpt'"
      ]
     },
     "execution_count": 34,
     "metadata": {},
     "output_type": "execute_result"
    }
   ],
   "source": [
    "# checkpoint_path\n",
    "checkpoint_path"
   ]
  },
  {
   "cell_type": "code",
   "execution_count": 35,
   "metadata": {
    "colab": {
     "base_uri": "https://localhost:8080/",
     "height": 467
    },
    "id": "iMsMgwfCPskc",
    "outputId": "4cfcdacd-2d56-410a-cf5c-9c6fe5aa8d6f"
   },
   "outputs": [
    {
     "data": {
      "text/plain": [
       "<tensorflow.python.training.tracking.util.CheckpointLoadStatus at 0x7f914909d048>"
      ]
     },
     "execution_count": 35,
     "metadata": {},
     "output_type": "execute_result"
    }
   ],
   "source": [
    "# Load in saved model weights and evaluate model\n",
    "model_2.load_weights (checkpoint_path)"
   ]
  },
  {
   "cell_type": "code",
   "execution_count": 36,
   "metadata": {
    "colab": {
     "base_uri": "https://localhost:8080/"
    },
    "id": "_rZe3iJoQWGI",
    "outputId": "a01aefa4-6c83-4ab3-9ea2-f12a7b39fcb1"
   },
   "outputs": [
    {
     "name": "stdout",
     "output_type": "stream",
     "text": [
      "79/79 [==============================] - 46s 586ms/step - loss: 0.7379 - accuracy: 0.7964\n"
     ]
    }
   ],
   "source": [
    "# Evalaute model 2 with loaded weights\n",
    "loaded_weights_model_results = model_2.evaluate(test_data)"
   ]
  },
  {
   "cell_type": "code",
   "execution_count": 43,
   "metadata": {
    "colab": {
     "base_uri": "https://localhost:8080/"
    },
    "id": "BN_HympWQmta",
    "outputId": "ba0e3ed4-90f0-43f9-899a-3a3ab71f5002"
   },
   "outputs": [
    {
     "data": {
      "text/plain": [
       "False"
      ]
     },
     "execution_count": 43,
     "metadata": {},
     "output_type": "execute_result"
    }
   ],
   "source": [
    "# If the results from our previously evaluated model 2 match the loaded weights, everything has worked!\n",
    "results_10_percent_data_aug == loaded_weights_model_results"
   ]
  },
  {
   "cell_type": "code",
   "execution_count": 44,
   "metadata": {
    "colab": {
     "base_uri": "https://localhost:8080/"
    },
    "id": "4aoxkvtgRCAP",
    "outputId": "22e491f9-3d9a-4e2b-f6b7-fed73bb90ed6"
   },
   "outputs": [
    {
     "data": {
      "text/plain": [
       "[0.7442447543144226, 0.798799991607666]"
      ]
     },
     "execution_count": 44,
     "metadata": {},
     "output_type": "execute_result"
    }
   ],
   "source": [
    "results_10_percent_data_aug"
   ]
  },
  {
   "cell_type": "code",
   "execution_count": 45,
   "metadata": {
    "colab": {
     "base_uri": "https://localhost:8080/"
    },
    "id": "K1sbxNOxRFR7",
    "outputId": "a928828a-821f-4964-c11a-925f2562bfc5"
   },
   "outputs": [
    {
     "data": {
      "text/plain": [
       "[0.7442445755004883, 0.798799991607666]"
      ]
     },
     "execution_count": 45,
     "metadata": {},
     "output_type": "execute_result"
    }
   ],
   "source": [
    "loaded_weights_model_results"
   ]
  },
  {
   "cell_type": "code",
   "execution_count": 46,
   "metadata": {
    "colab": {
     "base_uri": "https://localhost:8080/"
    },
    "id": "-CGg4xq7RFn3",
    "outputId": "b058a69a-65fc-468b-a95b-01b9bea89fa3"
   },
   "outputs": [
    {
     "data": {
      "text/plain": [
       "array([ True,  True])"
      ]
     },
     "execution_count": 46,
     "metadata": {},
     "output_type": "execute_result"
    }
   ],
   "source": [
    "# Check to see if loaded model results are very close to our previous non-loaded model results\n",
    "import numpy as np\n",
    "np.isclose(np.array(results_10_percent_data_aug), np.array(loaded_weights_model_results))"
   ]
  },
  {
   "cell_type": "code",
   "execution_count": 47,
   "metadata": {
    "colab": {
     "base_uri": "https://localhost:8080/"
    },
    "id": "3XZFuHgWR15V",
    "outputId": "55b79dfb-7cfb-43e8-bf48-54b2b5a7922b"
   },
   "outputs": [
    {
     "name": "stdout",
     "output_type": "stream",
     "text": [
      "[1.78813934e-07 0.00000000e+00]\n"
     ]
    }
   ],
   "source": [
    "# Check the difference between the two results\n",
    "print(np.array(results_10_percent_data_aug)- np.array(loaded_weights_model_results))"
   ]
  },
  {
   "cell_type": "markdown",
   "metadata": {
    "id": "QCwigFc8SCmz"
   },
   "source": [
    "## Model 3: Fine-tuning an exsisting model on 10% of data\n",
    "\n",
    "> **Note:** Fine-tuning usually works best after raining a feature extraction model for a few epochs with large amounts of custom\n",
    "data."
   ]
  },
  {
   "cell_type": "code",
   "execution_count": 37,
   "metadata": {
    "colab": {
     "base_uri": "https://localhost:8080/"
    },
    "id": "1d3pc8ptgYRB",
    "outputId": "59f349aa-8033-4bd3-e650-58629041445f"
   },
   "outputs": [
    {
     "data": {
      "text/plain": [
       "[<tensorflow.python.keras.engine.input_layer.InputLayer at 0x7f92819d7400>,\n",
       " <tensorflow.python.keras.engine.sequential.Sequential at 0x7f928617c550>,\n",
       " <tensorflow.python.keras.engine.functional.Functional at 0x7f9281a39828>,\n",
       " <tensorflow.python.keras.layers.pooling.GlobalAveragePooling2D at 0x7f92819aa748>,\n",
       " <tensorflow.python.keras.layers.core.Dense at 0x7f92819aa7f0>]"
      ]
     },
     "execution_count": 37,
     "metadata": {},
     "output_type": "execute_result"
    }
   ],
   "source": [
    "model_2.layers"
   ]
  },
  {
   "cell_type": "code",
   "execution_count": 38,
   "metadata": {
    "colab": {
     "base_uri": "https://localhost:8080/"
    },
    "id": "Glxc40iDgv6M",
    "outputId": "fec5a054-668a-4fee-c3cc-d191c581b94e"
   },
   "outputs": [
    {
     "name": "stdout",
     "output_type": "stream",
     "text": [
      "<tensorflow.python.keras.engine.input_layer.InputLayer object at 0x7f92819d7400> True\n",
      "<tensorflow.python.keras.engine.sequential.Sequential object at 0x7f928617c550> True\n",
      "<tensorflow.python.keras.engine.functional.Functional object at 0x7f9281a39828> False\n",
      "<tensorflow.python.keras.layers.pooling.GlobalAveragePooling2D object at 0x7f92819aa748> True\n",
      "<tensorflow.python.keras.layers.core.Dense object at 0x7f92819aa7f0> True\n"
     ]
    }
   ],
   "source": [
    "# Are these layers trainable ?\n",
    "for layer in model_2.layers:\n",
    "  print(layer , layer.trainable)"
   ]
  },
  {
   "cell_type": "code",
   "execution_count": 39,
   "metadata": {
    "colab": {
     "base_uri": "https://localhost:8080/"
    },
    "id": "vi6gCMQ6hCl7",
    "outputId": "5c7e7e59-93bf-4439-d574-7a1edf429628"
   },
   "outputs": [
    {
     "name": "stdout",
     "output_type": "stream",
     "text": [
      "0 input_4 False\n",
      "1 rescaling_3 False\n",
      "2 normalization_3 False\n",
      "3 stem_conv_pad False\n",
      "4 stem_conv False\n",
      "5 stem_bn False\n",
      "6 stem_activation False\n",
      "7 block1a_dwconv False\n",
      "8 block1a_bn False\n",
      "9 block1a_activation False\n",
      "10 block1a_se_squeeze False\n",
      "11 block1a_se_reshape False\n",
      "12 block1a_se_reduce False\n",
      "13 block1a_se_expand False\n",
      "14 block1a_se_excite False\n",
      "15 block1a_project_conv False\n",
      "16 block1a_project_bn False\n",
      "17 block2a_expand_conv False\n",
      "18 block2a_expand_bn False\n",
      "19 block2a_expand_activation False\n",
      "20 block2a_dwconv_pad False\n",
      "21 block2a_dwconv False\n",
      "22 block2a_bn False\n",
      "23 block2a_activation False\n",
      "24 block2a_se_squeeze False\n",
      "25 block2a_se_reshape False\n",
      "26 block2a_se_reduce False\n",
      "27 block2a_se_expand False\n",
      "28 block2a_se_excite False\n",
      "29 block2a_project_conv False\n",
      "30 block2a_project_bn False\n",
      "31 block2b_expand_conv False\n",
      "32 block2b_expand_bn False\n",
      "33 block2b_expand_activation False\n",
      "34 block2b_dwconv False\n",
      "35 block2b_bn False\n",
      "36 block2b_activation False\n",
      "37 block2b_se_squeeze False\n",
      "38 block2b_se_reshape False\n",
      "39 block2b_se_reduce False\n",
      "40 block2b_se_expand False\n",
      "41 block2b_se_excite False\n",
      "42 block2b_project_conv False\n",
      "43 block2b_project_bn False\n",
      "44 block2b_drop False\n",
      "45 block2b_add False\n",
      "46 block3a_expand_conv False\n",
      "47 block3a_expand_bn False\n",
      "48 block3a_expand_activation False\n",
      "49 block3a_dwconv_pad False\n",
      "50 block3a_dwconv False\n",
      "51 block3a_bn False\n",
      "52 block3a_activation False\n",
      "53 block3a_se_squeeze False\n",
      "54 block3a_se_reshape False\n",
      "55 block3a_se_reduce False\n",
      "56 block3a_se_expand False\n",
      "57 block3a_se_excite False\n",
      "58 block3a_project_conv False\n",
      "59 block3a_project_bn False\n",
      "60 block3b_expand_conv False\n",
      "61 block3b_expand_bn False\n",
      "62 block3b_expand_activation False\n",
      "63 block3b_dwconv False\n",
      "64 block3b_bn False\n",
      "65 block3b_activation False\n",
      "66 block3b_se_squeeze False\n",
      "67 block3b_se_reshape False\n",
      "68 block3b_se_reduce False\n",
      "69 block3b_se_expand False\n",
      "70 block3b_se_excite False\n",
      "71 block3b_project_conv False\n",
      "72 block3b_project_bn False\n",
      "73 block3b_drop False\n",
      "74 block3b_add False\n",
      "75 block4a_expand_conv False\n",
      "76 block4a_expand_bn False\n",
      "77 block4a_expand_activation False\n",
      "78 block4a_dwconv_pad False\n",
      "79 block4a_dwconv False\n",
      "80 block4a_bn False\n",
      "81 block4a_activation False\n",
      "82 block4a_se_squeeze False\n",
      "83 block4a_se_reshape False\n",
      "84 block4a_se_reduce False\n",
      "85 block4a_se_expand False\n",
      "86 block4a_se_excite False\n",
      "87 block4a_project_conv False\n",
      "88 block4a_project_bn False\n",
      "89 block4b_expand_conv False\n",
      "90 block4b_expand_bn False\n",
      "91 block4b_expand_activation False\n",
      "92 block4b_dwconv False\n",
      "93 block4b_bn False\n",
      "94 block4b_activation False\n",
      "95 block4b_se_squeeze False\n",
      "96 block4b_se_reshape False\n",
      "97 block4b_se_reduce False\n",
      "98 block4b_se_expand False\n",
      "99 block4b_se_excite False\n",
      "100 block4b_project_conv False\n",
      "101 block4b_project_bn False\n",
      "102 block4b_drop False\n",
      "103 block4b_add False\n",
      "104 block4c_expand_conv False\n",
      "105 block4c_expand_bn False\n",
      "106 block4c_expand_activation False\n",
      "107 block4c_dwconv False\n",
      "108 block4c_bn False\n",
      "109 block4c_activation False\n",
      "110 block4c_se_squeeze False\n",
      "111 block4c_se_reshape False\n",
      "112 block4c_se_reduce False\n",
      "113 block4c_se_expand False\n",
      "114 block4c_se_excite False\n",
      "115 block4c_project_conv False\n",
      "116 block4c_project_bn False\n",
      "117 block4c_drop False\n",
      "118 block4c_add False\n",
      "119 block5a_expand_conv False\n",
      "120 block5a_expand_bn False\n",
      "121 block5a_expand_activation False\n",
      "122 block5a_dwconv False\n",
      "123 block5a_bn False\n",
      "124 block5a_activation False\n",
      "125 block5a_se_squeeze False\n",
      "126 block5a_se_reshape False\n",
      "127 block5a_se_reduce False\n",
      "128 block5a_se_expand False\n",
      "129 block5a_se_excite False\n",
      "130 block5a_project_conv False\n",
      "131 block5a_project_bn False\n",
      "132 block5b_expand_conv False\n",
      "133 block5b_expand_bn False\n",
      "134 block5b_expand_activation False\n",
      "135 block5b_dwconv False\n",
      "136 block5b_bn False\n",
      "137 block5b_activation False\n",
      "138 block5b_se_squeeze False\n",
      "139 block5b_se_reshape False\n",
      "140 block5b_se_reduce False\n",
      "141 block5b_se_expand False\n",
      "142 block5b_se_excite False\n",
      "143 block5b_project_conv False\n",
      "144 block5b_project_bn False\n",
      "145 block5b_drop False\n",
      "146 block5b_add False\n",
      "147 block5c_expand_conv False\n",
      "148 block5c_expand_bn False\n",
      "149 block5c_expand_activation False\n",
      "150 block5c_dwconv False\n",
      "151 block5c_bn False\n",
      "152 block5c_activation False\n",
      "153 block5c_se_squeeze False\n",
      "154 block5c_se_reshape False\n",
      "155 block5c_se_reduce False\n",
      "156 block5c_se_expand False\n",
      "157 block5c_se_excite False\n",
      "158 block5c_project_conv False\n",
      "159 block5c_project_bn False\n",
      "160 block5c_drop False\n",
      "161 block5c_add False\n",
      "162 block6a_expand_conv False\n",
      "163 block6a_expand_bn False\n",
      "164 block6a_expand_activation False\n",
      "165 block6a_dwconv_pad False\n",
      "166 block6a_dwconv False\n",
      "167 block6a_bn False\n",
      "168 block6a_activation False\n",
      "169 block6a_se_squeeze False\n",
      "170 block6a_se_reshape False\n",
      "171 block6a_se_reduce False\n",
      "172 block6a_se_expand False\n",
      "173 block6a_se_excite False\n",
      "174 block6a_project_conv False\n",
      "175 block6a_project_bn False\n",
      "176 block6b_expand_conv False\n",
      "177 block6b_expand_bn False\n",
      "178 block6b_expand_activation False\n",
      "179 block6b_dwconv False\n",
      "180 block6b_bn False\n",
      "181 block6b_activation False\n",
      "182 block6b_se_squeeze False\n",
      "183 block6b_se_reshape False\n",
      "184 block6b_se_reduce False\n",
      "185 block6b_se_expand False\n",
      "186 block6b_se_excite False\n",
      "187 block6b_project_conv False\n",
      "188 block6b_project_bn False\n",
      "189 block6b_drop False\n",
      "190 block6b_add False\n",
      "191 block6c_expand_conv False\n",
      "192 block6c_expand_bn False\n",
      "193 block6c_expand_activation False\n",
      "194 block6c_dwconv False\n",
      "195 block6c_bn False\n",
      "196 block6c_activation False\n",
      "197 block6c_se_squeeze False\n",
      "198 block6c_se_reshape False\n",
      "199 block6c_se_reduce False\n",
      "200 block6c_se_expand False\n",
      "201 block6c_se_excite False\n",
      "202 block6c_project_conv False\n",
      "203 block6c_project_bn False\n",
      "204 block6c_drop False\n",
      "205 block6c_add False\n",
      "206 block6d_expand_conv False\n",
      "207 block6d_expand_bn False\n",
      "208 block6d_expand_activation False\n",
      "209 block6d_dwconv False\n",
      "210 block6d_bn False\n",
      "211 block6d_activation False\n",
      "212 block6d_se_squeeze False\n",
      "213 block6d_se_reshape False\n",
      "214 block6d_se_reduce False\n",
      "215 block6d_se_expand False\n",
      "216 block6d_se_excite False\n",
      "217 block6d_project_conv False\n",
      "218 block6d_project_bn False\n",
      "219 block6d_drop False\n",
      "220 block6d_add False\n",
      "221 block7a_expand_conv False\n",
      "222 block7a_expand_bn False\n",
      "223 block7a_expand_activation False\n",
      "224 block7a_dwconv False\n",
      "225 block7a_bn False\n",
      "226 block7a_activation False\n",
      "227 block7a_se_squeeze False\n",
      "228 block7a_se_reshape False\n",
      "229 block7a_se_reduce False\n",
      "230 block7a_se_expand False\n",
      "231 block7a_se_excite False\n",
      "232 block7a_project_conv False\n",
      "233 block7a_project_bn False\n",
      "234 top_conv False\n",
      "235 top_bn False\n",
      "236 top_activation False\n"
     ]
    }
   ],
   "source": [
    "# What layers are in our base_model (EfficientNetB0) and are they trainable?\n",
    "for i , layer in enumerate(model_2.layers[2].layers):\n",
    "  print(i , layer.name,  layer.trainable)"
   ]
  },
  {
   "cell_type": "code",
   "execution_count": 40,
   "metadata": {
    "colab": {
     "base_uri": "https://localhost:8080/"
    },
    "id": "bZUbw3gEh46x",
    "outputId": "6c31ca34-b102-409e-8d4b-c4e35ae9e36e"
   },
   "outputs": [
    {
     "name": "stdout",
     "output_type": "stream",
     "text": [
      "0\n"
     ]
    }
   ],
   "source": [
    "# How many trainable variables are in out base model?\n",
    "print(len(model_2.layers[2].trainable_variables))"
   ]
  },
  {
   "cell_type": "code",
   "execution_count": 41,
   "metadata": {
    "colab": {
     "base_uri": "https://localhost:8080/"
    },
    "id": "ch8D2biyizEq",
    "outputId": "076135b6-f2d3-44e4-b25c-6fb45d59c101"
   },
   "outputs": [],
   "source": [
    "# To begin fine-tuning lets start by setting the lase 10 layers of our base_model.trainable  = True\n",
    "base_model.trainable = True\n",
    "\n",
    "# Freeze all layers except for the last 10\n",
    "for layer in base_model.layers[:-10]:\n",
    "  layer.trainable = False\n",
    "\n",
    "# Recompile (we have to recompile our models every time we make a change )\n",
    "model_2.compile(loss = tf.keras.losses.CategoricalCrossentropy(),\n",
    "                optimizer = tf.keras.optimizers.Adam(lr = 0.0001), # when fine-tuning you typically want to lower the learning rate by 10x\n",
    "                metrics = [\"accuracy\"])"
   ]
  },
  {
   "cell_type": "markdown",
   "metadata": {
    "id": "8L_UDte_kpYa"
   },
   "source": [
    "> **Note:** When using fine-tuning it's best practice to lower your learning rate by some amount. How much? This is a hyperparameter you can tune. But a good rule of thumb is atleast 10x (though different sources will claim other values). A good resource for information on this is the ULMFIT paper: https://anxiv.org/abs/1801.06146.\n"
   ]
  },
  {
   "cell_type": "code",
   "execution_count": 42,
   "metadata": {
    "colab": {
     "base_uri": "https://localhost:8080/"
    },
    "id": "iLjFrkgOjbNP",
    "outputId": "82bf423f-dbed-432e-d4b5-8216c4ae765e"
   },
   "outputs": [
    {
     "name": "stdout",
     "output_type": "stream",
     "text": [
      "0 input_4 False\n",
      "1 rescaling_3 False\n",
      "2 normalization_3 False\n",
      "3 stem_conv_pad False\n",
      "4 stem_conv False\n",
      "5 stem_bn False\n",
      "6 stem_activation False\n",
      "7 block1a_dwconv False\n",
      "8 block1a_bn False\n",
      "9 block1a_activation False\n",
      "10 block1a_se_squeeze False\n",
      "11 block1a_se_reshape False\n",
      "12 block1a_se_reduce False\n",
      "13 block1a_se_expand False\n",
      "14 block1a_se_excite False\n",
      "15 block1a_project_conv False\n",
      "16 block1a_project_bn False\n",
      "17 block2a_expand_conv False\n",
      "18 block2a_expand_bn False\n",
      "19 block2a_expand_activation False\n",
      "20 block2a_dwconv_pad False\n",
      "21 block2a_dwconv False\n",
      "22 block2a_bn False\n",
      "23 block2a_activation False\n",
      "24 block2a_se_squeeze False\n",
      "25 block2a_se_reshape False\n",
      "26 block2a_se_reduce False\n",
      "27 block2a_se_expand False\n",
      "28 block2a_se_excite False\n",
      "29 block2a_project_conv False\n",
      "30 block2a_project_bn False\n",
      "31 block2b_expand_conv False\n",
      "32 block2b_expand_bn False\n",
      "33 block2b_expand_activation False\n",
      "34 block2b_dwconv False\n",
      "35 block2b_bn False\n",
      "36 block2b_activation False\n",
      "37 block2b_se_squeeze False\n",
      "38 block2b_se_reshape False\n",
      "39 block2b_se_reduce False\n",
      "40 block2b_se_expand False\n",
      "41 block2b_se_excite False\n",
      "42 block2b_project_conv False\n",
      "43 block2b_project_bn False\n",
      "44 block2b_drop False\n",
      "45 block2b_add False\n",
      "46 block3a_expand_conv False\n",
      "47 block3a_expand_bn False\n",
      "48 block3a_expand_activation False\n",
      "49 block3a_dwconv_pad False\n",
      "50 block3a_dwconv False\n",
      "51 block3a_bn False\n",
      "52 block3a_activation False\n",
      "53 block3a_se_squeeze False\n",
      "54 block3a_se_reshape False\n",
      "55 block3a_se_reduce False\n",
      "56 block3a_se_expand False\n",
      "57 block3a_se_excite False\n",
      "58 block3a_project_conv False\n",
      "59 block3a_project_bn False\n",
      "60 block3b_expand_conv False\n",
      "61 block3b_expand_bn False\n",
      "62 block3b_expand_activation False\n",
      "63 block3b_dwconv False\n",
      "64 block3b_bn False\n",
      "65 block3b_activation False\n",
      "66 block3b_se_squeeze False\n",
      "67 block3b_se_reshape False\n",
      "68 block3b_se_reduce False\n",
      "69 block3b_se_expand False\n",
      "70 block3b_se_excite False\n",
      "71 block3b_project_conv False\n",
      "72 block3b_project_bn False\n",
      "73 block3b_drop False\n",
      "74 block3b_add False\n",
      "75 block4a_expand_conv False\n",
      "76 block4a_expand_bn False\n",
      "77 block4a_expand_activation False\n",
      "78 block4a_dwconv_pad False\n",
      "79 block4a_dwconv False\n",
      "80 block4a_bn False\n",
      "81 block4a_activation False\n",
      "82 block4a_se_squeeze False\n",
      "83 block4a_se_reshape False\n",
      "84 block4a_se_reduce False\n",
      "85 block4a_se_expand False\n",
      "86 block4a_se_excite False\n",
      "87 block4a_project_conv False\n",
      "88 block4a_project_bn False\n",
      "89 block4b_expand_conv False\n",
      "90 block4b_expand_bn False\n",
      "91 block4b_expand_activation False\n",
      "92 block4b_dwconv False\n",
      "93 block4b_bn False\n",
      "94 block4b_activation False\n",
      "95 block4b_se_squeeze False\n",
      "96 block4b_se_reshape False\n",
      "97 block4b_se_reduce False\n",
      "98 block4b_se_expand False\n",
      "99 block4b_se_excite False\n",
      "100 block4b_project_conv False\n",
      "101 block4b_project_bn False\n",
      "102 block4b_drop False\n",
      "103 block4b_add False\n",
      "104 block4c_expand_conv False\n",
      "105 block4c_expand_bn False\n",
      "106 block4c_expand_activation False\n",
      "107 block4c_dwconv False\n",
      "108 block4c_bn False\n",
      "109 block4c_activation False\n",
      "110 block4c_se_squeeze False\n",
      "111 block4c_se_reshape False\n",
      "112 block4c_se_reduce False\n",
      "113 block4c_se_expand False\n",
      "114 block4c_se_excite False\n",
      "115 block4c_project_conv False\n",
      "116 block4c_project_bn False\n",
      "117 block4c_drop False\n",
      "118 block4c_add False\n",
      "119 block5a_expand_conv False\n",
      "120 block5a_expand_bn False\n",
      "121 block5a_expand_activation False\n",
      "122 block5a_dwconv False\n",
      "123 block5a_bn False\n",
      "124 block5a_activation False\n",
      "125 block5a_se_squeeze False\n",
      "126 block5a_se_reshape False\n",
      "127 block5a_se_reduce False\n",
      "128 block5a_se_expand False\n",
      "129 block5a_se_excite False\n",
      "130 block5a_project_conv False\n",
      "131 block5a_project_bn False\n",
      "132 block5b_expand_conv False\n",
      "133 block5b_expand_bn False\n",
      "134 block5b_expand_activation False\n",
      "135 block5b_dwconv False\n",
      "136 block5b_bn False\n",
      "137 block5b_activation False\n",
      "138 block5b_se_squeeze False\n",
      "139 block5b_se_reshape False\n",
      "140 block5b_se_reduce False\n",
      "141 block5b_se_expand False\n",
      "142 block5b_se_excite False\n",
      "143 block5b_project_conv False\n",
      "144 block5b_project_bn False\n",
      "145 block5b_drop False\n",
      "146 block5b_add False\n",
      "147 block5c_expand_conv False\n",
      "148 block5c_expand_bn False\n",
      "149 block5c_expand_activation False\n",
      "150 block5c_dwconv False\n",
      "151 block5c_bn False\n",
      "152 block5c_activation False\n",
      "153 block5c_se_squeeze False\n",
      "154 block5c_se_reshape False\n",
      "155 block5c_se_reduce False\n",
      "156 block5c_se_expand False\n",
      "157 block5c_se_excite False\n",
      "158 block5c_project_conv False\n",
      "159 block5c_project_bn False\n",
      "160 block5c_drop False\n",
      "161 block5c_add False\n",
      "162 block6a_expand_conv False\n",
      "163 block6a_expand_bn False\n",
      "164 block6a_expand_activation False\n",
      "165 block6a_dwconv_pad False\n",
      "166 block6a_dwconv False\n",
      "167 block6a_bn False\n",
      "168 block6a_activation False\n",
      "169 block6a_se_squeeze False\n",
      "170 block6a_se_reshape False\n",
      "171 block6a_se_reduce False\n",
      "172 block6a_se_expand False\n",
      "173 block6a_se_excite False\n",
      "174 block6a_project_conv False\n",
      "175 block6a_project_bn False\n",
      "176 block6b_expand_conv False\n",
      "177 block6b_expand_bn False\n",
      "178 block6b_expand_activation False\n",
      "179 block6b_dwconv False\n",
      "180 block6b_bn False\n",
      "181 block6b_activation False\n",
      "182 block6b_se_squeeze False\n",
      "183 block6b_se_reshape False\n",
      "184 block6b_se_reduce False\n",
      "185 block6b_se_expand False\n",
      "186 block6b_se_excite False\n",
      "187 block6b_project_conv False\n",
      "188 block6b_project_bn False\n",
      "189 block6b_drop False\n",
      "190 block6b_add False\n",
      "191 block6c_expand_conv False\n",
      "192 block6c_expand_bn False\n",
      "193 block6c_expand_activation False\n",
      "194 block6c_dwconv False\n",
      "195 block6c_bn False\n",
      "196 block6c_activation False\n",
      "197 block6c_se_squeeze False\n",
      "198 block6c_se_reshape False\n",
      "199 block6c_se_reduce False\n",
      "200 block6c_se_expand False\n",
      "201 block6c_se_excite False\n",
      "202 block6c_project_conv False\n",
      "203 block6c_project_bn False\n",
      "204 block6c_drop False\n",
      "205 block6c_add False\n",
      "206 block6d_expand_conv False\n",
      "207 block6d_expand_bn False\n",
      "208 block6d_expand_activation False\n",
      "209 block6d_dwconv False\n",
      "210 block6d_bn False\n",
      "211 block6d_activation False\n",
      "212 block6d_se_squeeze False\n",
      "213 block6d_se_reshape False\n",
      "214 block6d_se_reduce False\n",
      "215 block6d_se_expand False\n",
      "216 block6d_se_excite False\n",
      "217 block6d_project_conv False\n",
      "218 block6d_project_bn False\n",
      "219 block6d_drop False\n",
      "220 block6d_add False\n",
      "221 block7a_expand_conv False\n",
      "222 block7a_expand_bn False\n",
      "223 block7a_expand_activation False\n",
      "224 block7a_dwconv False\n",
      "225 block7a_bn False\n",
      "226 block7a_activation False\n",
      "227 block7a_se_squeeze True\n",
      "228 block7a_se_reshape True\n",
      "229 block7a_se_reduce True\n",
      "230 block7a_se_expand True\n",
      "231 block7a_se_excite True\n",
      "232 block7a_project_conv True\n",
      "233 block7a_project_bn True\n",
      "234 top_conv True\n",
      "235 top_bn True\n",
      "236 top_activation True\n"
     ]
    }
   ],
   "source": [
    "# check which layers are tuneable (trainable)\n",
    "for i , layer in enumerate(model_2.layers[2].layers):\n",
    "  print(i , layer.name,  layer.trainable)"
   ]
  },
  {
   "cell_type": "code",
   "execution_count": 43,
   "metadata": {
    "colab": {
     "base_uri": "https://localhost:8080/"
    },
    "id": "P22ji82mlo7O",
    "outputId": "4197de2f-df79-472c-acb5-898c82bc974b"
   },
   "outputs": [
    {
     "name": "stdout",
     "output_type": "stream",
     "text": [
      "12\n"
     ]
    }
   ],
   "source": [
    "# Now we have unfrozen some of the layers closer to the top , how many trainable variable are there?\n",
    "print(len(model_2.trainable_variables))"
   ]
  },
  {
   "cell_type": "code",
   "execution_count": 44,
   "metadata": {
    "colab": {
     "base_uri": "https://localhost:8080/"
    },
    "id": "83PCuXpSmACg",
    "outputId": "e81ac825-5656-4c6a-adbf-fca12902071d"
   },
   "outputs": [
    {
     "name": "stdout",
     "output_type": "stream",
     "text": [
      "Saving TensorBoard log files to: transfer_learning/10_percent_fine_tube_last_10/20240227-171128\n",
      "Epoch 5/10\n",
      "24/24 [==============================] - 15s 639ms/step - loss: 0.7115 - accuracy: 0.7853 - val_loss: 0.3243 - val_accuracy: 0.9375\n",
      "Epoch 6/10\n",
      "24/24 [==============================] - 15s 609ms/step - loss: 0.5682 - accuracy: 0.8213 - val_loss: 0.7157 - val_accuracy: 0.6875\n",
      "Epoch 7/10\n",
      "24/24 [==============================] - 15s 615ms/step - loss: 0.5191 - accuracy: 0.8440 - val_loss: 0.6584 - val_accuracy: 0.7188\n",
      "Epoch 8/10\n",
      "24/24 [==============================] - 16s 652ms/step - loss: 0.4743 - accuracy: 0.8613 - val_loss: 0.4309 - val_accuracy: 0.8750\n",
      "Epoch 9/10\n",
      "24/24 [==============================] - 16s 668ms/step - loss: 0.4551 - accuracy: 0.8573 - val_loss: 0.4050 - val_accuracy: 0.8125\n",
      "Epoch 10/10\n",
      "24/24 [==============================] - 15s 608ms/step - loss: 0.4398 - accuracy: 0.8653 - val_loss: 0.7268 - val_accuracy: 0.7188\n"
     ]
    }
   ],
   "source": [
    "# Fine tune for another 5 epochs\n",
    "fine_tune_epochs =  initial_epochs + 5\n",
    "\n",
    "# Refit the model (same as model_2 except with more trainable layers )\n",
    "history_fine_10_percent_data_aug = model_2.fit(tarin_data_10_percent,\n",
    "                                               epochs = fine_tune_epochs,\n",
    "                                               steps_per_epoch=len(tarin_data_10_percent),\n",
    "                                               validation_data = test_data,\n",
    "                                               validation_steps = int(0.25*len(test_data)),\n",
    "                                               initial_epoch = history_10_percent_data_aug.epoch[-1], # Start training from previous last epoch\n",
    "                                               callbacks = [create_tensorboard_callback(dir_name=\"transfer_learning\",\n",
    "                                                                                        experiment_name = \"10_percent_fine_tube_last_10\")])"
   ]
  },
  {
   "cell_type": "code",
   "execution_count": 56,
   "metadata": {
    "colab": {
     "base_uri": "https://localhost:8080/"
    },
    "id": "Y5NSjOAUntPy",
    "outputId": "70341840-44cf-4e08-ce90-890c798c2bed"
   },
   "outputs": [
    {
     "name": "stdout",
     "output_type": "stream",
     "text": [
      "79/79 [==============================] - 44s 555ms/step - loss: 0.5192 - accuracy: 0.8256\n"
     ]
    }
   ],
   "source": [
    " # Evaluate the fine-tuned model (model 3 which is actualy model ? fine-tuned for another 5 epochs)\n",
    "results_fine_tune_10_percent = model_2.evaluate(test_data)"
   ]
  },
  {
   "cell_type": "code",
   "execution_count": 45,
   "metadata": {
    "colab": {
     "base_uri": "https://localhost:8080/",
     "height": 927
    },
    "id": "YPXSW47XSjHf",
    "outputId": "a0b4534a-8bc6-41da-d9cd-150ef34e87fa"
   },
   "outputs": [
    {
     "data": {
      "image/png": "[encoded data removed]",
      "text/plain": [
       "<Figure size 432x288 with 1 Axes>"
      ]
     },
     "metadata": {
      "needs_background": "light"
     },
     "output_type": "display_data"
    },
    {
     "data": {
      "image/png": "[encoded data removed]",
      "text/plain": [
       "<Figure size 432x288 with 1 Axes>"
      ]
     },
     "metadata": {
      "needs_background": "light"
     },
     "output_type": "display_data"
    }
   ],
   "source": [
    "# Check the loss courves of our fine tuned model\n",
    "plot_loss_curves(history_fine_10_percent_data_aug)"
   ]
  },
  {
   "cell_type": "markdown",
   "metadata": {
    "id": "U2PbR_aeS7gx"
   },
   "source": [
    "The `plot_loss_curves` function works great with models which have only been fit once, however, we want something to compare one series of running `fit()` with another (e.g. before and after fine-tuning)."
   ]
  },
  {
   "cell_type": "code",
   "execution_count": 46,
   "metadata": {
    "id": "ICNCqnTKSx68"
   },
   "outputs": [],
   "source": [
    "# Lets create a function to compare training histories\n",
    "def compare_historys(original_history, new_history, initial_epoch = 5):\n",
    "  \"\"\"\n",
    "  compare two Tensorflow History Objects\n",
    "  \"\"\"\n",
    "  # Get the orignal history measurements\n",
    "  acc = original_history.history[\"accuracy\"]\n",
    "  loss = original_history.history[\"loss\"]\n",
    "\n",
    "  val_acc = original_history.history[\"val_accuracy\"]\n",
    "  val_loss = original_history.history[\"val_loss\"]\n",
    "\n",
    "  # combine orignal history with new history metrics\n",
    "  total_acc = acc +new_history.history[\"accuracy\"]\n",
    "  total_loss = loss +new_history.history[\"loss\"]\n",
    "\n",
    "  total_val_acc = val_acc +new_history.history[\"val_accuracy\"]\n",
    "  total_val_loss = val_loss +new_history.history[\"val_loss\"]\n",
    "\n",
    "  # Make plots for accuracy\n",
    "  plt.figure(figsize = (8,8))\n",
    "  plt.subplot(2,1,1)\n",
    "  plt.plot(total_acc , label = \"Training_Accuracy\")\n",
    "  plt.plot(total_val_acc , label = \"Val_Accuracy\")\n",
    "  plt.plot([initial_epochs-1 ,initial_epochs-1], plt.ylim(), label = \"Start Fine Tunning\" )\n",
    "  plt.legend(loc = \"lower right\")\n",
    "  plt.title(\"Training and Validation Accuracy\")\n",
    "\n",
    "  # Make plots for loss\n",
    "  plt.figure(figsize = (8,8))\n",
    "  plt.subplot(2,1,1)\n",
    "  plt.plot(total_loss , label = \"Training_Loss\")\n",
    "  plt.plot(total_val_loss , label = \"Val_Loss\")\n",
    "  plt.plot([initial_epochs-1 ,initial_epochs-1], plt.ylim(), label = \"Start Fine Tunning\" )\n",
    "  plt.legend(loc = \"upper right\")\n",
    "  plt.title(\"Training and Validation Loss\")\n"
   ]
  },
  {
   "cell_type": "code",
   "execution_count": 47,
   "metadata": {
    "colab": {
     "base_uri": "https://localhost:8080/",
     "height": 665
    },
    "id": "NZvJX6fSWE0U",
    "outputId": "70c6f4ca-653e-4025-ede1-71e679796734"
   },
   "outputs": [
    {
     "data": {
      "image/png": "[encoded data removed]",
      "text/plain": [
       "<Figure size 576x576 with 1 Axes>"
      ]
     },
     "metadata": {
      "needs_background": "light"
     },
     "output_type": "display_data"
    },
    {
     "data": {
      "image/png": "[encoded data removed]",
      "text/plain": [
       "<Figure size 576x576 with 1 Axes>"
      ]
     },
     "metadata": {
      "needs_background": "light"
     },
     "output_type": "display_data"
    }
   ],
   "source": [
    "compare_historys(original_history = history_10_percent_data_aug, new_history= history_fine_10_percent_data_aug, initial_epoch = 5)"
   ]
  },
  {
   "cell_type": "markdown",
   "metadata": {
    "id": "c-nait0RWUEN"
   },
   "source": [
    "## Model 4: Fine-tuning on exsisting Model on all of the data"
   ]
  },
  {
   "cell_type": "code",
   "execution_count": 60,
   "metadata": {
    "colab": {
     "base_uri": "https://localhost:8080/"
    },
    "id": "JABrstMPXyhV",
    "outputId": "19ffaa44-9c03-45f2-e433-0a7c1ef4a6d2"
   },
   "outputs": [
    {
     "name": "stdout",
     "output_type": "stream",
     "text": [
      "--2024-02-27 15:01:38--  https://storage.googleapis.com/ztm_tf_course/food_vision/10_food_classes_all_data.zip\n",
      "Resolving storage.googleapis.com (storage.googleapis.com)... 192.178.24.251, 216.58.209.155, 142.250.185.59, ...\n",
      "Connecting to storage.googleapis.com (storage.googleapis.com)|192.178.24.251|:443... connected.\n",
      "HTTP request sent, awaiting response... 200 OK\n",
      "Length: 519183241 (495M) [application/zip]\n",
      "Saving to: ‘10_food_classes_all_data.zip’\n",
      "\n",
      "10_food_classes_all 100%[===================>] 495.13M  3.82MB/s    in 2m 14s  \n",
      "\n",
      "2024-02-27 15:03:52 (3.70 MB/s) - ‘10_food_classes_all_data.zip’ saved [519183241/519183241]\n",
      "\n"
     ]
    }
   ],
   "source": [
    "# Download and unzip 10 classes of Food101 data with all images\n",
    "\n",
    "!wget https://storage.googleapis.com/ztm_tf_course/food_vision/10_food_classes_all_data.zip\n",
    "unzip_data(\"10_food_classes_all_data.zip\")"
   ]
  },
  {
   "cell_type": "code",
   "execution_count": 48,
   "metadata": {
    "id": "6G_A77YxYPky"
   },
   "outputs": [],
   "source": [
    "# Setup training and test dir\n",
    "train_dir_all_data = \"10_food_classes_all_data/train\"\n",
    "test_dir = \"10_food_classes_all_data/test\"\n"
   ]
  },
  {
   "cell_type": "code",
   "execution_count": 49,
   "metadata": {
    "colab": {
     "base_uri": "https://localhost:8080/"
    },
    "id": "I1SIp40YYh9p",
    "outputId": "15f47a2a-e017-4cd5-f4b5-a5e8e7a4b282"
   },
   "outputs": [
    {
     "name": "stdout",
     "output_type": "stream",
     "text": [
      "There are 2 directories and 0 images in '10_food_classes_all_data'.\n",
      "There are 10 directories and 0 images in '10_food_classes_all_data/train'.\n",
      "There are 0 directories and 750 images in '10_food_classes_all_data/train/ice_cream'.\n",
      "There are 0 directories and 750 images in '10_food_classes_all_data/train/chicken_wings'.\n",
      "There are 0 directories and 750 images in '10_food_classes_all_data/train/steak'.\n",
      "There are 0 directories and 750 images in '10_food_classes_all_data/train/sushi'.\n",
      "There are 0 directories and 750 images in '10_food_classes_all_data/train/pizza'.\n",
      "There are 0 directories and 750 images in '10_food_classes_all_data/train/grilled_salmon'.\n",
      "There are 0 directories and 750 images in '10_food_classes_all_data/train/chicken_curry'.\n",
      "There are 0 directories and 750 images in '10_food_classes_all_data/train/ramen'.\n",
      "There are 0 directories and 750 images in '10_food_classes_all_data/train/fried_rice'.\n",
      "There are 0 directories and 750 images in '10_food_classes_all_data/train/hamburger'.\n",
      "There are 10 directories and 0 images in '10_food_classes_all_data/test'.\n",
      "There are 0 directories and 250 images in '10_food_classes_all_data/test/ice_cream'.\n",
      "There are 0 directories and 250 images in '10_food_classes_all_data/test/chicken_wings'.\n",
      "There are 0 directories and 250 images in '10_food_classes_all_data/test/steak'.\n",
      "There are 0 directories and 250 images in '10_food_classes_all_data/test/sushi'.\n",
      "There are 0 directories and 250 images in '10_food_classes_all_data/test/pizza'.\n",
      "There are 0 directories and 250 images in '10_food_classes_all_data/test/grilled_salmon'.\n",
      "There are 0 directories and 250 images in '10_food_classes_all_data/test/chicken_curry'.\n",
      "There are 0 directories and 250 images in '10_food_classes_all_data/test/ramen'.\n",
      "There are 0 directories and 250 images in '10_food_classes_all_data/test/fried_rice'.\n",
      "There are 0 directories and 250 images in '10_food_classes_all_data/test/hamburger'.\n"
     ]
    }
   ],
   "source": [
    "walk_through_dir(\"10_food_classes_all_data\")"
   ]
  },
  {
   "cell_type": "code",
   "execution_count": 50,
   "metadata": {
    "colab": {
     "base_uri": "https://localhost:8080/"
    },
    "id": "SbHq-CKAYl1c",
    "outputId": "612f47d1-9d34-4505-b4e5-51508795f535"
   },
   "outputs": [
    {
     "name": "stdout",
     "output_type": "stream",
     "text": [
      "Found 7500 files belonging to 10 classes.\n",
      "Found 2500 files belonging to 10 classes.\n"
     ]
    }
   ],
   "source": [
    "# setup data inputs\n",
    "import tensorflow as tf\n",
    "IMG_SIZE = (224 , 224)\n",
    "tarin_data_10_classes_full = tf.keras.preprocessing.image_dataset_from_directory(train_dir_all_data,\n",
    "                                                                            label_mode = \"categorical\",\n",
    "                                                                            image_size = IMG_SIZE)\n",
    "\n",
    "test_data = tf.keras.preprocessing.image_dataset_from_directory(test_dir,\n",
    "                                                                label_mode = \"categorical\",\n",
    "                                                                image_size = IMG_SIZE)\n"
   ]
  },
  {
   "cell_type": "markdown",
   "metadata": {
    "id": "iVdaHhOwZuRQ"
   },
   "source": [
    "The test dataset we've loaded in is the same as what we've been using for previous experiments (all experiments have used the same test\n",
    "dataset).\n",
    "\n",
    "Let's verify this..."
   ]
  },
  {
   "cell_type": "code",
   "execution_count": 51,
   "metadata": {
    "colab": {
     "base_uri": "https://localhost:8080/"
    },
    "id": "6idlzs4oZQBf",
    "outputId": "83ea2756-55ca-460c-f5b4-fecce949b85f"
   },
   "outputs": [
    {
     "name": "stdout",
     "output_type": "stream",
     "text": [
      "79/79 [==============================] - 46s 577ms/step - loss: 0.5238 - accuracy: 0.8280\n"
     ]
    },
    {
     "data": {
      "text/plain": [
       "[0.5237979888916016, 0.828000009059906]"
      ]
     },
     "execution_count": 51,
     "metadata": {},
     "output_type": "execute_result"
    }
   ],
   "source": [
    "#  Evaluate model 2 (this is the fine-tunned on 10 percent of data version)\n",
    "model_2.evaluate(test_data)"
   ]
  },
  {
   "cell_type": "code",
   "execution_count": 52,
   "metadata": {
    "colab": {
     "base_uri": "https://localhost:8080/"
    },
    "id": "Y32sg6PuaFWj",
    "outputId": "5e54e8b5-1a65-40e0-946c-4168e4c9cec9"
   },
   "outputs": [
    {
     "ename": "NameError",
     "evalue": "name 'results_fine_tune_10_percent' is not defined",
     "output_type": "error",
     "traceback": [
      "\u001b[0;31m---------------------------------------------------------------------------\u001b[0m",
      "\u001b[0;31mNameError\u001b[0m                                 Traceback (most recent call last)",
      "\u001b[0;32m<ipython-input-52-edc1a679e30b>\u001b[0m in \u001b[0;36m<module>\u001b[0;34m\u001b[0m\n\u001b[0;32m----> 1\u001b[0;31m \u001b[0mresults_fine_tune_10_percent\u001b[0m\u001b[0;34m\u001b[0m\u001b[0;34m\u001b[0m\u001b[0m\n\u001b[0m",
      "\u001b[0;31mNameError\u001b[0m: name 'results_fine_tune_10_percent' is not defined"
     ]
    }
   ],
   "source": [
    "results_fine_tune_10_percent"
   ]
  },
  {
   "cell_type": "markdown",
   "metadata": {
    "id": "PWgyAYKmaS1O"
   },
   "source": [
    "To train a fine-tuning model (model_4) we need to revert model_2 back to its feature extraction weights."
   ]
  },
  {
   "cell_type": "code",
   "execution_count": 53,
   "metadata": {
    "colab": {
     "base_uri": "https://localhost:8080/",
     "height": 561
    },
    "id": "-5enbA77aIgQ",
    "outputId": "2b3a1d0e-e8f7-4874-d4cb-00db111edd77"
   },
   "outputs": [
    {
     "data": {
      "text/plain": [
       "<tensorflow.python.training.tracking.util.CheckpointLoadStatus at 0x7f92860fae80>"
      ]
     },
     "execution_count": 53,
     "metadata": {},
     "output_type": "execute_result"
    }
   ],
   "source": [
    "\"\"\"\n",
    "Load weights from checkpoit , that way we can fine-tune from\n",
    "the stage the 10-percent data model was fine-tuned from\n",
    "\"\"\"\n",
    "\n",
    "model_2.load_weights(checkpoint_path)"
   ]
  },
  {
   "cell_type": "code",
   "execution_count": 54,
   "metadata": {
    "id": "iZdABSgjbApH"
   },
   "outputs": [
    {
     "name": "stdout",
     "output_type": "stream",
     "text": [
      "79/79 [==============================] - 45s 569ms/step - loss: 0.7379 - accuracy: 0.7964\n"
     ]
    },
    {
     "data": {
      "text/plain": [
       "[0.737904965877533, 0.7964000105857849]"
      ]
     },
     "execution_count": 54,
     "metadata": {},
     "output_type": "execute_result"
    }
   ],
   "source": [
    "# lets evaluate the model_2 now on previous checkpoints\n",
    "model_2.evaluate(test_data)"
   ]
  },
  {
   "cell_type": "code",
   "execution_count": 58,
   "metadata": {},
   "outputs": [],
   "source": [
    "# Check to see of our model_2 has been reverted back to feature extraction results \n",
    "results_10_percent_data_aug"
   ]
  },
  {
   "cell_type": "markdown",
   "metadata": {},
   "source": [
    "Alright, the previous steps might seem quite confusing but all\n",
    "we've done is:\n",
    "\n",
    "1. Trained a feature extraction transfer learning model for 5 epochs on 10% of the data with data augmentation (model_2) and we saved the model's weights using `ModelCheckpoint` callback.\n",
    "\n",
    "2. Fine-tuned the same model on the same 10% of the data for a further 5 epochs with the top 10 layers of the base model unfrozen (model 3).\n",
    "3. Saved the results and training logs each time.\n",
    "4. Reloaded the model from step 1 to do the same steps as step 2 except this time we're going to use all of the data (model_4)\n",
    "\n"
   ]
  },
  {
   "cell_type": "code",
   "execution_count": 62,
   "metadata": {},
   "outputs": [
    {
     "name": "stdout",
     "output_type": "stream",
     "text": [
      "0 Input_layers True\n",
      "1 data_augmentation True\n",
      "2 efficientnetb0 True\n",
      "3 global_average_pooling_layer True\n",
      "4 output_layer True\n"
     ]
    }
   ],
   "source": [
    "# Check Which layers are trainable in the model\n",
    "for layer_number , layer in enumerate(model_2.layers):\n",
    "  print(layer_number , layer.name,  layer.trainable)"
   ]
  },
  {
   "cell_type": "code",
   "execution_count": 63,
   "metadata": {
    "scrolled": false
   },
   "outputs": [
    {
     "name": "stdout",
     "output_type": "stream",
     "text": [
      "0 input_4 False\n",
      "1 rescaling_3 False\n",
      "2 normalization_3 False\n",
      "3 stem_conv_pad False\n",
      "4 stem_conv False\n",
      "5 stem_bn False\n",
      "6 stem_activation False\n",
      "7 block1a_dwconv False\n",
      "8 block1a_bn False\n",
      "9 block1a_activation False\n",
      "10 block1a_se_squeeze False\n",
      "11 block1a_se_reshape False\n",
      "12 block1a_se_reduce False\n",
      "13 block1a_se_expand False\n",
      "14 block1a_se_excite False\n",
      "15 block1a_project_conv False\n",
      "16 block1a_project_bn False\n",
      "17 block2a_expand_conv False\n",
      "18 block2a_expand_bn False\n",
      "19 block2a_expand_activation False\n",
      "20 block2a_dwconv_pad False\n",
      "21 block2a_dwconv False\n",
      "22 block2a_bn False\n",
      "23 block2a_activation False\n",
      "24 block2a_se_squeeze False\n",
      "25 block2a_se_reshape False\n",
      "26 block2a_se_reduce False\n",
      "27 block2a_se_expand False\n",
      "28 block2a_se_excite False\n",
      "29 block2a_project_conv False\n",
      "30 block2a_project_bn False\n",
      "31 block2b_expand_conv False\n",
      "32 block2b_expand_bn False\n",
      "33 block2b_expand_activation False\n",
      "34 block2b_dwconv False\n",
      "35 block2b_bn False\n",
      "36 block2b_activation False\n",
      "37 block2b_se_squeeze False\n",
      "38 block2b_se_reshape False\n",
      "39 block2b_se_reduce False\n",
      "40 block2b_se_expand False\n",
      "41 block2b_se_excite False\n",
      "42 block2b_project_conv False\n",
      "43 block2b_project_bn False\n",
      "44 block2b_drop False\n",
      "45 block2b_add False\n",
      "46 block3a_expand_conv False\n",
      "47 block3a_expand_bn False\n",
      "48 block3a_expand_activation False\n",
      "49 block3a_dwconv_pad False\n",
      "50 block3a_dwconv False\n",
      "51 block3a_bn False\n",
      "52 block3a_activation False\n",
      "53 block3a_se_squeeze False\n",
      "54 block3a_se_reshape False\n",
      "55 block3a_se_reduce False\n",
      "56 block3a_se_expand False\n",
      "57 block3a_se_excite False\n",
      "58 block3a_project_conv False\n",
      "59 block3a_project_bn False\n",
      "60 block3b_expand_conv False\n",
      "61 block3b_expand_bn False\n",
      "62 block3b_expand_activation False\n",
      "63 block3b_dwconv False\n",
      "64 block3b_bn False\n",
      "65 block3b_activation False\n",
      "66 block3b_se_squeeze False\n",
      "67 block3b_se_reshape False\n",
      "68 block3b_se_reduce False\n",
      "69 block3b_se_expand False\n",
      "70 block3b_se_excite False\n",
      "71 block3b_project_conv False\n",
      "72 block3b_project_bn False\n",
      "73 block3b_drop False\n",
      "74 block3b_add False\n",
      "75 block4a_expand_conv False\n",
      "76 block4a_expand_bn False\n",
      "77 block4a_expand_activation False\n",
      "78 block4a_dwconv_pad False\n",
      "79 block4a_dwconv False\n",
      "80 block4a_bn False\n",
      "81 block4a_activation False\n",
      "82 block4a_se_squeeze False\n",
      "83 block4a_se_reshape False\n",
      "84 block4a_se_reduce False\n",
      "85 block4a_se_expand False\n",
      "86 block4a_se_excite False\n",
      "87 block4a_project_conv False\n",
      "88 block4a_project_bn False\n",
      "89 block4b_expand_conv False\n",
      "90 block4b_expand_bn False\n",
      "91 block4b_expand_activation False\n",
      "92 block4b_dwconv False\n",
      "93 block4b_bn False\n",
      "94 block4b_activation False\n",
      "95 block4b_se_squeeze False\n",
      "96 block4b_se_reshape False\n",
      "97 block4b_se_reduce False\n",
      "98 block4b_se_expand False\n",
      "99 block4b_se_excite False\n",
      "100 block4b_project_conv False\n",
      "101 block4b_project_bn False\n",
      "102 block4b_drop False\n",
      "103 block4b_add False\n",
      "104 block4c_expand_conv False\n",
      "105 block4c_expand_bn False\n",
      "106 block4c_expand_activation False\n",
      "107 block4c_dwconv False\n",
      "108 block4c_bn False\n",
      "109 block4c_activation False\n",
      "110 block4c_se_squeeze False\n",
      "111 block4c_se_reshape False\n",
      "112 block4c_se_reduce False\n",
      "113 block4c_se_expand False\n",
      "114 block4c_se_excite False\n",
      "115 block4c_project_conv False\n",
      "116 block4c_project_bn False\n",
      "117 block4c_drop False\n",
      "118 block4c_add False\n",
      "119 block5a_expand_conv False\n",
      "120 block5a_expand_bn False\n",
      "121 block5a_expand_activation False\n",
      "122 block5a_dwconv False\n",
      "123 block5a_bn False\n",
      "124 block5a_activation False\n",
      "125 block5a_se_squeeze False\n",
      "126 block5a_se_reshape False\n",
      "127 block5a_se_reduce False\n",
      "128 block5a_se_expand False\n",
      "129 block5a_se_excite False\n",
      "130 block5a_project_conv False\n",
      "131 block5a_project_bn False\n",
      "132 block5b_expand_conv False\n",
      "133 block5b_expand_bn False\n",
      "134 block5b_expand_activation False\n",
      "135 block5b_dwconv False\n",
      "136 block5b_bn False\n",
      "137 block5b_activation False\n",
      "138 block5b_se_squeeze False\n",
      "139 block5b_se_reshape False\n",
      "140 block5b_se_reduce False\n",
      "141 block5b_se_expand False\n",
      "142 block5b_se_excite False\n",
      "143 block5b_project_conv False\n",
      "144 block5b_project_bn False\n",
      "145 block5b_drop False\n",
      "146 block5b_add False\n",
      "147 block5c_expand_conv False\n",
      "148 block5c_expand_bn False\n",
      "149 block5c_expand_activation False\n",
      "150 block5c_dwconv False\n",
      "151 block5c_bn False\n",
      "152 block5c_activation False\n",
      "153 block5c_se_squeeze False\n",
      "154 block5c_se_reshape False\n",
      "155 block5c_se_reduce False\n",
      "156 block5c_se_expand False\n",
      "157 block5c_se_excite False\n",
      "158 block5c_project_conv False\n",
      "159 block5c_project_bn False\n",
      "160 block5c_drop False\n",
      "161 block5c_add False\n",
      "162 block6a_expand_conv False\n",
      "163 block6a_expand_bn False\n",
      "164 block6a_expand_activation False\n",
      "165 block6a_dwconv_pad False\n",
      "166 block6a_dwconv False\n",
      "167 block6a_bn False\n",
      "168 block6a_activation False\n",
      "169 block6a_se_squeeze False\n",
      "170 block6a_se_reshape False\n",
      "171 block6a_se_reduce False\n",
      "172 block6a_se_expand False\n",
      "173 block6a_se_excite False\n",
      "174 block6a_project_conv False\n",
      "175 block6a_project_bn False\n",
      "176 block6b_expand_conv False\n",
      "177 block6b_expand_bn False\n",
      "178 block6b_expand_activation False\n",
      "179 block6b_dwconv False\n",
      "180 block6b_bn False\n",
      "181 block6b_activation False\n",
      "182 block6b_se_squeeze False\n",
      "183 block6b_se_reshape False\n",
      "184 block6b_se_reduce False\n",
      "185 block6b_se_expand False\n",
      "186 block6b_se_excite False\n",
      "187 block6b_project_conv False\n",
      "188 block6b_project_bn False\n",
      "189 block6b_drop False\n",
      "190 block6b_add False\n",
      "191 block6c_expand_conv False\n",
      "192 block6c_expand_bn False\n",
      "193 block6c_expand_activation False\n",
      "194 block6c_dwconv False\n",
      "195 block6c_bn False\n",
      "196 block6c_activation False\n",
      "197 block6c_se_squeeze False\n",
      "198 block6c_se_reshape False\n",
      "199 block6c_se_reduce False\n",
      "200 block6c_se_expand False\n",
      "201 block6c_se_excite False\n",
      "202 block6c_project_conv False\n",
      "203 block6c_project_bn False\n",
      "204 block6c_drop False\n",
      "205 block6c_add False\n",
      "206 block6d_expand_conv False\n",
      "207 block6d_expand_bn False\n",
      "208 block6d_expand_activation False\n",
      "209 block6d_dwconv False\n",
      "210 block6d_bn False\n",
      "211 block6d_activation False\n",
      "212 block6d_se_squeeze False\n",
      "213 block6d_se_reshape False\n",
      "214 block6d_se_reduce False\n",
      "215 block6d_se_expand False\n",
      "216 block6d_se_excite False\n",
      "217 block6d_project_conv False\n",
      "218 block6d_project_bn False\n",
      "219 block6d_drop False\n",
      "220 block6d_add False\n",
      "221 block7a_expand_conv False\n",
      "222 block7a_expand_bn False\n",
      "223 block7a_expand_activation False\n",
      "224 block7a_dwconv False\n",
      "225 block7a_bn False\n",
      "226 block7a_activation False\n",
      "227 block7a_se_squeeze True\n",
      "228 block7a_se_reshape True\n",
      "229 block7a_se_reduce True\n",
      "230 block7a_se_expand True\n",
      "231 block7a_se_excite True\n",
      "232 block7a_project_conv True\n",
      "233 block7a_project_bn True\n",
      "234 top_conv True\n",
      "235 top_bn True\n",
      "236 top_activation True\n"
     ]
    }
   ],
   "source": [
    "# Lets drill into our base_model (efficentB0) and see what layers and see what layers are trainabele\n",
    "for layer_number , layer in enumerate(model_2.layers[2].layers):\n",
    "  print(layer_number , layer.name,  layer.trainable)"
   ]
  },
  {
   "cell_type": "code",
   "execution_count": 64,
   "metadata": {},
   "outputs": [],
   "source": [
    "# Compile \n",
    "model_2.compile(loss = tf.keras.losses.CategoricalCrossentropy(),\n",
    "                optimizer = tf.keras.optimizers.Adam(lr = 0.0001),\n",
    "                metrics = [\"accuracy\"])"
   ]
  },
  {
   "cell_type": "code",
   "execution_count": 65,
   "metadata": {},
   "outputs": [
    {
     "name": "stdout",
     "output_type": "stream",
     "text": [
      "Saving TensorBoard log files to: transfer_learning/full_10_classes_fine_tune_last_10/20240227-173749\n",
      "Epoch 5/10\n",
      "235/235 [==============================] - 186s 793ms/step - loss: 0.7608 - accuracy: 0.7507 - val_loss: 0.6266 - val_accuracy: 0.8125\n",
      "Epoch 6/10\n",
      "235/235 [==============================] - 181s 772ms/step - loss: 0.6106 - accuracy: 0.8011 - val_loss: 0.4520 - val_accuracy: 0.9062\n",
      "Epoch 7/10\n",
      "235/235 [==============================] - 184s 785ms/step - loss: 0.5404 - accuracy: 0.8248 - val_loss: 0.3449 - val_accuracy: 0.8750\n",
      "Epoch 8/10\n",
      "235/235 [==============================] - 179s 762ms/step - loss: 0.5070 - accuracy: 0.8360 - val_loss: 0.3196 - val_accuracy: 0.9375\n",
      "Epoch 9/10\n",
      "235/235 [==============================] - 185s 787ms/step - loss: 0.4689 - accuracy: 0.8509 - val_loss: 0.2613 - val_accuracy: 0.9375\n",
      "Epoch 10/10\n",
      "235/235 [==============================] - 191s 813ms/step - loss: 0.4377 - accuracy: 0.8580 - val_loss: 0.1646 - val_accuracy: 0.9375\n"
     ]
    }
   ],
   "source": [
    "# Continue to train and fine-tune the model to our data (100% of training data)\n",
    "# Fine tune for another 5 epochs\n",
    "fine_tune_epochs =  initial_epochs + 5\n",
    "\n",
    "\n",
    "history_fine_10_classes_full = model_2.fit(tarin_data_10_classes_full,\n",
    "                                               epochs = fine_tune_epochs,\n",
    "                                               steps_per_epoch=len(tarin_data_10_classes_full),\n",
    "                                               validation_data = test_data,\n",
    "                                               validation_steps = int(0.25*len(test_data)),\n",
    "                                               initial_epoch = history_10_percent_data_aug.epoch[-1], # Start training from previous last epoch\n",
    "                                               callbacks = [create_tensorboard_callback(dir_name=\"transfer_learning\",\n",
    "                                                                                        experiment_name = \"full_10_classes_fine_tune_last_10\")])"
   ]
  },
  {
   "cell_type": "code",
   "execution_count": 66,
   "metadata": {},
   "outputs": [
    {
     "name": "stdout",
     "output_type": "stream",
     "text": [
      "79/79 [==============================] - 59s 746ms/step - loss: 0.3125 - accuracy: 0.8988\n"
     ]
    }
   ],
   "source": [
    "# lets evaluate on all of the test data\n",
    "result_fine_tune_full_data = model_2.evaluate(test_data)"
   ]
  },
  {
   "cell_type": "code",
   "execution_count": 67,
   "metadata": {},
   "outputs": [
    {
     "data": {
      "image/png": "[encoded data removed]",
      "text/plain": [
       "<Figure size 576x576 with 1 Axes>"
      ]
     },
     "metadata": {
      "needs_background": "light"
     },
     "output_type": "display_data"
    },
    {
     "data": {
      "image/png": "[encoded data removed]",
      "text/plain": [
       "<Figure size 576x576 with 1 Axes>"
      ]
     },
     "metadata": {
      "needs_background": "light"
     },
     "output_type": "display_data"
    }
   ],
   "source": [
    "# How did fine-tuning go with more data ?\n",
    "compare_historys(original_history = history_10_percent_data_aug, \n",
    "                 new_history= history_fine_10_classes_full, \n",
    "                 initial_epoch = 5)"
   ]
  },
  {
   "cell_type": "markdown",
   "metadata": {},
   "source": [
    "## Viewing our experiment data on TensorBoard"
   ]
  },
  {
   "cell_type": "code",
   "execution_count": 68,
   "metadata": {},
   "outputs": [
    {
     "name": "stdout",
     "output_type": "stream",
     "text": [
      "2024-02-27 17:57:42.363371: W tensorflow/stream_executor/platform/default/dso_loader.cc:59] Could not load dynamic library 'libcudart.so.10.1'; dlerror: libcudart.so.10.1: cannot open shared object file: No such file or directory\n",
      "2024-02-27 17:57:42.363391: I tensorflow/stream_executor/cuda/cudart_stub.cc:29] Ignore above cudart dlerror if you do not have a GPU set up on your machine.\n",
      "usage: tensorboard [-h] [--helpfull] {serve,dev} ...\n",
      "tensorboard: error: unrecognized arguments: --discription A series of different transfer learning experiments with varying amount of data and fine tuning.\n"
     ]
    }
   ],
   "source": [
    "# View tensorboard logs of transfer learning modelling experiments (should ~4 models)\n",
    "# Upload TensorBoard dev records\n",
    "!tensorboard dev upload --logdir ./transfer_learning \\\n",
    "--name \"Transfer Learning Experiment with 10 Food101 classes \" \\\n",
    "--discription \"A series of different transfer learning experiments with varying amount of data and fine tuning.\"\\\n",
    "--one_shot #exit the uploader once its finished uploading\n"
   ]
  },
  {
   "cell_type": "markdown",
   "metadata": {},
   "source": [
    "My TensorBoard experiments are available at: https:/tensorboard.dev/experiment/veySzjmkRKKBLVSJAQMO8g/"
   ]
  },
  {
   "cell_type": "code",
   "execution_count": null,
   "metadata": {},
   "outputs": [
    {
     "name": "stdout",
     "output_type": "stream",
     "text": [
      "2024-02-27 18:00:07.984487: W tensorflow/stream_executor/platform/default/dso_loader.cc:59] Could not load dynamic library 'libcudart.so.10.1'; dlerror: libcudart.so.10.1: cannot open shared object file: No such file or directory\n",
      "2024-02-27 18:00:07.984509: I tensorflow/stream_executor/cuda/cudart_stub.cc:29] Ignore above cudart dlerror if you do not have a GPU set up on your machine.\n",
      "\n",
      "***** TensorBoard Uploader *****\n",
      "\n",
      "This will list all experiments that you've uploaded to\n",
      "https://tensorboard.dev. TensorBoard.dev experiments are visible\n",
      "to everyone. Do not upload sensitive data.\n",
      "\n",
      "Your use of this service is subject to Google's Terms of Service\n",
      "<https://policies.google.com/terms> and Privacy Policy\n",
      "<https://policies.google.com/privacy>, and TensorBoard.dev's Terms of Service\n",
      "<https://tensorboard.dev/policy/terms/>.\n",
      "\n",
      "This notice will not be shown again while you are logged into the uploader.\n",
      "To log out, run `tensorboard dev auth revoke`.\n",
      "\n",
      "Continue? (yes/NO) "
     ]
    }
   ],
   "source": [
    "# View all of your uploaded TensorBoard.dev experiments (public)\n",
    "!tensorboard dev list"
   ]
  },
  {
   "cell_type": "code",
   "execution_count": null,
   "metadata": {},
   "outputs": [],
   "source": [
    "#  To delete an experiment\n",
    "# !tensorboard dev delete --experiment_id experiment_id"
   ]
  }
 ],
 "metadata": {
  "accelerator": "GPU",
  "colab": {
   "gpuType": "T4",
   "provenance": []
  },
  "kernelspec": {
   "display_name": "Python 3",
   "language": "python",
   "name": "python3"
  },
  "language_info": {
   "codemirror_mode": {
    "name": "ipython",
    "version": 3
   },
   "file_extension": ".py",
   "mimetype": "text/x-python",
   "name": "python",
   "nbconvert_exporter": "python",
   "pygments_lexer": "ipython3",
   "version": "3.6.9"
  }
 },
 "nbformat": 4,
 "nbformat_minor": 1
}
