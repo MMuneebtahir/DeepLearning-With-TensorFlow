{
 "cells": [
  {
   "cell_type": "markdown",
   "metadata": {
    "id": "QuvgyaZ2jIvi"
   },
   "source": [
    "# Transfer Learning with Tensorflow Part 1 : Feature Extraction\n",
    "\n",
    "Transfer learning is leveraging a working model's exsisting architecture and learned patterns for our own problem,\n",
    "\n",
    "There are two main benefits:\n",
    "1. Can leverage an exsisting neural network architecture proven to work on problem similar to our own.\n",
    "2. Can leverage a working neural network architecture which has already learned patterns on similer data to our own , then we cam adapt those patterns to our own data"
   ]
  },
  {
   "cell_type": "code",
   "execution_count": 1,
   "metadata": {
    "colab": {
     "base_uri": "https://localhost:8080/"
    },
    "id": "OMSqP4-dnWGz",
    "outputId": "c629b170-9da6-4006-dbf0-69764cb2f4bf"
   },
   "outputs": [
    {
     "name": "stdout",
     "output_type": "stream",
     "text": [
      "/bin/bash: nvidia-smi: command not found\r\n"
     ]
    }
   ],
   "source": [
    "# Are we are using GPU?\n",
    "!nvidia-smi"
   ]
  },
  {
   "cell_type": "markdown",
   "metadata": {
    "id": "3o0jWRNSns9E"
   },
   "source": [
    "## Downloading and becoming one with the data"
   ]
  },
  {
   "cell_type": "code",
   "execution_count": 2,
   "metadata": {
    "colab": {
     "base_uri": "https://localhost:8080/"
    },
    "id": "PEK2daRLnzFZ",
    "outputId": "106d0c39-8f85-4087-cb1f-3130a11837a6"
   },
   "outputs": [
    {
     "name": "stdout",
     "output_type": "stream",
     "text": [
      "--2024-02-22 09:43:02--  https://storage.googleapis.com/ztm_tf_course/food_vision/10_food_classes_10_percent.zip\n",
      "Resolving storage.googleapis.com (storage.googleapis.com)... 142.250.181.187, 192.178.24.219, 192.178.24.155, ...\n",
      "Connecting to storage.googleapis.com (storage.googleapis.com)|142.250.181.187|:443... connected.\n",
      "HTTP request sent, awaiting response... 200 OK\n",
      "Length: 168546183 (161M) [application/zip]\n",
      "Saving to: ‘10_food_classes_10_percent.zip’\n",
      "\n",
      "10_food_classes_10_ 100%[===================>] 160.74M  3.25MB/s    in 51s     \n",
      "\n",
      "2024-02-22 09:43:54 (3.13 MB/s) - ‘10_food_classes_10_percent.zip’ saved [168546183/168546183]\n",
      "\n"
     ]
    }
   ],
   "source": [
    "# Get data (10% of 10 food classes from Food101) -https://www.kaggle.com/datasets/dansbecker/food-101\n",
    "import zipfile\n",
    "\n",
    "# Download the data\n",
    "!wget https://storage.googleapis.com/ztm_tf_course/food_vision/10_food_classes_10_percent.zip\n",
    "\n",
    "# Unzip the downloaded file\n",
    "zip_ref = zipfile.ZipFile(\"10_food_classes_10_percent.zip\")\n",
    "zip_ref.extractall()\n",
    "zip_ref.close()"
   ]
  },
  {
   "cell_type": "code",
   "execution_count": 4,
   "metadata": {
    "colab": {
     "base_uri": "https://localhost:8080/"
    },
    "id": "DlgYRd6Vouhs",
    "outputId": "fff94492-4c7f-4183-97dd-7b1a0c7ed6ad"
   },
   "outputs": [
    {
     "name": "stdout",
     "output_type": "stream",
     "text": [
      "There are 2 directories and 0 images in 10_food_classes_10_percent .\n",
      "There are 10 directories and 0 images in 10_food_classes_10_percent/train .\n",
      "There are 0 directories and 75 images in 10_food_classes_10_percent/train/grilled_salmon .\n",
      "There are 0 directories and 75 images in 10_food_classes_10_percent/train/chicken_wings .\n",
      "There are 0 directories and 75 images in 10_food_classes_10_percent/train/sushi .\n",
      "There are 0 directories and 75 images in 10_food_classes_10_percent/train/chicken_curry .\n",
      "There are 0 directories and 75 images in 10_food_classes_10_percent/train/steak .\n",
      "There are 0 directories and 75 images in 10_food_classes_10_percent/train/fried_rice .\n",
      "There are 0 directories and 75 images in 10_food_classes_10_percent/train/ramen .\n",
      "There are 0 directories and 75 images in 10_food_classes_10_percent/train/hamburger .\n",
      "There are 0 directories and 75 images in 10_food_classes_10_percent/train/pizza .\n",
      "There are 0 directories and 75 images in 10_food_classes_10_percent/train/ice_cream .\n",
      "There are 10 directories and 0 images in 10_food_classes_10_percent/test .\n",
      "There are 0 directories and 250 images in 10_food_classes_10_percent/test/grilled_salmon .\n",
      "There are 0 directories and 250 images in 10_food_classes_10_percent/test/chicken_wings .\n",
      "There are 0 directories and 250 images in 10_food_classes_10_percent/test/sushi .\n",
      "There are 0 directories and 250 images in 10_food_classes_10_percent/test/chicken_curry .\n",
      "There are 0 directories and 250 images in 10_food_classes_10_percent/test/steak .\n",
      "There are 0 directories and 250 images in 10_food_classes_10_percent/test/fried_rice .\n",
      "There are 0 directories and 250 images in 10_food_classes_10_percent/test/ramen .\n",
      "There are 0 directories and 250 images in 10_food_classes_10_percent/test/hamburger .\n",
      "There are 0 directories and 250 images in 10_food_classes_10_percent/test/pizza .\n",
      "There are 0 directories and 250 images in 10_food_classes_10_percent/test/ice_cream .\n"
     ]
    }
   ],
   "source": [
    "# How many images in each folder\n",
    "import os\n",
    "\n",
    "# Walk through 10 percent data directory and list number of files\n",
    "for dirpath , dirnames, filenames, in os.walk(\"10_food_classes_10_percent\"):\n",
    "  print(f\"There are {len(dirnames)} directories and {len(filenames)} images in {dirpath} .\")"
   ]
  },
  {
   "cell_type": "markdown",
   "metadata": {
    "id": "inUD2YVSptHu"
   },
   "source": [
    "## Creating data loaders (preparing the data)\n",
    "\n",
    "We will use the `ImageDateGenerator` class to load in our images in batches.\n"
   ]
  },
  {
   "cell_type": "code",
   "execution_count": 5,
   "metadata": {
    "colab": {
     "base_uri": "https://localhost:8080/"
    },
    "id": "R1DWJkpNqYg2",
    "outputId": "b6a6d522-dfab-439e-cc29-73d84ef0a611"
   },
   "outputs": [
    {
     "name": "stdout",
     "output_type": "stream",
     "text": [
      "Training images : \n",
      "Found 750 images belonging to 10 classes.\n",
      "Testing images : \n",
      "Found 2500 images belonging to 10 classes.\n"
     ]
    }
   ],
   "source": [
    "# Setup data input\n",
    "from tensorflow.keras.preprocessing.image  import ImageDataGenerator\n",
    "\n",
    "IMAGE_SHAPE = (224,224)\n",
    "BATCH_SIZE = 32\n",
    "\n",
    "train_dir = \"10_food_classes_10_percent/train/\"\n",
    "test_dir = \"10_food_classes_10_percent/test/\"\n",
    "\n",
    "train_datagen = ImageDataGenerator(rescale = 1/255.)\n",
    "test_datagen = ImageDataGenerator(rescale = 1/255.)\n",
    "\n",
    "print(\"Training images : \")\n",
    "train_data_10_percent = train_datagen.flow_from_directory(train_dir,\n",
    "                                                          target_size = IMAGE_SHAPE,\n",
    "                                                          batch_size = BATCH_SIZE,\n",
    "                                                          class_mode = \"categorical\")\n",
    "print(\"Testing images : \")\n",
    "test_data = test_datagen.flow_from_directory(test_dir,\n",
    "                                                          target_size = IMAGE_SHAPE,\n",
    "                                                          batch_size = BATCH_SIZE,\n",
    "                                                          class_mode = \"categorical\")"
   ]
  },
  {
   "cell_type": "markdown",
   "metadata": {
    "id": "mvLQ8leHrLAk"
   },
   "source": [
    "## Setting up the callbacks (things to run whilst our model trains)\n",
    "\n",
    "callbacks are extra functionality you can add to your models to be performed or after training . some of the most popular callbacks:\n",
    "* Tracking experiments with the TensorBoard callback\n",
    "* Model checkpoint with the ModelCheckpoint callback\n",
    "* Stopping a model from training ( before it train too long and overfit ) with the EarlyStopping callback"
   ]
  },
  {
   "cell_type": "code",
   "execution_count": 6,
   "metadata": {
    "id": "E6hpadYWs9bB"
   },
   "outputs": [],
   "source": [
    "# Create TensorBoard callback (functionized because we need to create a new one for each model)\n",
    "import datetime\n",
    "\n",
    "def create_tensorboard_callback (dir_name , experiment_name):\n",
    "  log_dir = dir_name + \"/\"+ experiment_name +\"/\" + datetime.datetime.now().strftime(\"%Y%m%d-%H%M%S\")\n",
    "  tensorboard_callback = tf.keras.callbacks.TensorBoard(log_dir = log_dir)\n",
    "  print (f\"Saving TensorBoard log files to {log_dir}\")\n",
    "  return tensorboard_callback"
   ]
  },
  {
   "cell_type": "markdown",
   "metadata": {
    "id": "_A3IlFcswtq_"
   },
   "source": [
    "## Creating models using TensorFlow Hub\n",
    "\n",
    "In the past we have used TensorFlow to create our own models layers by layers from scratch .\n",
    "\n",
    "Now we are going to do a similar process , except the majority of our models layers are going to come TensorFlow Hub.\n",
    "\n",
    "We can access pretrained model on [TFHub.dev](https://tfhub.dev/)\n",
    "\n",
    "Browsing the TensorFlow Hub page and sorting for image classcification we found the following features vector model link:\n",
    "\n",
    "https://tfhub.dev/tensorflow/efficientnet/b0/feature-vector/1\n"
   ]
  },
  {
   "cell_type": "code",
   "execution_count": 7,
   "metadata": {
    "id": "n8SjscIjxPpd"
   },
   "outputs": [],
   "source": [
    "# Lets compare the following two model\n",
    "\n",
    "resnet_url = \"https://tfhub.dev/google/imagenet/resnet_v2_50/feature_vector/4\"\n",
    "\n",
    "efficientnet_url = \"https://tfhub.dev/tensorflow/efficientnet/b0/feature-vector/1\""
   ]
  },
  {
   "cell_type": "code",
   "execution_count": 1,
   "metadata": {
    "id": "gjccu4Za2z0Z"
   },
   "outputs": [],
   "source": [
    "# Import dependencies\n",
    "import tensorflow as tf\n",
    "import tensorflow_hub as hub\n",
    "from tensorflow.keras import layers"
   ]
  },
  {
   "cell_type": "code",
   "execution_count": 10,
   "metadata": {
    "id": "qe6W5JMO3TvC"
   },
   "outputs": [],
   "source": [
    "# Lets make a create_model () function to create a model from a URL\n",
    "def create_model (model_url , num_classes = 10):\n",
    "  \"\"\"\n",
    "  Takes a TensorFlow Hub URL and create a Keras Sequential model with it\n",
    "\n",
    "  Args :\n",
    "    model url (str): A TensorFlow Hub feature extraction URL.\n",
    "    num_classes (int): Number of output neurons in the output layer,\n",
    "      should be equal to number of target classes, default 10.\n",
    "\n",
    "  Returns:\n",
    "    An uncompiled Keras Sequential model with model url as feature extractor\n",
    "    layer and Dense output layer with num classes output neurons\n",
    "  \"\"\"\n",
    "  # Download the pretained model and save it as keras layers\n",
    "  feature_extractor_layer = hub.KerasLayer(model_url,\n",
    "                                           trainable = False, # freeze already learned patterns\n",
    "                                           name = \"feature_extraction_layers\",\n",
    "                                           input_shape = IMAGE_SHAPE+(3,))\n",
    "\n",
    "  # Craete our own model\n",
    "  model = tf.keras.Sequential([\n",
    "      feature_extractor_layer,\n",
    "      layers.Dense(num_classes, activation = tf.keras.activations.softmax,name = \"output_layers\")\n",
    "  ])\n",
    "\n",
    "  return model"
   ]
  },
  {
   "cell_type": "markdown",
   "metadata": {
    "id": "EWIs1IWc5t4W"
   },
   "source": [
    "### Creating a ResNet TensorFlow Hub Feature Extraction model"
   ]
  },
  {
   "cell_type": "code",
   "execution_count": 13,
   "metadata": {
    "id": "ahCUmbJh5mdU"
   },
   "outputs": [],
   "source": [
    "# Create a Resnet model\n",
    "resnet_model = create_model (resnet_url , num_classes = train_data_10_percent.num_classes)"
   ]
  },
  {
   "cell_type": "code",
   "execution_count": 14,
   "metadata": {
    "colab": {
     "base_uri": "https://localhost:8080/"
    },
    "id": "oq6M6M416k0Z",
    "outputId": "3acdcf49-5675-4fca-b26c-4c365aa15ec2"
   },
   "outputs": [
    {
     "name": "stdout",
     "output_type": "stream",
     "text": [
      "Model: \"sequential_1\"\n",
      "_________________________________________________________________\n",
      "Layer (type)                 Output Shape              Param #   \n",
      "=================================================================\n",
      "feature_extraction_layers (K (None, 2048)              23564800  \n",
      "_________________________________________________________________\n",
      "output_layers (Dense)        (None, 10)                20490     \n",
      "=================================================================\n",
      "Total params: 23,585,290\n",
      "Trainable params: 20,490\n",
      "Non-trainable params: 23,564,800\n",
      "_________________________________________________________________\n"
     ]
    }
   ],
   "source": [
    "resnet_model.summary()"
   ]
  },
  {
   "cell_type": "code",
   "execution_count": 15,
   "metadata": {
    "id": "gg1lFMIZ6wPt"
   },
   "outputs": [],
   "source": [
    "# Compile our resnet model\n",
    "resnet_model.compile (loss = tf.keras.losses.CategoricalCrossentropy(),\n",
    "                      optimizer = tf.keras.optimizers.Adam(),\n",
    "                      metrics = [\"accuracy\"])"
   ]
  },
  {
   "cell_type": "code",
   "execution_count": 16,
   "metadata": {
    "colab": {
     "base_uri": "https://localhost:8080/",
     "height": 505
    },
    "id": "OPr4sTkb6ROo",
    "outputId": "f42b4cf8-3be1-4d03-bd1c-5e6a4744de1e"
   },
   "outputs": [
    {
     "name": "stdout",
     "output_type": "stream",
     "text": [
      "Saving TensorBoard log files to tensorflow_hub/resnet50v2/20240222-094744\n",
      "Epoch 1/5\n",
      " 1/24 [>.............................] - ETA: 0s - loss: 2.9338 - accuracy: 0.0000e+00WARNING:tensorflow:From /home/muneeb/.local/lib/python3.6/site-packages/tensorflow/python/ops/summary_ops_v2.py:1277: stop (from tensorflow.python.eager.profiler) is deprecated and will be removed after 2020-07-01.\n",
      "Instructions for updating:\n",
      "use `tf.profiler.experimental.stop` instead.\n"
     ]
    },
    {
     "name": "stderr",
     "output_type": "stream",
     "text": [
      "WARNING:tensorflow:From /home/muneeb/.local/lib/python3.6/site-packages/tensorflow/python/ops/summary_ops_v2.py:1277: stop (from tensorflow.python.eager.profiler) is deprecated and will be removed after 2020-07-01.\n",
      "Instructions for updating:\n",
      "use `tf.profiler.experimental.stop` instead.\n"
     ]
    },
    {
     "name": "stdout",
     "output_type": "stream",
     "text": [
      "24/24 [==============================] - 82s 3s/step - loss: 1.9376 - accuracy: 0.3493 - val_loss: 1.1483 - val_accuracy: 0.6576\n",
      "Epoch 2/5\n",
      "24/24 [==============================] - 85s 4s/step - loss: 0.8991 - accuracy: 0.7280 - val_loss: 0.8326 - val_accuracy: 0.7316\n",
      "Epoch 3/5\n",
      "24/24 [==============================] - 88s 4s/step - loss: 0.6109 - accuracy: 0.8320 - val_loss: 0.7390 - val_accuracy: 0.7560\n",
      "Epoch 4/5\n",
      "24/24 [==============================] - 94s 4s/step - loss: 0.4628 - accuracy: 0.8893 - val_loss: 0.6887 - val_accuracy: 0.7772\n",
      "Epoch 5/5\n",
      "24/24 [==============================] - 79s 3s/step - loss: 0.3742 - accuracy: 0.9173 - val_loss: 0.6875 - val_accuracy: 0.7760\n"
     ]
    }
   ],
   "source": [
    "# Lets fit our ResNet model to the data (10% of 10 clases)\n",
    "resnet_history = resnet_model.fit (train_data_10_percent,\n",
    "                                   epochs = 5,\n",
    "                                   steps_per_epoch = len(train_data_10_percent),\n",
    "                                   validation_data = test_data,\n",
    "                                   validation_steps = len (test_data) ,\n",
    "                                   callbacks = [create_tensorboard_callback (dir_name = \"tensorflow_hub\" ,\n",
    "                                                                             experiment_name = \"resnet50v2\"\n",
    "                                                                             )])"
   ]
  },
  {
   "cell_type": "markdown",
   "metadata": {
    "id": "qKxl-MqT8ecJ"
   },
   "source": [
    "Wow!\n",
    "\n",
    "“That. Is. Incredible. Our transfer learning feature extractor model out performed ALL of the previous models we built by hand... (substantially)\n",
    "‘and in a quicker training time AND with only 10% of the trainig example"
   ]
  },
  {
   "cell_type": "code",
   "execution_count": 17,
   "metadata": {
    "id": "qe9IyP-mFH9f"
   },
   "outputs": [],
   "source": [
    "#  Lets create a function to plot our loss curves...\n",
    "#Tidbit: you could put a function like this into a script called \"helper.py\" and import it when  you need it...\n",
    "import matplotlib.pyplot as plt\n",
    "\n",
    "# plot the validation and training curves\n",
    "def plot_loss_curves(history):\n",
    "  \"\"\"\n",
    "  Returns separate loss curves for training and validation metrics.\n",
    "\n",
    "  Args:\n",
    "    history : TensorFlow History object .\n",
    "\n",
    "  Returns:\n",
    "    Plots of training/validation loss and accuracy metrics.\n",
    "  \"\"\"\n",
    "  loss = history.history[\"loss\"]\n",
    "  val_loss = history.history[\"val_loss\"]\n",
    "\n",
    "  accuracy = history.history[\"accuracy\"]\n",
    "  val_accuracy = history.history[\"val_accuracy\"]\n",
    "\n",
    "  epochs = range(len(history.history[\"loss\"]))\n",
    "  # plot the loss\n",
    "  plt.plot(epochs, loss, label = \"training_loss\" )\n",
    "  plt.plot(epochs, val_loss, label = \"val_loss\" )\n",
    "  plt.title (\"Loss\")\n",
    "  plt.xlabel (\"Epochs\")\n",
    "  plt.legend()\n",
    "\n",
    "  # Plot the accuracy\n",
    "  plt.figure()\n",
    "  plt.plot(epochs, accuracy, label = \"accuracy\" )\n",
    "  plt.plot(epochs, val_accuracy, label = \"val_accuracy\" )\n",
    "  plt.title (\"Accuracy\")\n",
    "  plt.xlabel (\"Epochs\")\n",
    "  plt.legend()"
   ]
  },
  {
   "cell_type": "code",
   "execution_count": 18,
   "metadata": {
    "id": "W0LB9MaKHkUE"
   },
   "outputs": [
    {
     "data": {
      "image/png": "[encoded data removed]",
      "text/plain": [
       "<Figure size 432x288 with 1 Axes>"
      ]
     },
     "metadata": {
      "needs_background": "light"
     },
     "output_type": "display_data"
    },
    {
     "data": {
      "image/png": "[encoded data removed]",
      "text/plain": [
       "<Figure size 432x288 with 1 Axes>"
      ]
     },
     "metadata": {
      "needs_background": "light"
     },
     "output_type": "display_data"
    }
   ],
   "source": [
    "plot_loss_curves (resnet_history)"
   ]
  },
  {
   "cell_type": "markdown",
   "metadata": {},
   "source": [
    "### Creating a EfficinetNetB0 TensorFlow Hub Feature Extraction model"
   ]
  },
  {
   "cell_type": "code",
   "execution_count": 19,
   "metadata": {},
   "outputs": [
    {
     "name": "stdout",
     "output_type": "stream",
     "text": [
      "Saving TensorBoard log files to tensorflow_hub/EfficinetNetB0/20240222-095925\n",
      "Epoch 1/5\n",
      "24/24 [==============================] - 62s 3s/step - loss: 1.8557 - accuracy: 0.4320 - val_loss: 1.2852 - val_accuracy: 0.7268\n",
      "Epoch 2/5\n",
      "24/24 [==============================] - 70s 3s/step - loss: 1.0633 - accuracy: 0.7747 - val_loss: 0.8583 - val_accuracy: 0.8248\n",
      "Epoch 3/5\n",
      "24/24 [==============================] - 68s 3s/step - loss: 0.7584 - accuracy: 0.8307 - val_loss: 0.6929 - val_accuracy: 0.8456\n",
      "Epoch 4/5\n",
      "24/24 [==============================] - 69s 3s/step - loss: 0.6108 - accuracy: 0.8747 - val_loss: 0.6060 - val_accuracy: 0.8596\n",
      "Epoch 5/5\n",
      "24/24 [==============================] - 68s 3s/step - loss: 0.5168 - accuracy: 0.8893 - val_loss: 0.5523 - val_accuracy: 0.8680\n"
     ]
    }
   ],
   "source": [
    "#  create a EfficinetNetB0 feature exatractor model\n",
    "efficinetnet_model = create_model (model_url = efficientnet_url ,\n",
    "                                   num_classes = train_data_10_percent.num_classes)\n",
    "\n",
    "\n",
    "# Compile our EfficinetNetB0 model\n",
    "efficinetnet_model.compile (loss = tf.keras.losses.CategoricalCrossentropy(),\n",
    "                      optimizer = tf.keras.optimizers.Adam(),\n",
    "                      metrics = [\"accuracy\"])\n",
    "\n",
    "# Fit EfficinetNetB0 model to 10% of training data \n",
    "efficinetnet_history = efficinetnet_model.fit (train_data_10_percent,\n",
    "                                   epochs = 5,\n",
    "                                   steps_per_epoch = len(train_data_10_percent),\n",
    "                                   validation_data = test_data,\n",
    "                                   validation_steps = len (test_data) ,\n",
    "                                   callbacks = [create_tensorboard_callback (dir_name = \"tensorflow_hub\" ,\n",
    "                                                                             experiment_name = \"EfficinetNetB0\"\n",
    "                                                                             )])"
   ]
  },
  {
   "cell_type": "code",
   "execution_count": 20,
   "metadata": {},
   "outputs": [
    {
     "data": {
      "image/png": "[encoded data removed]",
      "text/plain": [
       "<Figure size 432x288 with 1 Axes>"
      ]
     },
     "metadata": {
      "needs_background": "light"
     },
     "output_type": "display_data"
    },
    {
     "data": {
      "image/png": "[encoded data removed]",
      "text/plain": [
       "<Figure size 432x288 with 1 Axes>"
      ]
     },
     "metadata": {
      "needs_background": "light"
     },
     "output_type": "display_data"
    }
   ],
   "source": [
    "plot_loss_curves (efficinetnet_history)"
   ]
  },
  {
   "cell_type": "code",
   "execution_count": 21,
   "metadata": {},
   "outputs": [
    {
     "name": "stdout",
     "output_type": "stream",
     "text": [
      "Model: \"sequential_2\"\n",
      "_________________________________________________________________\n",
      "Layer (type)                 Output Shape              Param #   \n",
      "=================================================================\n",
      "feature_extraction_layers (K (None, 1280)              4049564   \n",
      "_________________________________________________________________\n",
      "output_layers (Dense)        (None, 10)                12810     \n",
      "=================================================================\n",
      "Total params: 4,062,374\n",
      "Trainable params: 12,810\n",
      "Non-trainable params: 4,049,564\n",
      "_________________________________________________________________\n"
     ]
    }
   ],
   "source": [
    "efficinetnet_model.summary()"
   ]
  },
  {
   "cell_type": "code",
   "execution_count": 22,
   "metadata": {},
   "outputs": [
    {
     "name": "stdout",
     "output_type": "stream",
     "text": [
      "Model: \"sequential_1\"\n",
      "_________________________________________________________________\n",
      "Layer (type)                 Output Shape              Param #   \n",
      "=================================================================\n",
      "feature_extraction_layers (K (None, 2048)              23564800  \n",
      "_________________________________________________________________\n",
      "output_layers (Dense)        (None, 10)                20490     \n",
      "=================================================================\n",
      "Total params: 23,585,290\n",
      "Trainable params: 20,490\n",
      "Non-trainable params: 23,564,800\n",
      "_________________________________________________________________\n"
     ]
    }
   ],
   "source": [
    "resnet_model.summary()"
   ]
  },
  {
   "cell_type": "markdown",
   "metadata": {},
   "source": [
    "## Different type of transfer learning\n",
    "\n",
    "* **\"As is\" transfer learning** - using an existing model with no changes what so ever (e.g using InageNet model on 1000 Imagent classes, none of your own)\n",
    "* **\"Feature extraction” transfer learning** - use the prelearned patterns of an existing model (e.g. EficientNetB0 trained on InageNet) and adjust the output layer for your own problem (e.g  1000 classes --> 10 classes of food)\n",
    "* **\"Fine-tuning\" transfer learning** - use the pre-learned patterns of an existing model and \"fine-tune\" many or all of the underlying layers (including new output layers)"
   ]
  },
  {
   "cell_type": "code",
   "execution_count": 27,
   "metadata": {},
   "outputs": [
    {
     "data": {
      "text/plain": [
       "309"
      ]
     },
     "execution_count": 27,
     "metadata": {},
     "output_type": "execute_result"
    }
   ],
   "source": [
    "# How many layers does our efficientnetb0 feature extractor have?\n",
    "len (efficinetnet_model.layers[0].weights)"
   ]
  },
  {
   "cell_type": "markdown",
   "metadata": {},
   "source": [
    "## Comparing our models results using TensorBoard\n",
    "\n",
    ">  Note: When you upload things to TensorBoard.dev, you experiments are public. So if you're running private experiments (things\n",
    "you don't want others to se) do not upload the to TensorBoard.dev."
   ]
  },
  {
   "cell_type": "code",
   "execution_count": 3,
   "metadata": {},
   "outputs": [],
   "source": [
    "from keras.callbacks import TensorBoard"
   ]
  },
  {
   "cell_type": "code",
   "execution_count": 4,
   "metadata": {},
   "outputs": [
    {
     "name": "stdout",
     "output_type": "stream",
     "text": [
      "/media/muneeb/muneeb_harddisk/Thesis/TensorFlow_ Developer_Certificate_Zero_to_Mastery/DL\r\n"
     ]
    }
   ],
   "source": [
    "!pwd"
   ]
  },
  {
   "cell_type": "code",
   "execution_count": 5,
   "metadata": {},
   "outputs": [
    {
     "name": "stdout",
     "output_type": "stream",
     "text": [
      "2024-02-22 10:47:40.541345: W tensorflow/stream_executor/platform/default/dso_loader.cc:59] Could not load dynamic library 'libcudart.so.10.1'; dlerror: libcudart.so.10.1: cannot open shared object file: No such file or directory\n",
      "2024-02-22 10:47:40.541363: I tensorflow/stream_executor/cuda/cudart_stub.cc:29] Ignore above cudart dlerror if you do not have a GPU set up on your machine.\n",
      "usage: tensorboard [-h] [--helpfull] {serve,dev} ...\n",
      "tensorboard: error: unrecognized arguments: Developer_Certificate_Zero_to_Mastery/DL/tensorflow_hub/--name EfficientNetB0 vs. ResNet50V2 --discription Comparing two different TF HUB feature extraction model architecture using 10% of the training data\n"
     ]
    }
   ],
   "source": [
    "#  Upload TensorBoard dev records\n",
    "!tensorboard dev upload --logdir ./media/muneeb/muneeb_harddisk/Thesis/TensorFlow_ Developer_Certificate_Zero_to_Mastery/DL/tensorflow_hub/--name \"EfficientNetB0 vs. ResNet50V2\" --discription \"Comparing two different TF HUB feature extraction model architecture using 10% of the training data\" --one_shot"
   ]
  },
  {
   "cell_type": "code",
   "execution_count": 6,
   "metadata": {},
   "outputs": [
    {
     "name": "stdout",
     "output_type": "stream",
     "text": [
      "2024-02-22 11:04:46.571447: W tensorflow/stream_executor/platform/default/dso_loader.cc:59] Could not load dynamic library 'libcudart.so.10.1'; dlerror: libcudart.so.10.1: cannot open shared object file: No such file or directory\n",
      "2024-02-22 11:04:46.571505: I tensorflow/stream_executor/cuda/cudart_stub.cc:29] Ignore above cudart dlerror if you do not have a GPU set up on your machine.\n",
      "\n",
      "***** TensorBoard Uploader *****\n",
      "\n",
      "This will list all experiments that you've uploaded to\n",
      "https://tensorboard.dev. TensorBoard.dev experiments are visible\n",
      "to everyone. Do not upload sensitive data.\n",
      "\n",
      "Your use of this service is subject to Google's Terms of Service\n",
      "<https://policies.google.com/terms> and Privacy Policy\n",
      "<https://policies.google.com/privacy>, and TensorBoard.dev's Terms of Service\n",
      "<https://tensorboard.dev/policy/terms/>.\n",
      "\n",
      "This notice will not be shown again while you are logged into the uploader.\n",
      "To log out, run `tensorboard dev auth revoke`.\n",
      "\n",
      "Continue? (yes/NO) ^C\n",
      "Traceback (most recent call last):\n",
      "  File \"/home/muneeb/.local/bin/tensorboard\", line 8, in <module>\n",
      "    sys.exit(run_main())\n",
      "  File \"/home/muneeb/.local/lib/python3.6/site-packages/tensorboard/main.py\", line 46, in run_main\n",
      "    app.run(tensorboard.main, flags_parser=tensorboard.configure)\n",
      "  File \"/home/muneeb/.local/lib/python3.6/site-packages/absl/app.py\", line 312, in run\n",
      "    _run_main(main, args)\n",
      "  File \"/home/muneeb/.local/lib/python3.6/site-packages/absl/app.py\", line 258, in _run_main\n",
      "    sys.exit(main(argv))\n",
      "  File \"/home/muneeb/.local/lib/python3.6/site-packages/tensorboard/program.py\", line 276, in main\n",
      "    return runner(self.flags) or 0\n",
      "  File \"/home/muneeb/.local/lib/python3.6/site-packages/tensorboard/uploader/uploader_subcommand.py\", line 692, in run\n",
      "    return _run(flags, self._experiment_url_callback)\n",
      "  File \"/home/muneeb/.local/lib/python3.6/site-packages/tensorboard/uploader/uploader_subcommand.py\", line 94, in _run\n",
      "    _prompt_for_user_ack(intent)\n",
      "  File \"/home/muneeb/.local/lib/python3.6/site-packages/tensorboard/uploader/uploader_subcommand.py\", line 67, in _prompt_for_user_ack\n",
      "    response = input(\"Continue? (yes/NO) \")\n",
      "KeyboardInterrupt\n"
     ]
    }
   ],
   "source": [
    "# Check out what TensorBoard experiments you have\n",
    "!tensorboard dev list"
   ]
  },
  {
   "cell_type": "code",
   "execution_count": null,
   "metadata": {},
   "outputs": [],
   "source": [
    "# Delete an experiment\n",
    "!tensorboard dev delete --experiment_id dQBrpdwIRgS2qT0AndvEYg"
   ]
  },
  {
   "cell_type": "code",
   "execution_count": null,
   "metadata": {},
   "outputs": [],
   "source": [
    "# Confirm the deletion by re-checking what experiments you have left\n",
    "!tensorboard dev list"
   ]
  }
 ],
 "metadata": {
  "accelerator": "GPU",
  "colab": {
   "gpuType": "T4",
   "provenance": []
  },
  "kernelspec": {
   "display_name": "Python 3",
   "language": "python",
   "name": "python3"
  },
  "language_info": {
   "codemirror_mode": {
    "name": "ipython",
    "version": 3
   },
   "file_extension": ".py",
   "mimetype": "text/x-python",
   "name": "python",
   "nbconvert_exporter": "python",
   "pygments_lexer": "ipython3",
   "version": "3.6.9"
  }
 },
 "nbformat": 4,
 "nbformat_minor": 1
}
